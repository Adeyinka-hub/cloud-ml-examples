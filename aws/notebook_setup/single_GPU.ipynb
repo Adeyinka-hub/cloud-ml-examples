{
 "cells": [
  {
   "cell_type": "markdown",
   "metadata": {},
   "source": [
    "# <font color='#8735fb'> **RAPIDS Single-GPU Workflow - XGBoost @ Airline Delays** </font> "
   ]
  },
  {
   "cell_type": "markdown",
   "metadata": {},
   "source": [
    "<img src='https://raw.githubusercontent.com/rapidsai/cloud-ml-examples/main/aws/img/airline_dataset.png' width='1250px'>"
   ]
  },
  {
   "cell_type": "markdown",
   "metadata": {},
   "source": [
    "> **1. Mount S3 Dataset**\n",
    "\n",
    "> **2. Data Ingestion**\n",
    "\n",
    "> **3. ETL**\n",
    "-> handle missing -> split\n",
    "\n",
    "> **4. Train Classifier**\n",
    "-> XGBoost\n",
    "\n",
    "> **5. Inference**\n",
    "-> FIL"
   ]
  },
  {
   "cell_type": "code",
   "execution_count": 1,
   "metadata": {},
   "outputs": [],
   "source": [
    "import time\n",
    "import cudf \n",
    "import xgboost\n",
    "import joblib\n",
    "from cuml.preprocessing.model_selection import train_test_split\n",
    "from cuml.ensemble import RandomForestClassifier\n",
    "from cuml.metrics import accuracy_score\n",
    "import glob"
   ]
  },
  {
   "cell_type": "markdown",
   "metadata": {},
   "source": [
    "### <font color='#8735fb'> **Mount S3 Dataset** </font>"
   ]
  },
  {
   "cell_type": "code",
   "execution_count": 2,
   "metadata": {},
   "outputs": [
    {
     "name": "stdout",
     "output_type": "stream",
     "text": [
      "--2020-10-21 14:49:34--  https://sagemaker-rapids-hpo-us-west-2.s3-us-west-2.amazonaws.com/2_year_2020.tar.gz\n",
      "Resolving sagemaker-rapids-hpo-us-west-2.s3-us-west-2.amazonaws.com (sagemaker-rapids-hpo-us-west-2.s3-us-west-2.amazonaws.com)... 52.218.253.89\n",
      "Connecting to sagemaker-rapids-hpo-us-west-2.s3-us-west-2.amazonaws.com (sagemaker-rapids-hpo-us-west-2.s3-us-west-2.amazonaws.com)|52.218.253.89|:443... connected.\n",
      "HTTP request sent, awaiting response... 200 OK\n",
      "Length: 98072481 (94M) [application/x-gzip]\n",
      "Saving to: ‘2_year_2020.tar.gz’\n",
      "\n",
      "2_year_2020.tar.gz  100%[===================>]  93.53M  29.8MB/s    in 3.2s    \n",
      "\n",
      "2020-10-21 14:49:37 (29.4 MB/s) - ‘2_year_2020.tar.gz’ saved [98072481/98072481]\n",
      "\n",
      "2_year_2020/\n",
      "2_year_2020/part.13.parquet\n",
      "2_year_2020/part.4.parquet\n",
      "2_year_2020/part.17.parquet\n",
      "2_year_2020/part.10.parquet\n",
      "2_year_2020/part.7.parquet\n",
      "2_year_2020/part.5.parquet\n",
      "2_year_2020/part.11.parquet\n",
      "2_year_2020/part.0.parquet\n",
      "2_year_2020/part.6.parquet\n",
      "2_year_2020/part.3.parquet\n",
      "2_year_2020/part.8.parquet\n",
      "2_year_2020/part.9.parquet\n",
      "2_year_2020/part.16.parquet\n",
      "2_year_2020/_metadata\n",
      "2_year_2020/part.14.parquet\n",
      "2_year_2020/part.2.parquet\n",
      "2_year_2020/part.1.parquet\n",
      "2_year_2020/part.15.parquet\n",
      "2_year_2020/part.12.parquet\n"
     ]
    }
   ],
   "source": [
    "!wget https://sagemaker-rapids-hpo-us-west-2.s3-us-west-2.amazonaws.com/2_year_2020.tar.gz\n",
    "!tar xvzf 2_year_2020.tar.gz"
   ]
  },
  {
   "cell_type": "markdown",
   "metadata": {},
   "source": [
    "### <font color='#8735fb'> **Ingest Parquet Data** </font>"
   ]
  },
  {
   "cell_type": "markdown",
   "metadata": {},
   "source": [
    "At the heart of our analysis will be domestic carrier on-time reporting data that has been kept for decades by the U.S. Bureau of Transportation.\n",
    "\n",
    "This rich source of data allows us to scale, so while in this notebook (ML_100.ipynb) we only use 1 GPU and 1 year of data, in the next notebook (ML200.ipynb) we'll use 10 years of data and multiple GPUs."
   ]
  },
  {
   "cell_type": "markdown",
   "metadata": {},
   "source": [
    "> **Dataset**: [US.DoT - Reporting Carrier On-Time Performance, 1987-Present](https://www.transtats.bts.gov/DL_SelectFields.asp?Table_ID=236)"
   ]
  },
  {
   "cell_type": "markdown",
   "metadata": {},
   "source": [
    "The public dataset contains logs/features about flights in the United States (17 airlines) including:\n",
    "\n",
    "* locations and distance  ( `Origin`, `Dest`, `Distance` )\n",
    "* airline / carrier ( `Reporting_Airline` )\n",
    "* scheduled departure and arrival times ( `CRSDepTime` and `CRSArrTime` )\n",
    "* actual departure and arrival times ( `DpTime` and `ArrTime` )\n",
    "* difference between scheduled & actual times ( `ArrDelay` and `DepDelay` )\n",
    "* binary encoded version of late, aka our target variable ( `ArrDelay15` )"
   ]
  },
  {
   "cell_type": "code",
   "execution_count": 3,
   "metadata": {},
   "outputs": [],
   "source": [
    "airline_feature_columns = [ 'Year', 'Quarter', 'Month', 'DayOfWeek', \n",
    "                            'Flight_Number_Reporting_Airline', 'DOT_ID_Reporting_Airline',\n",
    "                            'OriginCityMarketID', 'DestCityMarketID',\n",
    "                            'DepTime', 'DepDelay', 'DepDel15', 'ArrDel15',\n",
    "                            'AirTime', 'Distance' ]\n",
    "\n",
    "airline_label_column = 'ArrDel15'"
   ]
  },
  {
   "cell_type": "code",
   "execution_count": 4,
   "metadata": {},
   "outputs": [],
   "source": [
    "file_list = glob.glob( '2_year_2020/*.parquet' )"
   ]
  },
  {
   "cell_type": "code",
   "execution_count": 5,
   "metadata": {},
   "outputs": [
    {
     "name": "stdout",
     "output_type": "stream",
     "text": [
      "CPU times: user 1.22 s, sys: 638 ms, total: 1.86 s\n",
      "Wall time: 2.11 s\n"
     ]
    }
   ],
   "source": [
    "%%time\n",
    "data = cudf.read_parquet( file_list, \n",
    "                          columns = airline_feature_columns)"
   ]
  },
  {
   "cell_type": "code",
   "execution_count": 6,
   "metadata": {},
   "outputs": [
    {
     "data": {
      "text/html": [
       "<div>\n",
       "<style scoped>\n",
       "    .dataframe tbody tr th:only-of-type {\n",
       "        vertical-align: middle;\n",
       "    }\n",
       "\n",
       "    .dataframe tbody tr th {\n",
       "        vertical-align: top;\n",
       "    }\n",
       "\n",
       "    .dataframe thead th {\n",
       "        text-align: right;\n",
       "    }\n",
       "</style>\n",
       "<table border=\"1\" class=\"dataframe\">\n",
       "  <thead>\n",
       "    <tr style=\"text-align: right;\">\n",
       "      <th></th>\n",
       "      <th>Year</th>\n",
       "      <th>Quarter</th>\n",
       "      <th>Month</th>\n",
       "      <th>DayOfWeek</th>\n",
       "      <th>Flight_Number_Reporting_Airline</th>\n",
       "      <th>DOT_ID_Reporting_Airline</th>\n",
       "      <th>OriginCityMarketID</th>\n",
       "      <th>DestCityMarketID</th>\n",
       "      <th>DepTime</th>\n",
       "      <th>DepDelay</th>\n",
       "      <th>DepDel15</th>\n",
       "      <th>ArrDel15</th>\n",
       "      <th>AirTime</th>\n",
       "      <th>Distance</th>\n",
       "    </tr>\n",
       "  </thead>\n",
       "  <tbody>\n",
       "    <tr>\n",
       "      <th>0</th>\n",
       "      <td>2019.0</td>\n",
       "      <td>3.0</td>\n",
       "      <td>8.0</td>\n",
       "      <td>4.0</td>\n",
       "      <td>31.0</td>\n",
       "      <td>19790.0</td>\n",
       "      <td>30397.0</td>\n",
       "      <td>30194.0</td>\n",
       "      <td>2025.0</td>\n",
       "      <td>31.0</td>\n",
       "      <td>1</td>\n",
       "      <td>1</td>\n",
       "      <td>102.0</td>\n",
       "      <td>731.0</td>\n",
       "    </tr>\n",
       "    <tr>\n",
       "      <th>1</th>\n",
       "      <td>2019.0</td>\n",
       "      <td>3.0</td>\n",
       "      <td>8.0</td>\n",
       "      <td>4.0</td>\n",
       "      <td>32.0</td>\n",
       "      <td>19790.0</td>\n",
       "      <td>30194.0</td>\n",
       "      <td>30397.0</td>\n",
       "      <td>1706.0</td>\n",
       "      <td>-3.0</td>\n",
       "      <td>0</td>\n",
       "      <td>0</td>\n",
       "      <td>102.0</td>\n",
       "      <td>731.0</td>\n",
       "    </tr>\n",
       "    <tr>\n",
       "      <th>2</th>\n",
       "      <td>2019.0</td>\n",
       "      <td>3.0</td>\n",
       "      <td>8.0</td>\n",
       "      <td>4.0</td>\n",
       "      <td>54.0</td>\n",
       "      <td>19790.0</td>\n",
       "      <td>31453.0</td>\n",
       "      <td>30397.0</td>\n",
       "      <td>1829.0</td>\n",
       "      <td>40.0</td>\n",
       "      <td>1</td>\n",
       "      <td>1</td>\n",
       "      <td>102.0</td>\n",
       "      <td>689.0</td>\n",
       "    </tr>\n",
       "    <tr>\n",
       "      <th>3</th>\n",
       "      <td>2019.0</td>\n",
       "      <td>3.0</td>\n",
       "      <td>8.0</td>\n",
       "      <td>4.0</td>\n",
       "      <td>68.0</td>\n",
       "      <td>19790.0</td>\n",
       "      <td>34057.0</td>\n",
       "      <td>34614.0</td>\n",
       "      <td>1306.0</td>\n",
       "      <td>-4.0</td>\n",
       "      <td>0</td>\n",
       "      <td>0</td>\n",
       "      <td>94.0</td>\n",
       "      <td>630.0</td>\n",
       "    </tr>\n",
       "    <tr>\n",
       "      <th>4</th>\n",
       "      <td>2019.0</td>\n",
       "      <td>3.0</td>\n",
       "      <td>8.0</td>\n",
       "      <td>4.0</td>\n",
       "      <td>69.0</td>\n",
       "      <td>19790.0</td>\n",
       "      <td>34614.0</td>\n",
       "      <td>34057.0</td>\n",
       "      <td>820.0</td>\n",
       "      <td>-9.0</td>\n",
       "      <td>0</td>\n",
       "      <td>0</td>\n",
       "      <td>84.0</td>\n",
       "      <td>630.0</td>\n",
       "    </tr>\n",
       "    <tr>\n",
       "      <th>...</th>\n",
       "      <td>...</td>\n",
       "      <td>...</td>\n",
       "      <td>...</td>\n",
       "      <td>...</td>\n",
       "      <td>...</td>\n",
       "      <td>...</td>\n",
       "      <td>...</td>\n",
       "      <td>...</td>\n",
       "      <td>...</td>\n",
       "      <td>...</td>\n",
       "      <td>...</td>\n",
       "      <td>...</td>\n",
       "      <td>...</td>\n",
       "      <td>...</td>\n",
       "    </tr>\n",
       "    <tr>\n",
       "      <th>9969606</th>\n",
       "      <td>2019.0</td>\n",
       "      <td>3.0</td>\n",
       "      <td>7.0</td>\n",
       "      <td>1.0</td>\n",
       "      <td>2980.0</td>\n",
       "      <td>20368.0</td>\n",
       "      <td>30647.0</td>\n",
       "      <td>33667.0</td>\n",
       "      <td>1409.0</td>\n",
       "      <td>-20.0</td>\n",
       "      <td>0</td>\n",
       "      <td>0</td>\n",
       "      <td>65.0</td>\n",
       "      <td>435.0</td>\n",
       "    </tr>\n",
       "    <tr>\n",
       "      <th>9969607</th>\n",
       "      <td>2019.0</td>\n",
       "      <td>3.0</td>\n",
       "      <td>7.0</td>\n",
       "      <td>6.0</td>\n",
       "      <td>2198.0</td>\n",
       "      <td>20368.0</td>\n",
       "      <td>31066.0</td>\n",
       "      <td>31136.0</td>\n",
       "      <td>1525.0</td>\n",
       "      <td>-5.0</td>\n",
       "      <td>0</td>\n",
       "      <td>0</td>\n",
       "      <td>86.0</td>\n",
       "      <td>646.0</td>\n",
       "    </tr>\n",
       "    <tr>\n",
       "      <th>9969608</th>\n",
       "      <td>2019.0</td>\n",
       "      <td>3.0</td>\n",
       "      <td>7.0</td>\n",
       "      <td>1.0</td>\n",
       "      <td>2319.0</td>\n",
       "      <td>20368.0</td>\n",
       "      <td>33342.0</td>\n",
       "      <td>34761.0</td>\n",
       "      <td>1356.0</td>\n",
       "      <td>3.0</td>\n",
       "      <td>0</td>\n",
       "      <td>0</td>\n",
       "      <td>144.0</td>\n",
       "      <td>1045.0</td>\n",
       "    </tr>\n",
       "    <tr>\n",
       "      <th>9969609</th>\n",
       "      <td>2019.0</td>\n",
       "      <td>3.0</td>\n",
       "      <td>7.0</td>\n",
       "      <td>6.0</td>\n",
       "      <td>2995.0</td>\n",
       "      <td>20368.0</td>\n",
       "      <td>30647.0</td>\n",
       "      <td>34685.0</td>\n",
       "      <td>2015.0</td>\n",
       "      <td>-22.0</td>\n",
       "      <td>0</td>\n",
       "      <td>0</td>\n",
       "      <td>98.0</td>\n",
       "      <td>641.0</td>\n",
       "    </tr>\n",
       "    <tr>\n",
       "      <th>9969610</th>\n",
       "      <td>2019.0</td>\n",
       "      <td>3.0</td>\n",
       "      <td>7.0</td>\n",
       "      <td>4.0</td>\n",
       "      <td>2312.0</td>\n",
       "      <td>20368.0</td>\n",
       "      <td>35412.0</td>\n",
       "      <td>34761.0</td>\n",
       "      <td>1522.0</td>\n",
       "      <td>-6.0</td>\n",
       "      <td>0</td>\n",
       "      <td>0</td>\n",
       "      <td>68.0</td>\n",
       "      <td>511.0</td>\n",
       "    </tr>\n",
       "  </tbody>\n",
       "</table>\n",
       "<p>9969611 rows × 14 columns</p>\n",
       "</div>"
      ],
      "text/plain": [
       "           Year  Quarter  Month  DayOfWeek  Flight_Number_Reporting_Airline  \\\n",
       "0        2019.0      3.0    8.0        4.0                             31.0   \n",
       "1        2019.0      3.0    8.0        4.0                             32.0   \n",
       "2        2019.0      3.0    8.0        4.0                             54.0   \n",
       "3        2019.0      3.0    8.0        4.0                             68.0   \n",
       "4        2019.0      3.0    8.0        4.0                             69.0   \n",
       "...         ...      ...    ...        ...                              ...   \n",
       "9969606  2019.0      3.0    7.0        1.0                           2980.0   \n",
       "9969607  2019.0      3.0    7.0        6.0                           2198.0   \n",
       "9969608  2019.0      3.0    7.0        1.0                           2319.0   \n",
       "9969609  2019.0      3.0    7.0        6.0                           2995.0   \n",
       "9969610  2019.0      3.0    7.0        4.0                           2312.0   \n",
       "\n",
       "         DOT_ID_Reporting_Airline  OriginCityMarketID  DestCityMarketID  \\\n",
       "0                         19790.0             30397.0           30194.0   \n",
       "1                         19790.0             30194.0           30397.0   \n",
       "2                         19790.0             31453.0           30397.0   \n",
       "3                         19790.0             34057.0           34614.0   \n",
       "4                         19790.0             34614.0           34057.0   \n",
       "...                           ...                 ...               ...   \n",
       "9969606                   20368.0             30647.0           33667.0   \n",
       "9969607                   20368.0             31066.0           31136.0   \n",
       "9969608                   20368.0             33342.0           34761.0   \n",
       "9969609                   20368.0             30647.0           34685.0   \n",
       "9969610                   20368.0             35412.0           34761.0   \n",
       "\n",
       "         DepTime  DepDelay  DepDel15 ArrDel15 AirTime  Distance  \n",
       "0         2025.0      31.0         1        1   102.0     731.0  \n",
       "1         1706.0      -3.0         0        0   102.0     731.0  \n",
       "2         1829.0      40.0         1        1   102.0     689.0  \n",
       "3         1306.0      -4.0         0        0    94.0     630.0  \n",
       "4          820.0      -9.0         0        0    84.0     630.0  \n",
       "...          ...       ...       ...      ...     ...       ...  \n",
       "9969606   1409.0     -20.0         0        0    65.0     435.0  \n",
       "9969607   1525.0      -5.0         0        0    86.0     646.0  \n",
       "9969608   1356.0       3.0         0        0   144.0    1045.0  \n",
       "9969609   2015.0     -22.0         0        0    98.0     641.0  \n",
       "9969610   1522.0      -6.0         0        0    68.0     511.0  \n",
       "\n",
       "[9969611 rows x 14 columns]"
      ]
     },
     "execution_count": 6,
     "metadata": {},
     "output_type": "execute_result"
    }
   ],
   "source": [
    "data"
   ]
  },
  {
   "cell_type": "markdown",
   "metadata": {},
   "source": [
    "### <font color='#8735fb'> **Handle Missing** </font>"
   ]
  },
  {
   "cell_type": "code",
   "execution_count": 7,
   "metadata": {},
   "outputs": [
    {
     "name": "stdout",
     "output_type": "stream",
     "text": [
      "CPU times: user 3.21 ms, sys: 15.5 ms, total: 18.7 ms\n",
      "Wall time: 19.2 ms\n"
     ]
    }
   ],
   "source": [
    "%%time\n",
    "data = data.dropna()"
   ]
  },
  {
   "cell_type": "markdown",
   "metadata": {},
   "source": [
    "### <font color='#8735fb'> **Split** </font>"
   ]
  },
  {
   "cell_type": "code",
   "execution_count": 8,
   "metadata": {},
   "outputs": [],
   "source": [
    "label_column = airline_label_column\n",
    "\n",
    "train, test = train_test_split( data, random_state = 0 ) \n",
    "\n",
    "# build X [ features ], y [ labels ] for the train and test subsets\n",
    "y_train = train[label_column]; \n",
    "X_train = train.drop(label_column, axis = 1)\n",
    "y_test = test[label_column]\n",
    "X_test = test.drop(label_column, axis = 1)"
   ]
  },
  {
   "cell_type": "code",
   "execution_count": 9,
   "metadata": {},
   "outputs": [
    {
     "data": {
      "text/html": [
       "<div>\n",
       "<style scoped>\n",
       "    .dataframe tbody tr th:only-of-type {\n",
       "        vertical-align: middle;\n",
       "    }\n",
       "\n",
       "    .dataframe tbody tr th {\n",
       "        vertical-align: top;\n",
       "    }\n",
       "\n",
       "    .dataframe thead th {\n",
       "        text-align: right;\n",
       "    }\n",
       "</style>\n",
       "<table border=\"1\" class=\"dataframe\">\n",
       "  <thead>\n",
       "    <tr style=\"text-align: right;\">\n",
       "      <th></th>\n",
       "      <th>Year</th>\n",
       "      <th>Quarter</th>\n",
       "      <th>Month</th>\n",
       "      <th>DayOfWeek</th>\n",
       "      <th>Flight_Number_Reporting_Airline</th>\n",
       "      <th>DOT_ID_Reporting_Airline</th>\n",
       "      <th>OriginCityMarketID</th>\n",
       "      <th>DestCityMarketID</th>\n",
       "      <th>DepTime</th>\n",
       "      <th>DepDelay</th>\n",
       "      <th>DepDel15</th>\n",
       "      <th>AirTime</th>\n",
       "      <th>Distance</th>\n",
       "    </tr>\n",
       "  </thead>\n",
       "  <tbody>\n",
       "    <tr>\n",
       "      <th>6438450</th>\n",
       "      <td>2019.0</td>\n",
       "      <td>4.0</td>\n",
       "      <td>11.0</td>\n",
       "      <td>7.0</td>\n",
       "      <td>4023.0</td>\n",
       "      <td>20366.0</td>\n",
       "      <td>31453.0</td>\n",
       "      <td>30279.0</td>\n",
       "      <td>1832.0</td>\n",
       "      <td>-3.0</td>\n",
       "      <td>0</td>\n",
       "      <td>87.0</td>\n",
       "      <td>517.0</td>\n",
       "    </tr>\n",
       "    <tr>\n",
       "      <th>3848903</th>\n",
       "      <td>2020.0</td>\n",
       "      <td>1.0</td>\n",
       "      <td>1.0</td>\n",
       "      <td>3.0</td>\n",
       "      <td>590.0</td>\n",
       "      <td>19393.0</td>\n",
       "      <td>30423.0</td>\n",
       "      <td>33495.0</td>\n",
       "      <td>1526.0</td>\n",
       "      <td>16.0</td>\n",
       "      <td>1</td>\n",
       "      <td>56.0</td>\n",
       "      <td>444.0</td>\n",
       "    </tr>\n",
       "    <tr>\n",
       "      <th>5541659</th>\n",
       "      <td>2019.0</td>\n",
       "      <td>1.0</td>\n",
       "      <td>3.0</td>\n",
       "      <td>3.0</td>\n",
       "      <td>5647.0</td>\n",
       "      <td>20397.0</td>\n",
       "      <td>30255.0</td>\n",
       "      <td>31057.0</td>\n",
       "      <td>2100.0</td>\n",
       "      <td>108.0</td>\n",
       "      <td>1</td>\n",
       "      <td>59.0</td>\n",
       "      <td>333.0</td>\n",
       "    </tr>\n",
       "    <tr>\n",
       "      <th>9449330</th>\n",
       "      <td>2019.0</td>\n",
       "      <td>3.0</td>\n",
       "      <td>7.0</td>\n",
       "      <td>4.0</td>\n",
       "      <td>710.0</td>\n",
       "      <td>19977.0</td>\n",
       "      <td>30325.0</td>\n",
       "      <td>33570.0</td>\n",
       "      <td>1550.0</td>\n",
       "      <td>-5.0</td>\n",
       "      <td>0</td>\n",
       "      <td>116.0</td>\n",
       "      <td>853.0</td>\n",
       "    </tr>\n",
       "    <tr>\n",
       "      <th>280702</th>\n",
       "      <td>2019.0</td>\n",
       "      <td>3.0</td>\n",
       "      <td>8.0</td>\n",
       "      <td>2.0</td>\n",
       "      <td>2092.0</td>\n",
       "      <td>19977.0</td>\n",
       "      <td>30852.0</td>\n",
       "      <td>31453.0</td>\n",
       "      <td>613.0</td>\n",
       "      <td>-2.0</td>\n",
       "      <td>0</td>\n",
       "      <td>156.0</td>\n",
       "      <td>1235.0</td>\n",
       "    </tr>\n",
       "    <tr>\n",
       "      <th>...</th>\n",
       "      <td>...</td>\n",
       "      <td>...</td>\n",
       "      <td>...</td>\n",
       "      <td>...</td>\n",
       "      <td>...</td>\n",
       "      <td>...</td>\n",
       "      <td>...</td>\n",
       "      <td>...</td>\n",
       "      <td>...</td>\n",
       "      <td>...</td>\n",
       "      <td>...</td>\n",
       "      <td>...</td>\n",
       "      <td>...</td>\n",
       "    </tr>\n",
       "    <tr>\n",
       "      <th>1958842</th>\n",
       "      <td>2019.0</td>\n",
       "      <td>2.0</td>\n",
       "      <td>5.0</td>\n",
       "      <td>5.0</td>\n",
       "      <td>333.0</td>\n",
       "      <td>19805.0</td>\n",
       "      <td>30194.0</td>\n",
       "      <td>30397.0</td>\n",
       "      <td>1420.0</td>\n",
       "      <td>-2.0</td>\n",
       "      <td>0</td>\n",
       "      <td>89.0</td>\n",
       "      <td>731.0</td>\n",
       "    </tr>\n",
       "    <tr>\n",
       "      <th>2897995</th>\n",
       "      <td>2019.0</td>\n",
       "      <td>2.0</td>\n",
       "      <td>6.0</td>\n",
       "      <td>3.0</td>\n",
       "      <td>5699.0</td>\n",
       "      <td>20304.0</td>\n",
       "      <td>30325.0</td>\n",
       "      <td>30285.0</td>\n",
       "      <td>1156.0</td>\n",
       "      <td>1.0</td>\n",
       "      <td>0</td>\n",
       "      <td>42.0</td>\n",
       "      <td>250.0</td>\n",
       "    </tr>\n",
       "    <tr>\n",
       "      <th>6749668</th>\n",
       "      <td>2019.0</td>\n",
       "      <td>4.0</td>\n",
       "      <td>11.0</td>\n",
       "      <td>6.0</td>\n",
       "      <td>1918.0</td>\n",
       "      <td>19805.0</td>\n",
       "      <td>31057.0</td>\n",
       "      <td>33667.0</td>\n",
       "      <td>943.0</td>\n",
       "      <td>23.0</td>\n",
       "      <td>1</td>\n",
       "      <td>44.0</td>\n",
       "      <td>290.0</td>\n",
       "    </tr>\n",
       "    <tr>\n",
       "      <th>5792341</th>\n",
       "      <td>2019.0</td>\n",
       "      <td>2.0</td>\n",
       "      <td>4.0</td>\n",
       "      <td>1.0</td>\n",
       "      <td>1387.0</td>\n",
       "      <td>19393.0</td>\n",
       "      <td>32337.0</td>\n",
       "      <td>31454.0</td>\n",
       "      <td>1843.0</td>\n",
       "      <td>-7.0</td>\n",
       "      <td>0</td>\n",
       "      <td>105.0</td>\n",
       "      <td>829.0</td>\n",
       "    </tr>\n",
       "    <tr>\n",
       "      <th>9178232</th>\n",
       "      <td>2019.0</td>\n",
       "      <td>4.0</td>\n",
       "      <td>10.0</td>\n",
       "      <td>4.0</td>\n",
       "      <td>2070.0</td>\n",
       "      <td>19977.0</td>\n",
       "      <td>32457.0</td>\n",
       "      <td>32337.0</td>\n",
       "      <td>1827.0</td>\n",
       "      <td>104.0</td>\n",
       "      <td>1</td>\n",
       "      <td>212.0</td>\n",
       "      <td>1943.0</td>\n",
       "    </tr>\n",
       "  </tbody>\n",
       "</table>\n",
       "<p>7160281 rows × 13 columns</p>\n",
       "</div>"
      ],
      "text/plain": [
       "           Year  Quarter  Month  DayOfWeek  Flight_Number_Reporting_Airline  \\\n",
       "6438450  2019.0      4.0   11.0        7.0                           4023.0   \n",
       "3848903  2020.0      1.0    1.0        3.0                            590.0   \n",
       "5541659  2019.0      1.0    3.0        3.0                           5647.0   \n",
       "9449330  2019.0      3.0    7.0        4.0                            710.0   \n",
       "280702   2019.0      3.0    8.0        2.0                           2092.0   \n",
       "...         ...      ...    ...        ...                              ...   \n",
       "1958842  2019.0      2.0    5.0        5.0                            333.0   \n",
       "2897995  2019.0      2.0    6.0        3.0                           5699.0   \n",
       "6749668  2019.0      4.0   11.0        6.0                           1918.0   \n",
       "5792341  2019.0      2.0    4.0        1.0                           1387.0   \n",
       "9178232  2019.0      4.0   10.0        4.0                           2070.0   \n",
       "\n",
       "         DOT_ID_Reporting_Airline  OriginCityMarketID  DestCityMarketID  \\\n",
       "6438450                   20366.0             31453.0           30279.0   \n",
       "3848903                   19393.0             30423.0           33495.0   \n",
       "5541659                   20397.0             30255.0           31057.0   \n",
       "9449330                   19977.0             30325.0           33570.0   \n",
       "280702                    19977.0             30852.0           31453.0   \n",
       "...                           ...                 ...               ...   \n",
       "1958842                   19805.0             30194.0           30397.0   \n",
       "2897995                   20304.0             30325.0           30285.0   \n",
       "6749668                   19805.0             31057.0           33667.0   \n",
       "5792341                   19393.0             32337.0           31454.0   \n",
       "9178232                   19977.0             32457.0           32337.0   \n",
       "\n",
       "         DepTime  DepDelay  DepDel15  AirTime  Distance  \n",
       "6438450   1832.0      -3.0         0     87.0     517.0  \n",
       "3848903   1526.0      16.0         1     56.0     444.0  \n",
       "5541659   2100.0     108.0         1     59.0     333.0  \n",
       "9449330   1550.0      -5.0         0    116.0     853.0  \n",
       "280702     613.0      -2.0         0    156.0    1235.0  \n",
       "...          ...       ...       ...      ...       ...  \n",
       "1958842   1420.0      -2.0         0     89.0     731.0  \n",
       "2897995   1156.0       1.0         0     42.0     250.0  \n",
       "6749668    943.0      23.0         1     44.0     290.0  \n",
       "5792341   1843.0      -7.0         0    105.0     829.0  \n",
       "9178232   1827.0     104.0         1    212.0    1943.0  \n",
       "\n",
       "[7160281 rows x 13 columns]"
      ]
     },
     "execution_count": 9,
     "metadata": {},
     "output_type": "execute_result"
    }
   ],
   "source": [
    "X_train"
   ]
  },
  {
   "cell_type": "markdown",
   "metadata": {},
   "source": [
    "### <font color='#8735fb'> **Train/Fit** </font>"
   ]
  },
  {
   "cell_type": "code",
   "execution_count": 10,
   "metadata": {},
   "outputs": [],
   "source": [
    "model_params = {            \n",
    "    'max_depth' : 10,\n",
    "    'num_boost_round': 300,\n",
    "    'learning_rate': .25,\n",
    "    'gamma': 0,\n",
    "    'lambda': 1,\n",
    "    'random_state' : 0,\n",
    "    'verbosity' : 0,\n",
    "    'seed': 0,   \n",
    "    'objective' : 'binary:logistic',\n",
    "    'tree_method': 'gpu_hist'\n",
    "} "
   ]
  },
  {
   "cell_type": "code",
   "execution_count": 11,
   "metadata": {},
   "outputs": [
    {
     "name": "stdout",
     "output_type": "stream",
     "text": [
      "CPU times: user 15.4 s, sys: 368 ms, total: 15.7 s\n",
      "Wall time: 15.8 s\n"
     ]
    }
   ],
   "source": [
    "%%time\n",
    "dtrain = xgboost.DMatrix( X_train, y_train)\n",
    "trained_model = xgboost.train( model_params, dtrain, \n",
    "                                num_boost_round = model_params['num_boost_round'] )"
   ]
  },
  {
   "cell_type": "markdown",
   "metadata": {},
   "source": [
    "### <font color='#8735fb'> **Predict & Score** </font>"
   ]
  },
  {
   "cell_type": "markdown",
   "metadata": {},
   "source": [
    "### <font color='#8735fb'> **XGBoost Native Predict & Score** </font>"
   ]
  },
  {
   "cell_type": "code",
   "execution_count": 12,
   "metadata": {},
   "outputs": [],
   "source": [
    "threshold = 0.5\n",
    "dtest = xgboost.DMatrix( X_test )"
   ]
  },
  {
   "cell_type": "code",
   "execution_count": 13,
   "metadata": {},
   "outputs": [
    {
     "name": "stdout",
     "output_type": "stream",
     "text": [
      "score = 0.9511467814445496\n",
      "CPU times: user 85 ms, sys: 26.1 ms, total: 111 ms\n",
      "Wall time: 113 ms\n"
     ]
    }
   ],
   "source": [
    "%%time\n",
    "predictions = trained_model.predict( dtest)\n",
    "predictions = (predictions > threshold ) * 1.0\n",
    "score = accuracy_score ( y_test.astype('float32'),\n",
    "                         predictions.astype('float32') )\n",
    "\n",
    "print(f'score = {score}')"
   ]
  },
  {
   "cell_type": "code",
   "execution_count": 14,
   "metadata": {},
   "outputs": [],
   "source": [
    "model_filename = 'trained-model.xgb'\n",
    "trained_model.save_model( model_filename )"
   ]
  },
  {
   "cell_type": "markdown",
   "metadata": {},
   "source": [
    "### <font color='#8735fb'> **ForestInference Predict & Score** </font>"
   ]
  },
  {
   "cell_type": "code",
   "execution_count": 15,
   "metadata": {},
   "outputs": [],
   "source": [
    "from cuml import ForestInference"
   ]
  },
  {
   "cell_type": "code",
   "execution_count": 16,
   "metadata": {},
   "outputs": [],
   "source": [
    "reloaded_model = ForestInference.load( model_filename )"
   ]
  },
  {
   "cell_type": "code",
   "execution_count": 17,
   "metadata": {},
   "outputs": [
    {
     "name": "stdout",
     "output_type": "stream",
     "text": [
      "fil score = 0.9511467814445496\n",
      "CPU times: user 108 ms, sys: 18.1 ms, total: 126 ms\n",
      "Wall time: 149 ms\n"
     ]
    }
   ],
   "source": [
    "%%time \n",
    "fil_predictions = reloaded_model.predict( X_test )\n",
    "fil_predictions = ( fil_predictions > threshold ) * 1.0\n",
    "score = accuracy_score ( y_test.astype('float32'),\n",
    "                         fil_predictions.astype('float32') )\n",
    "print(f'fil score = {score}')"
   ]
  },
  {
   "cell_type": "markdown",
   "metadata": {},
   "source": [
    "### <font color='#8735fb'> **Additional References** </font>"
   ]
  },
  {
   "cell_type": "raw",
   "metadata": {},
   "source": [
    "https://distributed.dask.org/en/latest/diagnosing-performance.html\n",
    "https://distributed.dask.org/en/latest/manage-computation.html"
   ]
  },
  {
   "cell_type": "raw",
   "metadata": {},
   "source": [
    "thanks!"
   ]
  }
 ],
 "metadata": {
  "kernelspec": {
   "display_name": "Python 3",
   "language": "python",
   "name": "python3"
  },
  "language_info": {
   "codemirror_mode": {
    "name": "ipython",
    "version": 3
   },
   "file_extension": ".py",
   "mimetype": "text/x-python",
   "name": "python",
   "nbconvert_exporter": "python",
   "pygments_lexer": "ipython3",
   "version": "3.8.5"
  }
 },
 "nbformat": 4,
 "nbformat_minor": 4
}
