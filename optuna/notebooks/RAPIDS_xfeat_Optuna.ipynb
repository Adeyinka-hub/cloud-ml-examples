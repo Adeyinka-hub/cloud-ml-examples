{
 "cells": [
  {
   "cell_type": "markdown",
   "metadata": {},
   "source": [
    "# Improving model performance with xfeat, RAPIDS and Optuna\n",
    "\n",
    "\n",
    "## Introduction\n",
    "\n",
    "Feature Engineering is the processing of transforming raw data into features that can represent the underlying patterns of the data better. They can help boost the accuracy by a great deal and improve the ability of the model to generalise on unseen data. Every data scientist knows the importance feature engineering. Spending some time thinking about how best to apply and combine the available features can be very meaningful. \n",
    "\n",
    "Hyper parameter Optimisation is another such process which can help complement a good model by tuning it's hyperparameters, which can have a tremendous impact on the accuracy of the model. The time and resources required for these processes are generally the reason they're overlooked. \n",
    "\n",
    "With xfeat, RAPIDS and Optuna - we aim to bridge these gaps and elevate the performance. \n",
    "\n",
    "## What is Optuna?\n",
    "[Optuna](https://github.com/optuna/optuna) s a lightweight framework for automatic hyperparameter optimization. It provides a define-by-run API, which makes it easy to adapt to any already existing code that we have and enables high modularity and the flexibility to construct hyperparameter spaces dynamically. By simply wrapping the objective function with Optuna can help perform a parallel-distributed HPO search over a search space. As we'll see in this notebook.\n",
    "\n",
    "## What is xfeat?\n",
    "[xfeat](https://github.com/pfnet-research/xfeat) is a feature engineering & exploration library using GPUs and Optuna. It provides a scikit-learn-like API for feature engineering with support for pandas and cuDF dataframes and cuPy arrays. \n",
    "\n",
    "## What is RAPIDS?\n",
    "[RAPIDS](https://rapids.ai/about.html) framework  provides a library suite that can execute end-to-end data science pipelines entirely on GPUs.  The libraries in the framework include [cuDF](https://github.com/rapidsai/cudf) - a GPU Dataframe with pandas-like API, [cuML](https://github.com/rapidsai/cuml) - implement machine learning algorithms that provide a scikit-learn-like API and many more. You can learn more [here](https://github.com/rapidsai).\n",
    "\n",
    "In this notebook, we'll show how one can use these tools together to develop and improve a machine learning model. We'll use Airlines dataset (20M rows) to predict if a flight will be delayed or not. We'll explore how to use Optuna with RAPIDS and the speedups that we can achieve with the integration of these."
   ]
  },
  {
   "cell_type": "code",
   "execution_count": 1,
   "metadata": {},
   "outputs": [],
   "source": [
    "from cuml import LogisticRegression\n",
    "import cudf\n",
    "import optuna\n",
    "from cuml.metrics import accuracy_score\n",
    "from cuml.preprocessing.model_selection import train_test_split\n",
    "import numpy as np\n",
    "from xfeat.pipeline import Pipeline\n",
    "from xfeat.num_encoder import SelectNumerical\n",
    "from xfeat.selector import ChiSquareKBest\n",
    "from xfeat.optuna_selector import KBestThresholdExplorer, GroupCombinationExplorer\n",
    "from cuml import LogisticRegression\n",
    "from functools import partial\n",
    "import xfeat\n",
    "from sklearn.model_selection import KFold\n",
    "\n",
    "from xfeat import ArithmeticCombinations, Pipeline, SelectNumerical, LabelEncoder, SelectCategorical, TargetEncoder"
   ]
  },
  {
   "cell_type": "markdown",
   "metadata": {},
   "source": [
    "### Feature Engineering\n",
    "\n",
    "We'll be using the following functions to perform a few featur engineering tasks on the data. The `feature_engineering` function is called on the dataframe `df`, in this function we perform a simple Arithmetic Combinations on the numerical columns that adds two columns to create a new one. We specify the `operator` and `r` - r is used to indicate how many columns need to be combined.\n",
    "\n",
    "Then we call `categorical_encoding` which converts the categorical columns to numerical ones and then performs `target_encoding`. Target Encoding replaces the value with the target mean. This is helpful in classification problem to boost the model accuracy. Find more resources at the end of the notebook.\n",
    "\n",
    "You'll also notice we use `Pipeline` from xfeat to combine two or more feature engineering tasks together. This is useful to concatenate encoders sequentially.\n",
    "\n",
    "Read more about Feature Encoding and Pipelining with xfeat [here](https://github.com/pfnet-research/xfeat/blob/master/_docs/feature_encoding.md)."
   ]
  },
  {
   "cell_type": "code",
   "execution_count": 2,
   "metadata": {},
   "outputs": [],
   "source": [
    "def feature_engineering(df, target_col=\"ArrDelayBinary\"):\n",
    "    \"\"\"\n",
    "    Perform feature engineering and return a new df with engineered features\n",
    "    \"\"\"\n",
    "    df_.index = df_.index.rename('original_index')\n",
    "    df_train, df_test = train_test_split(df, train_size=0.7, random_state=np.random.seed(0), shuffle=True)\n",
    "    \n",
    "    # Have to call reset_index for TargetEncoder\n",
    "    df_train = df_train.reset_index()\n",
    "    df_test = df_test.reset_index()\n",
    "    \n",
    "    # combine into one pipeline\n",
    "    encoder = Pipeline([\n",
    "                        LabelEncoder(output_suffix=\"\",\n",
    "                                    input_cols=[\"Dest\", \"Origin\", \"UniqueCarrier\"]),\n",
    "                        TargetEncoder(target_col=target_col,\n",
    "                                      input_cols=[\"Dest\", \"Origin\", \"UniqueCarrier\"],\n",
    "                                      output_suffix=\"\"),\n",
    "                        SelectNumerical(),\n",
    "                        ArithmeticCombinations(exclude_cols=[target_col, \"original_index\"],\n",
    "                                               drop_origin=False,\n",
    "                                               operator=\"+\",\n",
    "                                               r=2,\n",
    "                                               output_suffix=\"_plus\")\n",
    "                        \n",
    "                         \n",
    "    \n",
    "                    ])\n",
    "    df_train = encoder.fit_transform(df_train)\n",
    "    df_test = encoder.transform(df_test)\n",
    "    \n",
    "    df = cudf.concat([df_train, df_test])\n",
    "    df[target_col] = df[target_col].astype('int32')\n",
    "    df = df.set_index('original_index')\n",
    "    return df"
   ]
  },
  {
   "cell_type": "markdown",
   "metadata": {},
   "source": [
    "### Feature Selection and Hyper parameter Optimisation\n",
    "\n",
    "Now that we have some new features, how do we know they are relevant for the task or represent anything meaningful? We use the feature selection process to do this. This helps in selection of a subset of features that are  most informative. This helps in simplifying the problem and ensures that we aren't overloading the system with unimportant features. Optuna provides a way to choose a `selector` which accepts a `Pipeline` object from xfeat. You can see in the `feature_selection` function we define a Pipeline that takes in an Explorer and a Selection Algorithm (`ChiSquareKBest`). We pass this to an Optuna Study object, along with an Objective function\n",
    "\n",
    "### Objective Function\n",
    "The objective function will be the one we optimize in Optuna Study. Objective funciton tries out different values for the parameters that we are tuning and saving the results in `study.trials_dataframes()`.\n",
    "\n",
    "Let's define the objective function for this HPO task by making use of the `train_and_eval()`. You can see that we simply choose a value for the parameters and call the `train_and_eval` method, making Optuna very easy to use in an existing workflow.\n",
    "\n",
    "The objective remains constant over different samplers, which are built-in options in Optuna to enable the selection of different sampling algorithms that optuna provides. Some of the available ones include - GridSampler, RandomSampler, TPESampler, etc. We'll use TPESampler for this demo, but feel free to try different samplers to notice the chnages in performance.\n",
    "\n",
    "\n",
    "### HPO Trials and Study\n",
    "Optuna uses [study](https://optuna.readthedocs.io/en/stable/reference/study.html) and [trials](https://optuna.readthedocs.io/en/stable/reference/trial.html) to keep track of the HPO experiments. Put simply, a trial is a single call of the objective function while a set of trials make up a study. We will pick the optimal performing trial from a study to get the best parameters that were used in that run."
   ]
  },
  {
   "cell_type": "code",
   "execution_count": 3,
   "metadata": {},
   "outputs": [],
   "source": [
    "def train_and_eval(df, penalty='l2', C=1.0, l1_ratio='None', fit_intercept='True', selector=None):\n",
    "\n",
    "    # Splitting data and prepping for selector fit\n",
    "    X_train,  X_test, y_train, y_test = train_test_split(df, \"ArrDelayBinary\",random_state=np.random.seed(0), shuffle=True)\n",
    "\n",
    "    if selector:\n",
    "        # For the selector, the label also needs to be in the DF\n",
    "        X_train[\"ArrDelayBinary\"] = y_train\n",
    "        X_test[\"ArrDelayBinary\"] = y_test\n",
    "        \n",
    "        X_train = selector.fit_transform(X_train)\n",
    "        X_test = selector.transform(X_test)\n",
    "    \n",
    "    # Train and get accuracy\n",
    "    classifier = LogisticRegression(penalty=penalty,\n",
    "                                    C=C,\n",
    "                                    l1_ratio=l1_ratio,\n",
    "                                    fit_intercept=fit_intercept,\n",
    "                                    max_iter=10000)\n",
    "    classifier.fit(X_train, y_train)\n",
    "    y_pred = classifier.predict_proba(X_test.values)[:, 1]\n",
    "    score = accuracy_score(y_test, y_pred)\n",
    "    return score\n",
    "\n",
    "def objective(df, selector, trial):\n",
    "    \"\"\"\n",
    "    Performs the training and evaluation of the set of parameters and subset of features using selector.\n",
    "    \"\"\"\n",
    "    selector.set_trial(trial)\n",
    "    \n",
    "    # Select Params\n",
    "    C = trial.suggest_uniform(\"C\", 0 , 7.0)\n",
    "    penalty = trial.suggest_categorical(\"penalty\", ['l1', 'none', 'l2'])\n",
    "    l1_ratio = trial.suggest_uniform(\"l1_ratio\", 0 , 1.0)\n",
    "    fit_intercept = trial.suggest_categorical(\"fit_intercept\", [True, False])\n",
    "    \n",
    "    score = train_and_eval(df,\n",
    "                           penalty=penalty,\n",
    "                           C=C,\n",
    "                           l1_ratio=l1_ratio,\n",
    "                           fit_intercept=fit_intercept,\n",
    "                          selector=selector)\n",
    "    return score\n",
    "\n",
    "def feature_selection(df):\n",
    "    \"\"\"\n",
    "    Defines the Pipeline and performs the optuna opt\n",
    "    \"\"\"\n",
    "    selector = Pipeline(\n",
    "        [\n",
    "            SelectNumerical(),\n",
    "            KBestThresholdExplorer(ChiSquareKBest(target_col=\"ArrDelayBinary\")),\n",
    "        ]\n",
    "    )\n",
    "\n",
    "    df.index = df.index.rename('original_index')\n",
    "    \n",
    "    study = optuna.create_study(direction=\"maximize\")\n",
    "    study.optimize(partial(objective, df, selector), n_trials=N_TRIALS)\n",
    "\n",
    "    selector.from_trial(study.best_trial)\n",
    "    selected_cols = selector.get_selected_cols()\n",
    "    \n",
    "    return study, df[selected_cols].reset_index().set_index('original_index')"
   ]
  },
  {
   "cell_type": "code",
   "execution_count": 4,
   "metadata": {},
   "outputs": [],
   "source": [
    "INPUT_FILE = \"/home/hyperopt/hyperopt/data/air_par.parquet\"\n",
    "\n",
    "N_ROWS = 10000000\n",
    "N_TRIALS = 100\n",
    "df_ = cudf.read_parquet(INPUT_FILE)[:N_ROWS]\n",
    "\n",
    "df_[\"ArrDelayBinary\"] = df_[\"ArrDelayBinary\"].astype('int32')\n",
    "\n",
    "# Can't handle nagative values, yet\n",
    "df_ = df_.drop([\"ActualElapsedTime\"], axis=1)\n",
    "# indices = df_.loc[df_[\"ActualElapsedTime\"] < 0].index\n",
    "# df_.loc[indices, \"ActualElapsedTime\"] = -1 * df_.loc[indices, \"ActualElapsedTime\"]"
   ]
  },
  {
   "cell_type": "code",
   "execution_count": 5,
   "metadata": {},
   "outputs": [
    {
     "name": "stdout",
     "output_type": "stream",
     "text": [
      "Default performance:  0.8123924136161804\n"
     ]
    }
   ],
   "source": [
    "print(\"Default performance: \", train_and_eval(df_))"
   ]
  },
  {
   "cell_type": "code",
   "execution_count": 6,
   "metadata": {},
   "outputs": [],
   "source": [
    "# We cast to objects for categorical  and target encoding\n",
    "df_[\"UniqueCarrier\"] = df_[\"UniqueCarrier\"].astype(\"object\")\n",
    "df_[\"Origin\"] = df_[\"Origin\"].astype(\"object\")\n",
    "df_[\"Dest\"] = df_[\"Dest\"].astype(\"object\")"
   ]
  },
  {
   "cell_type": "code",
   "execution_count": 7,
   "metadata": {},
   "outputs": [],
   "source": [
    "df_feature_eng = feature_engineering(df_)"
   ]
  },
  {
   "cell_type": "code",
   "execution_count": 8,
   "metadata": {},
   "outputs": [
    {
     "name": "stdout",
     "output_type": "stream",
     "text": [
      "After feature eng:  0.8120155930519104\n"
     ]
    }
   ],
   "source": [
    "print(\"After feature eng: \", train_and_eval(df_feature_eng))"
   ]
  },
  {
   "cell_type": "code",
   "execution_count": 9,
   "metadata": {},
   "outputs": [
    {
     "name": "stderr",
     "output_type": "stream",
     "text": [
      "[I 2020-07-28 21:57:40,560] Finished trial#0 with value: 0.8117660284042358 with parameters: {'C': 2.610316541350379, 'penalty': 'none', 'l1_ratio': 0.1728394675546583, 'fit_intercept': False, 'KBestThresholdExplorer.k': 75.0}. Best is trial#0 with value: 0.8117660284042358.\n",
      "[I 2020-07-28 22:01:19,766] Finished trial#1 with value: 0.8118404150009155 with parameters: {'C': 5.849864430092992, 'penalty': 'l2', 'l1_ratio': 0.47804617074727584, 'fit_intercept': True, 'KBestThresholdExplorer.k': 42.0}. Best is trial#1 with value: 0.8118404150009155.\n",
      "[I 2020-07-28 22:04:59,979] Finished trial#2 with value: 0.8115136027336121 with parameters: {'C': 6.7549745715346665, 'penalty': 'l1', 'l1_ratio': 0.35276010044311445, 'fit_intercept': False, 'KBestThresholdExplorer.k': 32.0}. Best is trial#1 with value: 0.8118404150009155.\n",
      "[I 2020-07-28 22:08:41,742] Finished trial#3 with value: 0.8121348023414612 with parameters: {'C': 3.5824327747346434, 'penalty': 'none', 'l1_ratio': 0.6199295707683428, 'fit_intercept': True, 'KBestThresholdExplorer.k': 44.0}. Best is trial#3 with value: 0.8121348023414612.\n",
      "[I 2020-07-28 22:11:49,880] Finished trial#4 with value: 0.8115059733390808 with parameters: {'C': 2.6822167907671552, 'penalty': 'l1', 'l1_ratio': 0.24316118938283848, 'fit_intercept': False, 'KBestThresholdExplorer.k': 24.0}. Best is trial#3 with value: 0.8121348023414612.\n",
      "[I 2020-07-28 22:15:56,536] Finished trial#5 with value: 0.811866819858551 with parameters: {'C': 4.272944870064594, 'penalty': 'none', 'l1_ratio': 0.32955695192148204, 'fit_intercept': False, 'KBestThresholdExplorer.k': 65.0}. Best is trial#3 with value: 0.8121348023414612.\n",
      "[I 2020-07-28 22:19:30,849] Finished trial#6 with value: 0.8117088079452515 with parameters: {'C': 2.4126527229819943, 'penalty': 'none', 'l1_ratio': 0.5566773764536206, 'fit_intercept': True, 'KBestThresholdExplorer.k': 34.0}. Best is trial#3 with value: 0.8121348023414612.\n",
      "[I 2020-07-28 22:22:36,271] Finished trial#7 with value: 0.8119152188301086 with parameters: {'C': 6.768419664896011, 'penalty': 'l1', 'l1_ratio': 0.793669330268409, 'fit_intercept': True, 'KBestThresholdExplorer.k': 74.0}. Best is trial#3 with value: 0.8121348023414612.\n",
      "[I 2020-07-28 22:26:16,939] Finished trial#8 with value: 0.8116735816001892 with parameters: {'C': 5.718110109101117, 'penalty': 'none', 'l1_ratio': 0.640360051532843, 'fit_intercept': True, 'KBestThresholdExplorer.k': 58.0}. Best is trial#3 with value: 0.8121348023414612.\n",
      "[I 2020-07-28 22:33:15,532] Finished trial#9 with value: 0.8119844198226929 with parameters: {'C': 3.6901781449797517, 'penalty': 'l1', 'l1_ratio': 0.6862793668612647, 'fit_intercept': True, 'KBestThresholdExplorer.k': 47.0}. Best is trial#3 with value: 0.8121348023414612.\n",
      "[I 2020-07-28 22:33:24,516] Finished trial#10 with value: 0.8118628263473511 with parameters: {'C': 0.27909616149963723, 'penalty': 'l2', 'l1_ratio': 0.9777562444459358, 'fit_intercept': True, 'KBestThresholdExplorer.k': 1.0}. Best is trial#3 with value: 0.8121348023414612.\n",
      "[I 2020-07-28 22:40:34,771] Finished trial#11 with value: 0.8117527961730957 with parameters: {'C': 4.227754379573161, 'penalty': 'l1', 'l1_ratio': 0.8343906446232174, 'fit_intercept': True, 'KBestThresholdExplorer.k': 50.0}. Best is trial#3 with value: 0.8121348023414612.\n",
      "[I 2020-07-28 22:42:43,853] Finished trial#12 with value: 0.8115351796150208 with parameters: {'C': 1.3058557916932396, 'penalty': 'none', 'l1_ratio': 0.7013749055088769, 'fit_intercept': True, 'KBestThresholdExplorer.k': 16.0}. Best is trial#3 with value: 0.8121348023414612.\n",
      "[I 2020-07-28 22:50:00,245] Finished trial#13 with value: 0.812004029750824 with parameters: {'C': 4.0752384893188545, 'penalty': 'l1', 'l1_ratio': 0.9663640450885554, 'fit_intercept': True, 'KBestThresholdExplorer.k': 51.0}. Best is trial#3 with value: 0.8121348023414612.\n",
      "[I 2020-07-28 22:53:56,253] Finished trial#14 with value: 0.8118855953216553 with parameters: {'C': 5.097506075167077, 'penalty': 'l2', 'l1_ratio': 0.9813306517618356, 'fit_intercept': True, 'KBestThresholdExplorer.k': 58.0}. Best is trial#3 with value: 0.8121348023414612.\n",
      "[I 2020-07-28 23:00:32,582] Finished trial#15 with value: 0.8117051720619202 with parameters: {'C': 3.195886553211856, 'penalty': 'l1', 'l1_ratio': 0.057940658670830425, 'fit_intercept': True, 'KBestThresholdExplorer.k': 54.0}. Best is trial#3 with value: 0.8121348023414612.\n",
      "[I 2020-07-28 23:04:06,326] Finished trial#16 with value: 0.8119863867759705 with parameters: {'C': 1.6566807782274635, 'penalty': 'none', 'l1_ratio': 0.8820201311075087, 'fit_intercept': True, 'KBestThresholdExplorer.k': 38.0}. Best is trial#3 with value: 0.8121348023414612.\n",
      "[I 2020-07-28 23:06:44,673] Finished trial#17 with value: 0.8116648197174072 with parameters: {'C': 4.879165791391447, 'penalty': 'none', 'l1_ratio': 0.48249788770560476, 'fit_intercept': True, 'KBestThresholdExplorer.k': 21.0}. Best is trial#3 with value: 0.8121348023414612.\n",
      "[I 2020-07-28 23:14:51,806] Finished trial#18 with value: 0.8116167783737183 with parameters: {'C': 3.9568711433343324, 'penalty': 'l1', 'l1_ratio': 0.9601991378753754, 'fit_intercept': True, 'KBestThresholdExplorer.k': 69.0}. Best is trial#3 with value: 0.8121348023414612.\n",
      "[I 2020-07-28 23:20:34,566] Finished trial#19 with value: 0.8119795918464661 with parameters: {'C': 3.253925866732011, 'penalty': 'l1', 'l1_ratio': 0.7646475435734355, 'fit_intercept': True, 'KBestThresholdExplorer.k': 44.0}. Best is trial#3 with value: 0.8121348023414612.\n",
      "[I 2020-07-28 23:25:26,110] Finished trial#20 with value: 0.8117719888687134 with parameters: {'C': 5.09725556091349, 'penalty': 'none', 'l1_ratio': 0.563193560162945, 'fit_intercept': True, 'KBestThresholdExplorer.k': 63.0}. Best is trial#3 with value: 0.8121348023414612.\n",
      "[I 2020-07-28 23:28:59,411] Finished trial#21 with value: 0.811847984790802 with parameters: {'C': 1.5770922619836112, 'penalty': 'none', 'l1_ratio': 0.8699681404938114, 'fit_intercept': True, 'KBestThresholdExplorer.k': 34.0}. Best is trial#3 with value: 0.8121348023414612.\n",
      "[I 2020-07-28 23:31:23,508] Finished trial#22 with value: 0.8115963935852051 with parameters: {'C': 0.13896528301836186, 'penalty': 'none', 'l1_ratio': 0.9012529121822804, 'fit_intercept': True, 'KBestThresholdExplorer.k': 37.0}. Best is trial#3 with value: 0.8121348023414612.\n",
      "[I 2020-07-28 23:33:50,296] Finished trial#23 with value: 0.8117448091506958 with parameters: {'C': 1.3720041954638331, 'penalty': 'none', 'l1_ratio': 0.9096047939143099, 'fit_intercept': True, 'KBestThresholdExplorer.k': 29.0}. Best is trial#3 with value: 0.8121348023414612.\n",
      "[I 2020-07-28 23:37:47,269] Finished trial#24 with value: 0.8117656111717224 with parameters: {'C': 2.1007286455460985, 'penalty': 'none', 'l1_ratio': 0.7600557060919979, 'fit_intercept': True, 'KBestThresholdExplorer.k': 50.0}. Best is trial#3 with value: 0.8121348023414612.\n",
      "[I 2020-07-28 23:41:24,828] Finished trial#25 with value: 0.8116660118103027 with parameters: {'C': 0.7404451025923664, 'penalty': 'l2', 'l1_ratio': 0.6324439791977842, 'fit_intercept': True, 'KBestThresholdExplorer.k': 41.0}. Best is trial#3 with value: 0.8121348023414612.\n",
      "[I 2020-07-28 23:42:54,724] Finished trial#26 with value: 0.8117203712463379 with parameters: {'C': 3.177602015857567, 'penalty': 'none', 'l1_ratio': 0.39866961990807553, 'fit_intercept': False, 'KBestThresholdExplorer.k': 13.0}. Best is trial#3 with value: 0.8121348023414612.\n",
      "[I 2020-07-28 23:47:04,323] Finished trial#27 with value: 0.8114147782325745 with parameters: {'C': 4.624392301283521, 'penalty': 'none', 'l1_ratio': 0.9900583581173207, 'fit_intercept': True, 'KBestThresholdExplorer.k': 53.0}. Best is trial#3 with value: 0.8121348023414612.\n",
      "[I 2020-07-28 23:52:15,728] Finished trial#28 with value: 0.8112735748291016 with parameters: {'C': 2.0801192861695643, 'penalty': 'l1', 'l1_ratio': 0.845891593520722, 'fit_intercept': True, 'KBestThresholdExplorer.k': 39.0}. Best is trial#3 with value: 0.8121348023414612.\n",
      "[I 2020-07-28 23:54:26,641] Finished trial#29 with value: 0.8115540146827698 with parameters: {'C': 2.7096165601877935, 'penalty': 'none', 'l1_ratio': 0.7201556948897851, 'fit_intercept': False, 'KBestThresholdExplorer.k': 26.0}. Best is trial#3 with value: 0.8121348023414612.\n",
      "[I 2020-07-28 23:59:01,838] Finished trial#30 with value: 0.8116604089736938 with parameters: {'C': 3.5453354892950255, 'penalty': 'none', 'l1_ratio': 0.9215809212991904, 'fit_intercept': True, 'KBestThresholdExplorer.k': 59.0}. Best is trial#3 with value: 0.8121348023414612.\n",
      "[I 2020-07-29 00:06:09,134] Finished trial#31 with value: 0.8115671873092651 with parameters: {'C': 3.8485997095321034, 'penalty': 'l1', 'l1_ratio': 0.6406867447145125, 'fit_intercept': True, 'KBestThresholdExplorer.k': 46.0}. Best is trial#3 with value: 0.8121348023414612.\n",
      "[I 2020-07-29 00:12:56,106] Finished trial#32 with value: 0.811591625213623 with parameters: {'C': 3.641171989590002, 'penalty': 'l1', 'l1_ratio': 0.5513636582424916, 'fit_intercept': True, 'KBestThresholdExplorer.k': 47.0}. Best is trial#3 with value: 0.8121348023414612.\n",
      "[I 2020-07-29 00:18:05,734] Finished trial#33 with value: 0.8115828037261963 with parameters: {'C': 5.5852029873852995, 'penalty': 'l1', 'l1_ratio': 0.6841366475476486, 'fit_intercept': True, 'KBestThresholdExplorer.k': 40.0}. Best is trial#3 with value: 0.8121348023414612.\n",
      "[I 2020-07-29 00:23:53,988] Finished trial#34 with value: 0.8114579916000366 with parameters: {'C': 4.40855859421845, 'penalty': 'l1', 'l1_ratio': 0.8104835345356959, 'fit_intercept': True, 'KBestThresholdExplorer.k': 45.0}. Best is trial#3 with value: 0.8121348023414612.\n",
      "[I 2020-07-29 00:28:52,967] Finished trial#35 with value: 0.8117768168449402 with parameters: {'C': 6.1964913967215685, 'penalty': 'l1', 'l1_ratio': 0.5862777005717037, 'fit_intercept': False, 'KBestThresholdExplorer.k': 52.0}. Best is trial#3 with value: 0.8121348023414612.\n",
      "[I 2020-07-29 00:32:13,306] Finished trial#36 with value: 0.8121472001075745 with parameters: {'C': 2.915208882673798, 'penalty': 'l2', 'l1_ratio': 0.42894439637420106, 'fit_intercept': True, 'KBestThresholdExplorer.k': 36.0}. Best is trial#36 with value: 0.8121472001075745.\n",
      "[I 2020-07-29 00:35:46,106] Finished trial#37 with value: 0.8117139935493469 with parameters: {'C': 2.810520600594364, 'penalty': 'l2', 'l1_ratio': 0.4183451004043107, 'fit_intercept': True, 'KBestThresholdExplorer.k': 33.0}. Best is trial#36 with value: 0.8121472001075745.\n",
      "[I 2020-07-29 00:37:52,258] Finished trial#38 with value: 0.8115547895431519 with parameters: {'C': 1.8197530213810134, 'penalty': 'l2', 'l1_ratio': 0.1404752128841883, 'fit_intercept': False, 'KBestThresholdExplorer.k': 29.0}. Best is trial#36 with value: 0.8121472001075745.\n",
      "[I 2020-07-29 00:41:20,591] Finished trial#39 with value: 0.8118219971656799 with parameters: {'C': 0.7854447829087634, 'penalty': 'l2', 'l1_ratio': 0.2571881821226948, 'fit_intercept': True, 'KBestThresholdExplorer.k': 37.0}. Best is trial#36 with value: 0.8121472001075745.\n",
      "[I 2020-07-29 00:44:05,867] Finished trial#40 with value: 0.8117544054985046 with parameters: {'C': 2.244645043814349, 'penalty': 'l2', 'l1_ratio': 0.3041414476803347, 'fit_intercept': True, 'KBestThresholdExplorer.k': 22.0}. Best is trial#36 with value: 0.8121472001075745.\n",
      "[I 2020-07-29 00:47:47,933] Finished trial#41 with value: 0.8115732073783875 with parameters: {'C': 2.972372786105429, 'penalty': 'l2', 'l1_ratio': 0.4309401597191499, 'fit_intercept': True, 'KBestThresholdExplorer.k': 42.0}. Best is trial#36 with value: 0.8121472001075745.\n",
      "[I 2020-07-29 00:53:38,886] Finished trial#42 with value: 0.8118687868118286 with parameters: {'C': 4.00232619225177, 'penalty': 'l1', 'l1_ratio': 0.5174526246086538, 'fit_intercept': True, 'KBestThresholdExplorer.k': 46.0}. Best is trial#36 with value: 0.8121472001075745.\n",
      "[I 2020-07-29 01:00:01,971] Finished trial#43 with value: 0.8119795918464661 with parameters: {'C': 3.3815912740275467, 'penalty': 'l1', 'l1_ratio': 0.6108733990510896, 'fit_intercept': True, 'KBestThresholdExplorer.k': 48.0}. Best is trial#36 with value: 0.8121472001075745.\n",
      "[I 2020-07-29 01:02:46,471] Finished trial#44 with value: 0.8118916153907776 with parameters: {'C': 2.5358266229502826, 'penalty': 'l2', 'l1_ratio': 0.36464634472659263, 'fit_intercept': True, 'KBestThresholdExplorer.k': 54.0}. Best is trial#36 with value: 0.8121472001075745.\n",
      "[I 2020-07-29 01:05:23,782] Finished trial#45 with value: 0.8114883899688721 with parameters: {'C': 4.358537502746083, 'penalty': 'none', 'l1_ratio': 0.50144407124631, 'fit_intercept': True, 'KBestThresholdExplorer.k': 37.0}. Best is trial#36 with value: 0.8121472001075745.\n",
      "[I 2020-07-29 01:12:30,834] Finished trial#46 with value: 0.8118579983711243 with parameters: {'C': 3.6334531658836933, 'penalty': 'l1', 'l1_ratio': 0.6790439608345227, 'fit_intercept': True, 'KBestThresholdExplorer.k': 58.0}. Best is trial#36 with value: 0.8121472001075745.\n",
      "[I 2020-07-29 01:15:49,957] Finished trial#47 with value: 0.8118640184402466 with parameters: {'C': 2.9844044849586235, 'penalty': 'none', 'l1_ratio': 0.45022053504105297, 'fit_intercept': True, 'KBestThresholdExplorer.k': 32.0}. Best is trial#36 with value: 0.8121472001075745.\n",
      "[I 2020-07-29 01:21:21,794] Finished trial#48 with value: 0.8117424249649048 with parameters: {'C': 4.767610332427903, 'penalty': 'l1', 'l1_ratio': 0.7651621407451251, 'fit_intercept': True, 'KBestThresholdExplorer.k': 43.0}. Best is trial#36 with value: 0.8121472001075745.\n",
      "[I 2020-07-29 01:26:16,465] Finished trial#49 with value: 0.8118867874145508 with parameters: {'C': 4.009372771930676, 'penalty': 'l2', 'l1_ratio': 0.9377749472103543, 'fit_intercept': True, 'KBestThresholdExplorer.k': 63.0}. Best is trial#36 with value: 0.8121472001075745.\n",
      "[I 2020-07-29 01:29:43,395] Finished trial#50 with value: 0.8121243715286255 with parameters: {'C': 2.4011213384909027, 'penalty': 'none', 'l1_ratio': 0.7297202317473509, 'fit_intercept': True, 'KBestThresholdExplorer.k': 50.0}. Best is trial#36 with value: 0.8121472001075745.\n",
      "[I 2020-07-29 01:32:49,482] Finished trial#51 with value: 0.8121500015258789 with parameters: {'C': 2.3940069804493684, 'penalty': 'none', 'l1_ratio': 0.7406385396983034, 'fit_intercept': True, 'KBestThresholdExplorer.k': 49.0}. Best is trial#51 with value: 0.8121500015258789.\n",
      "[I 2020-07-29 01:37:10,803] Finished trial#52 with value: 0.8117244243621826 with parameters: {'C': 1.794995668392342, 'penalty': 'none', 'l1_ratio': 0.7315428386947235, 'fit_intercept': True, 'KBestThresholdExplorer.k': 56.0}. Best is trial#51 with value: 0.8121500015258789.\n",
      "[I 2020-07-29 01:41:10,639] Finished trial#53 with value: 0.8114727735519409 with parameters: {'C': 2.3834577528473444, 'penalty': 'none', 'l1_ratio': 0.8627996843451625, 'fit_intercept': True, 'KBestThresholdExplorer.k': 50.0}. Best is trial#51 with value: 0.8121500015258789.\n",
      "[I 2020-07-29 01:46:14,403] Finished trial#54 with value: 0.8118327856063843 with parameters: {'C': 1.8965915633979185, 'penalty': 'none', 'l1_ratio': 0.6645436321901735, 'fit_intercept': True, 'KBestThresholdExplorer.k': 68.0}. Best is trial#51 with value: 0.8121500015258789.\n",
      "[I 2020-07-29 01:50:13,001] Finished trial#55 with value: 0.811676025390625 with parameters: {'C': 1.2129297608717025, 'penalty': 'none', 'l1_ratio': 0.7809164523795912, 'fit_intercept': True, 'KBestThresholdExplorer.k': 50.0}. Best is trial#51 with value: 0.8121500015258789.\n",
      "[I 2020-07-29 01:53:45,632] Finished trial#56 with value: 0.8118531703948975 with parameters: {'C': 2.590155631569861, 'penalty': 'none', 'l1_ratio': 0.8094187781091835, 'fit_intercept': True, 'KBestThresholdExplorer.k': 38.0}. Best is trial#51 with value: 0.8121500015258789.\n",
      "[I 2020-07-29 01:59:05,709] Finished trial#57 with value: 0.81183922290802 with parameters: {'C': 1.0018211319933257, 'penalty': 'none', 'l1_ratio': 0.8780756688253439, 'fit_intercept': True, 'KBestThresholdExplorer.k': 78.0}. Best is trial#51 with value: 0.8121500015258789.\n",
      "[I 2020-07-29 02:02:44,482] Finished trial#58 with value: 0.8119508028030396 with parameters: {'C': 2.9800377281210126, 'penalty': 'none', 'l1_ratio': 0.7274735828033458, 'fit_intercept': True, 'KBestThresholdExplorer.k': 43.0}. Best is trial#51 with value: 0.8121500015258789.\n",
      "[I 2020-07-29 02:05:26,971] Finished trial#59 with value: 0.8114759922027588 with parameters: {'C': 1.5665126417282695, 'penalty': 'none', 'l1_ratio': 0.5343638170068625, 'fit_intercept': True, 'KBestThresholdExplorer.k': 35.0}. Best is trial#51 with value: 0.8121500015258789.\n",
      "[I 2020-07-29 02:08:01,025] Finished trial#60 with value: 0.8115376234054565 with parameters: {'C': 2.270611222688753, 'penalty': 'none', 'l1_ratio': 0.5897070117525252, 'fit_intercept': False, 'KBestThresholdExplorer.k': 31.0}. Best is trial#51 with value: 0.8121500015258789.\n",
      "[I 2020-07-29 02:12:37,215] Finished trial#61 with value: 0.8123599886894226 with parameters: {'C': 3.7590996262114307, 'penalty': 'none', 'l1_ratio': 0.6583132511929572, 'fit_intercept': True, 'KBestThresholdExplorer.k': 61.0}. Best is trial#61 with value: 0.8123599886894226.\n",
      "[I 2020-07-29 02:17:20,082] Finished trial#62 with value: 0.8113800287246704 with parameters: {'C': 3.3108980154760705, 'penalty': 'none', 'l1_ratio': 0.6423927057698317, 'fit_intercept': True, 'KBestThresholdExplorer.k': 60.0}. Best is trial#61 with value: 0.8123599886894226.\n",
      "[I 2020-07-29 02:21:41,375] Finished trial#63 with value: 0.8119412064552307 with parameters: {'C': 4.149645924152007, 'penalty': 'none', 'l1_ratio': 0.8240237396137771, 'fit_intercept': True, 'KBestThresholdExplorer.k': 56.0}. Best is trial#61 with value: 0.8123599886894226.\n",
      "[I 2020-07-29 02:26:31,259] Finished trial#64 with value: 0.8112767934799194 with parameters: {'C': 3.83716374887506, 'penalty': 'none', 'l1_ratio': 0.711026051357831, 'fit_intercept': True, 'KBestThresholdExplorer.k': 63.0}. Best is trial#61 with value: 0.8123599886894226.\n",
      "[I 2020-07-29 02:31:41,038] Finished trial#65 with value: 0.8115411996841431 with parameters: {'C': 3.090127861401484, 'penalty': 'none', 'l1_ratio': 0.9475042496777809, 'fit_intercept': True, 'KBestThresholdExplorer.k': 70.0}. Best is trial#61 with value: 0.8123599886894226.\n",
      "[I 2020-07-29 02:33:24,889] Finished trial#66 with value: 0.8119515776634216 with parameters: {'C': 2.7916276765190915, 'penalty': 'none', 'l1_ratio': 0.47504848138995315, 'fit_intercept': True, 'KBestThresholdExplorer.k': 49.0}. Best is trial#61 with value: 0.8123599886894226.\n",
      "[I 2020-07-29 02:37:25,080] Finished trial#67 with value: 0.8121216297149658 with parameters: {'C': 3.445292322898594, 'penalty': 'none', 'l1_ratio': 0.6064645306156501, 'fit_intercept': True, 'KBestThresholdExplorer.k': 51.0}. Best is trial#61 with value: 0.8123599886894226.\n",
      "[I 2020-07-29 02:41:31,718] Finished trial#68 with value: 0.8118152022361755 with parameters: {'C': 3.4870784659484895, 'penalty': 'none', 'l1_ratio': 0.5745234802843743, 'fit_intercept': True, 'KBestThresholdExplorer.k': 52.0}. Best is trial#61 with value: 0.8123599886894226.\n",
      "[I 2020-07-29 02:43:09,067] Finished trial#69 with value: 0.8117668032646179 with parameters: {'C': 3.251506392597579, 'penalty': 'none', 'l1_ratio': 0.62035572083523, 'fit_intercept': True, 'KBestThresholdExplorer.k': 56.0}. Best is trial#61 with value: 0.8123599886894226.\n",
      "[I 2020-07-29 02:46:22,357] Finished trial#70 with value: 0.8117852210998535 with parameters: {'C': 3.78070197359099, 'penalty': 'none', 'l1_ratio': 0.6554708509845074, 'fit_intercept': True, 'KBestThresholdExplorer.k': 60.0}. Best is trial#61 with value: 0.8123599886894226.\n",
      "[I 2020-07-29 02:49:57,437] Finished trial#71 with value: 0.8120455741882324 with parameters: {'C': 4.499027963318953, 'penalty': 'none', 'l1_ratio': 0.6058916453331142, 'fit_intercept': True, 'KBestThresholdExplorer.k': 40.0}. Best is trial#61 with value: 0.8123599886894226.\n",
      "[I 2020-07-29 02:52:42,578] Finished trial#72 with value: 0.8115715980529785 with parameters: {'C': 5.035662949990472, 'penalty': 'none', 'l1_ratio': 0.5270982541184412, 'fit_intercept': True, 'KBestThresholdExplorer.k': 40.0}. Best is trial#61 with value: 0.8123599886894226.\n",
      "[I 2020-07-29 02:55:30,874] Finished trial#73 with value: 0.8113420009613037 with parameters: {'C': 4.668208420251314, 'penalty': 'none', 'l1_ratio': 0.7392458761681386, 'fit_intercept': True, 'KBestThresholdExplorer.k': 44.0}. Best is trial#61 with value: 0.8123599886894226.\n",
      "[I 2020-07-29 02:59:33,889] Finished trial#74 with value: 0.8118711709976196 with parameters: {'C': 4.518608011948323, 'penalty': 'none', 'l1_ratio': 0.5968488788487588, 'fit_intercept': True, 'KBestThresholdExplorer.k': 51.0}. Best is trial#61 with value: 0.8123599886894226.\n",
      "[I 2020-07-29 03:03:08,230] Finished trial#75 with value: 0.8114652037620544 with parameters: {'C': 5.463682908299955, 'penalty': 'none', 'l1_ratio': 0.5559568561823701, 'fit_intercept': True, 'KBestThresholdExplorer.k': 48.0}. Best is trial#61 with value: 0.8123599886894226.\n",
      "[I 2020-07-29 03:06:41,750] Finished trial#76 with value: 0.8118451833724976 with parameters: {'C': 4.153025067683587, 'penalty': 'l2', 'l1_ratio': 0.6770352691956105, 'fit_intercept': True, 'KBestThresholdExplorer.k': 35.0}. Best is trial#61 with value: 0.8123599886894226.\n",
      "[I 2020-07-29 03:10:21,843] Finished trial#77 with value: 0.8119223713874817 with parameters: {'C': 3.4584730005599083, 'penalty': 'none', 'l1_ratio': 0.48563673435774973, 'fit_intercept': True, 'KBestThresholdExplorer.k': 46.0}. Best is trial#61 with value: 0.8123599886894226.\n",
      "[I 2020-07-29 03:13:56,006] Finished trial#78 with value: 0.8117048144340515 with parameters: {'C': 2.0700211339044383, 'penalty': 'none', 'l1_ratio': 0.7017847397466028, 'fit_intercept': False, 'KBestThresholdExplorer.k': 54.0}. Best is trial#61 with value: 0.8123599886894226.\n",
      "[I 2020-07-29 03:17:56,870] Finished trial#79 with value: 0.8114984035491943 with parameters: {'C': 4.256170341476512, 'penalty': 'l2', 'l1_ratio': 0.3663834837561342, 'fit_intercept': True, 'KBestThresholdExplorer.k': 66.0}. Best is trial#61 with value: 0.8123599886894226.\n",
      "[I 2020-07-29 03:21:35,340] Finished trial#80 with value: 0.8111140131950378 with parameters: {'C': 2.8177551910039806, 'penalty': 'none', 'l1_ratio': 0.6175088363291749, 'fit_intercept': True, 'KBestThresholdExplorer.k': 42.0}. Best is trial#61 with value: 0.8123599886894226.\n",
      "[I 2020-07-29 03:23:28,053] Finished trial#81 with value: 0.8114504218101501 with parameters: {'C': 3.77259933406253, 'penalty': 'none', 'l1_ratio': 0.7495947498791067, 'fit_intercept': True, 'KBestThresholdExplorer.k': 39.0}. Best is trial#61 with value: 0.8123599886894226.\n",
      "[I 2020-07-29 03:26:58,934] Finished trial#82 with value: 0.8116772174835205 with parameters: {'C': 2.628180779282612, 'penalty': 'none', 'l1_ratio': 0.9948591110566414, 'fit_intercept': True, 'KBestThresholdExplorer.k': 45.0}. Best is trial#61 with value: 0.8123599886894226.\n",
      "[I 2020-07-29 03:30:18,639] Finished trial#83 with value: 0.8117424249649048 with parameters: {'C': 2.4847519998239265, 'penalty': 'none', 'l1_ratio': 0.7839875477770105, 'fit_intercept': True, 'KBestThresholdExplorer.k': 36.0}. Best is trial#61 with value: 0.8123599886894226.\n",
      "[I 2020-07-29 03:33:56,040] Finished trial#84 with value: 0.8113644123077393 with parameters: {'C': 3.5931253026115373, 'penalty': 'none', 'l1_ratio': 0.8882090364900385, 'fit_intercept': True, 'KBestThresholdExplorer.k': 40.0}. Best is trial#61 with value: 0.8123599886894226.\n",
      "[I 2020-07-29 03:37:17,670] Finished trial#85 with value: 0.8116648197174072 with parameters: {'C': 4.00252939636648, 'penalty': 'none', 'l1_ratio': 0.6526609802929138, 'fit_intercept': True, 'KBestThresholdExplorer.k': 30.0}. Best is trial#61 with value: 0.8123599886894226.\n",
      "[I 2020-07-29 03:40:55,322] Finished trial#86 with value: 0.8118404150009155 with parameters: {'C': 3.110268694606492, 'penalty': 'l2', 'l1_ratio': 0.8472406479478889, 'fit_intercept': True, 'KBestThresholdExplorer.k': 41.0}. Best is trial#61 with value: 0.8123599886894226.\n",
      "[I 2020-07-29 03:43:08,914] Finished trial#87 with value: 0.8116899728775024 with parameters: {'C': 4.506829384681251, 'penalty': 'none', 'l1_ratio': 0.7051779836712037, 'fit_intercept': True, 'KBestThresholdExplorer.k': 47.0}. Best is trial#61 with value: 0.8123599886894226.\n",
      "[I 2020-07-29 03:48:00,487] Finished trial#88 with value: 0.8117532134056091 with parameters: {'C': 1.5919808124262573, 'penalty': 'l1', 'l1_ratio': 0.5484467697134937, 'fit_intercept': True, 'KBestThresholdExplorer.k': 28.0}. Best is trial#61 with value: 0.8123599886894226.\n",
      "[I 2020-07-29 03:52:05,711] Finished trial#89 with value: 0.8114168047904968 with parameters: {'C': 2.3369933181468605, 'penalty': 'none', 'l1_ratio': 0.4573773011381442, 'fit_intercept': True, 'KBestThresholdExplorer.k': 52.0}. Best is trial#61 with value: 0.8123599886894226.\n",
      "[I 2020-07-29 03:55:07,203] Finished trial#90 with value: 0.81178879737854 with parameters: {'C': 2.1249938015064966, 'penalty': 'none', 'l1_ratio': 0.3940690378006, 'fit_intercept': True, 'KBestThresholdExplorer.k': 48.0}. Best is trial#61 with value: 0.8123599886894226.\n",
      "[I 2020-07-29 04:00:44,434] Finished trial#91 with value: 0.8122951984405518 with parameters: {'C': 3.7380505086700113, 'penalty': 'l1', 'l1_ratio': 0.6850174234526997, 'fit_intercept': True, 'KBestThresholdExplorer.k': 44.0}. Best is trial#61 with value: 0.8123599886894226.\n",
      "[I 2020-07-29 04:06:21,106] Finished trial#92 with value: 0.8117520213127136 with parameters: {'C': 3.3625246044147548, 'penalty': 'l1', 'l1_ratio': 0.9644352769101879, 'fit_intercept': True, 'KBestThresholdExplorer.k': 44.0}. Best is trial#61 with value: 0.8123599886894226.\n",
      "[I 2020-07-29 04:12:16,348] Finished trial#93 with value: 0.8119531869888306 with parameters: {'C': 3.912925948457713, 'penalty': 'l1', 'l1_ratio': 0.6786740187137494, 'fit_intercept': True, 'KBestThresholdExplorer.k': 34.0}. Best is trial#61 with value: 0.8123599886894226.\n",
      "[I 2020-07-29 04:18:55,564] Finished trial#94 with value: 0.8115668296813965 with parameters: {'C': 3.470697859708159, 'penalty': 'l1', 'l1_ratio': 0.6082837128566206, 'fit_intercept': True, 'KBestThresholdExplorer.k': 54.0}. Best is trial#61 with value: 0.8123599886894226.\n",
      "[I 2020-07-29 04:24:43,481] Finished trial#95 with value: 0.8112655878067017 with parameters: {'C': 4.112301123023355, 'penalty': 'l1', 'l1_ratio': 0.5739733571693219, 'fit_intercept': True, 'KBestThresholdExplorer.k': 45.0}. Best is trial#61 with value: 0.8123599886894226.\n",
      "[I 2020-07-29 04:31:35,505] Finished trial#96 with value: 0.8116176128387451 with parameters: {'C': 3.664876724883851, 'penalty': 'l1', 'l1_ratio': 0.6313107116012854, 'fit_intercept': True, 'KBestThresholdExplorer.k': 49.0}. Best is trial#61 with value: 0.8123599886894226.\n",
      "[I 2020-07-29 04:35:10,783] Finished trial#97 with value: 0.8117263913154602 with parameters: {'C': 4.930113926899881, 'penalty': 'l2', 'l1_ratio': 0.9196723337214565, 'fit_intercept': True, 'KBestThresholdExplorer.k': 37.0}. Best is trial#61 with value: 0.8123599886894226.\n",
      "[I 2020-07-29 04:38:51,533] Finished trial#98 with value: 0.8118463754653931 with parameters: {'C': 2.841123744710842, 'penalty': 'none', 'l1_ratio': 0.8030810868750786, 'fit_intercept': True, 'KBestThresholdExplorer.k': 43.0}. Best is trial#61 with value: 0.8123599886894226.\n",
      "[I 2020-07-29 04:44:10,374] Finished trial#99 with value: 0.8119692206382751 with parameters: {'C': 5.225163574420511, 'penalty': 'l1', 'l1_ratio': 0.7651734835137811, 'fit_intercept': False, 'KBestThresholdExplorer.k': 56.0}. Best is trial#61 with value: 0.8123599886894226.\n",
      "Optuna selector is not last component.\n"
     ]
    }
   ],
   "source": [
    "study, df_select = feature_selection(df_feature_eng)"
   ]
  },
  {
   "cell_type": "code",
   "execution_count": 10,
   "metadata": {},
   "outputs": [],
   "source": [
    "df_select[\"ArrDelayBinary\"] = df_[\"ArrDelayBinary\"]"
   ]
  },
  {
   "cell_type": "code",
   "execution_count": 11,
   "metadata": {},
   "outputs": [
    {
     "data": {
      "text/plain": [
       "Index(['Month', 'DayofWeek', 'CRSDepTime', 'CRSArrTime', 'FlightNum', 'Origin',\n",
       "       'Dest', 'Distance', 'YearCRSDepTime_plus', 'YearCRSArrTime_plus',\n",
       "       'YearFlightNum_plus', 'YearDistance_plus', 'MonthDayofWeek_plus',\n",
       "       'MonthCRSDepTime_plus', 'MonthCRSArrTime_plus',\n",
       "       'MonthUniqueCarrier_plus', 'MonthFlightNum_plus', 'MonthOrigin_plus',\n",
       "       'MonthDest_plus', 'MonthDistance_plus', 'MonthDiverted_plus',\n",
       "       'DayofMonthCRSDepTime_plus', 'DayofMonthCRSArrTime_plus',\n",
       "       'DayofMonthFlightNum_plus', 'DayofMonthOrigin_plus',\n",
       "       'DayofMonthDistance_plus', 'DayofWeekCRSDepTime_plus',\n",
       "       'DayofWeekCRSArrTime_plus', 'DayofWeekUniqueCarrier_plus',\n",
       "       'DayofWeekFlightNum_plus', 'DayofWeekOrigin_plus', 'DayofWeekDest_plus',\n",
       "       'DayofWeekDistance_plus', 'DayofWeekDiverted_plus',\n",
       "       'CRSDepTimeCRSArrTime_plus', 'CRSDepTimeUniqueCarrier_plus',\n",
       "       'CRSDepTimeFlightNum_plus', 'CRSDepTimeOrigin_plus',\n",
       "       'CRSDepTimeDest_plus', 'CRSDepTimeDistance_plus',\n",
       "       'CRSDepTimeDiverted_plus', 'CRSArrTimeUniqueCarrier_plus',\n",
       "       'CRSArrTimeFlightNum_plus', 'CRSArrTimeOrigin_plus',\n",
       "       'CRSArrTimeDest_plus', 'CRSArrTimeDistance_plus',\n",
       "       'CRSArrTimeDiverted_plus', 'UniqueCarrierFlightNum_plus',\n",
       "       'UniqueCarrierOrigin_plus', 'UniqueCarrierDest_plus',\n",
       "       'UniqueCarrierDistance_plus', 'FlightNumOrigin_plus',\n",
       "       'FlightNumDest_plus', 'FlightNumDistance_plus',\n",
       "       'FlightNumDiverted_plus', 'OriginDest_plus', 'OriginDistance_plus',\n",
       "       'OriginDiverted_plus', 'DestDistance_plus', 'DestDiverted_plus',\n",
       "       'DistanceDiverted_plus', 'ArrDelayBinary'],\n",
       "      dtype='object')"
      ]
     },
     "execution_count": 11,
     "metadata": {},
     "output_type": "execute_result"
    }
   ],
   "source": [
    "df_select.columns"
   ]
  },
  {
   "cell_type": "code",
   "execution_count": 12,
   "metadata": {},
   "outputs": [
    {
     "name": "stdout",
     "output_type": "stream",
     "text": [
      "After feature selection and paramter tuning:  0.8119720220565796\n"
     ]
    }
   ],
   "source": [
    "params = study.best_params\n",
    "print(\"After feature selection and paramter tuning: \", train_and_eval(df_select,\n",
    "                                                                      C=params['C'],\n",
    "                                                                      penalty=params['penalty'],\n",
    "                                                                      l1_ratio=params['l1_ratio'],\n",
    "                                                                      fit_intercept=params['fit_intercept']))"
   ]
  },
  {
   "cell_type": "code",
   "execution_count": 13,
   "metadata": {},
   "outputs": [],
   "source": [
    "# study.trials_dataframe().to_csv(\"xfeat_chi2_100Trials_run3_catenc.csv\", header=True)"
   ]
  },
  {
   "cell_type": "code",
   "execution_count": 14,
   "metadata": {},
   "outputs": [
    {
     "name": "stdout",
     "output_type": "stream",
     "text": [
      "{'C': 3.7590996262114307, 'penalty': 'none', 'l1_ratio': 0.6583132511929572, 'fit_intercept': True, 'KBestThresholdExplorer.k': 61.0}\n"
     ]
    }
   ],
   "source": [
    "print(params)"
   ]
  },
  {
   "cell_type": "markdown",
   "metadata": {},
   "source": [
    "\n",
    "|Run No.|Default|After FE| Optuna Best| After Selection and HPO|Best Params| Cols|\n",
    "|-|-|-|-|-|-|-|\n",
    "|1|0.18747319281101227|0.18743759393692017|0.812965989112854|0.8126764297485352| {'C': 2.7250515887031064,'penalty': 'l2','l1_ratio':0.1403560039741595, 'fit_intercept': True, 'KBestThresholdExplorer.k': 1.0} |['UniqueCarrierFlightNum_plus', 'ArrDelayBinary']|\n",
    "|2|0.18741360306739807|0.1874103993177414|0.812959611415863|0.8120356202125549|{'C': 3.398344321379011,'penalty': 'none','l1_ratio': 0.5549805266380305,'fit_intercept': True,'KBestThresholdExplorer.k': 1.0}|['FlightNumDistance_plus', 'ArrDelayBinary']|\n",
    "|3|0.18733720481395721|0.18729199469089508|0.8128544092178345|0.812743604183197|{'C': 4.202429766198819, 'penalty': 'none', 'l1_ratio': 0.6571582748501704, 'fit_intercept': False, 'KBestThresholdExplorer.k': 1.0}|['UniqueCarrierFlightNum_plus', 'ArrDelayBinary']|"
   ]
  },
  {
   "cell_type": "markdown",
   "metadata": {},
   "source": [
    "## Additional Resources\n",
    "[How to Win a DS Kaggle competition](https://www.coursera.org/learn/competitive-data-science)\n",
    "\n",
    "[Target Encoding and Bayesian Target Encoding](https://towardsdatascience.com/target-encoding-and-bayesian-target-encoding-5c6a6c58ae8c)\n"
   ]
  },
  {
   "cell_type": "code",
   "execution_count": null,
   "metadata": {},
   "outputs": [],
   "source": []
  }
 ],
 "metadata": {
  "kernelspec": {
   "display_name": "Python 3",
   "language": "python",
   "name": "python3"
  },
  "language_info": {
   "codemirror_mode": {
    "name": "ipython",
    "version": 3
   },
   "file_extension": ".py",
   "mimetype": "text/x-python",
   "name": "python",
   "nbconvert_exporter": "python",
   "pygments_lexer": "ipython3",
   "version": "3.6.10"
  }
 },
 "nbformat": 4,
 "nbformat_minor": 4
}
