{
 "cells": [
  {
   "cell_type": "markdown",
   "metadata": {},
   "source": [
    "# Improving model performance with xfeat, RAPIDS and Optuna\n",
    "\n",
    "\n",
    "## Introduction\n",
    "\n",
    "Feature Engineering is the processing of transforming raw data into features that can represent the underlying patterns of the data better. They can help boost the accuracy by a great deal and improve the ability of the model to generalise on unseen data. Every data scientist knows the importance feature engineering. Spending some time thinking about how best to apply and combine the available features can be very meaningful. \n",
    "\n",
    "Hyper parameter Optimisation is another such process which can help complement a good model by tuning it's hyperparameters, which can have a tremendous impact on the accuracy of the model. The time and resources required for these processes are generally the reason they're overlooked. \n",
    "\n",
    "With xfeat, RAPIDS and Optuna - we aim to bridge these gaps and elevate the performance. \n",
    "\n",
    "## What is Optuna?\n",
    "[Optuna](https://github.com/optuna/optuna) s a lightweight framework for automatic hyperparameter optimization. It provides a define-by-run API, which makes it easy to adapt to any already existing code that we have and enables high modularity and the flexibility to construct hyperparameter spaces dynamically. By simply wrapping the objective function with Optuna can help perform a parallel-distributed HPO search over a search space. As we'll see in this notebook.\n",
    "\n",
    "## What is xfeat?\n",
    "[xfeat](https://github.com/pfnet-research/xfeat) is a feature engineering & exploration library using GPUs and Optuna. It provides a scikit-learn-like API for feature engineering with support for pandas and cuDF dataframes and cuPy arrays. \n",
    "\n",
    "## What is MLflow?\n",
    "[MLflow](https://mlflow.org/https://mlflow.org/) MLflow is an, \"open source platform to manage the ML lifecycle, including experimentation, reproducibility, deployment, and a central model registry\".\n",
    "\n",
    "## What is RAPIDS?\n",
    "[RAPIDS](https://rapids.ai/about.html) framework  provides a library suite that can execute end-to-end data science pipelines entirely on GPUs.  The libraries in the framework include [cuDF](https://github.com/rapidsai/cudf) - a GPU Dataframe with pandas-like API, [cuML](https://github.com/rapidsai/cuml) - implement machine learning algorithms that provide a scikit-learn-like API and many more. You can learn more [here](https://github.com/rapidsai).\n",
    "\n",
    "In this notebook, we'll show how one can use these tools together to develop and improve a machine learning model. We'll use Airlines dataset (20M rows) to predict if a flight will be delayed or not. We'll explore how to use Optuna with RAPIDS and the speedups that we can achieve with the integration of these."
   ]
  },
  {
   "cell_type": "code",
   "execution_count": 1,
   "metadata": {},
   "outputs": [],
   "source": [
    "import time\n",
    "import json\n",
    "import requests\n",
    "import logging\n",
    "\n",
    "import numpy as np\n",
    "\n",
    "import cupy\n",
    "import cudf\n",
    "import cuml\n",
    "from cuml import LogisticRegression\n",
    "from cuml.metrics import accuracy_score\n",
    "from cuml.preprocessing.model_selection import train_test_split\n",
    "\n",
    "import mlflow\n",
    "import mlflow.sklearn\n",
    "from  mlflow.tracking import MlflowClient\n",
    "\n",
    "from mlflow.models.signature import infer_signature\n",
    "\n",
    "import optuna\n",
    "from optuna.integration.mlflow import MLflowCallback\n",
    "from optuna.study import StudyDirection\n",
    "from optuna.trial import TrialState\n",
    "from optuna import type_checking\n",
    "\n",
    "import xfeat\n",
    "from xfeat.pipeline import Pipeline\n",
    "from xfeat.num_encoder import SelectNumerical\n",
    "from xfeat.selector import ChiSquareKBest\n",
    "from xfeat.optuna_selector import KBestThresholdExplorer, GroupCombinationExplorer\n",
    "from functools import partial\n",
    "\n",
    "import sklearn\n",
    "from sklearn.model_selection import KFold\n",
    "import pandas as pd\n",
    "\n",
    "from xfeat import ArithmeticCombinations, Pipeline, SelectNumerical, LabelEncoder, SelectCategorical, TargetEncoder"
   ]
  },
  {
   "cell_type": "code",
   "execution_count": 2,
   "metadata": {},
   "outputs": [],
   "source": [
    "\n",
    "import time\n",
    "from contextlib import contextmanager\n",
    "# Helping time blocks of code\n",
    "@contextmanager\n",
    "def timed(txt):\n",
    "    t0 = time.time()\n",
    "    yield\n",
    "    t1 = time.time()\n",
    "    print(\"%32s time:  %8.5f\" % (txt, t1 - t0))"
   ]
  },
  {
   "cell_type": "markdown",
   "metadata": {},
   "source": [
    "### MLflow Configuration"
   ]
  },
  {
   "cell_type": "code",
   "execution_count": 3,
   "metadata": {},
   "outputs": [],
   "source": [
    "MLFLOW_TRACKING_URI='sqlite:////tmp/mlflow-db.sqlite'\n",
    "MLFLOW_MODEL_ID = \"rapids-optuna-airline\"\n",
    "\n",
    "def get_latest_mlflow_model(tracking_uri, model_id):\n",
    "    client = MlflowClient(tracking_uri=tracking_uri, registry_uri=tracking_uri)\n",
    "    model = client.get_registered_model(model_id)\n",
    "    latest_model = model.latest_versions[0]\n",
    "\n",
    "    return f\"MLFLOW_TRACKING_URI={tracking_uri} mlflow models serve --no-conda -m models:/{model_id}/{latest_model.version} -p 56767\"\n",
    "\n",
    "## Custom callback, for additional flexibility, based on MLflowCallback\n",
    "class RAPIDSMLflowCallback(object):\n",
    "    def __init__(self, tracking_uri: str = \"sqlite:////tmp/mlflow-db.sqlite\",\n",
    "                 experiment_name: str = \"RAPIDS-Optuna\",\n",
    "                 metric_name=\"value\"):\n",
    "        self._tracking_uri = tracking_uri\n",
    "        self._experiment_name = experiment_name\n",
    "        self._metric_name = metric_name\n",
    "        \n",
    "    def __call__(self, study, trial):\n",
    "        if (self._tracking_uri is not None):\n",
    "            mlflow.set_tracking_uri(self._tracking_uri)\n",
    "        \n",
    "        eid = mlflow.set_experiment(self._experiment_name)\n",
    "        with mlflow.start_run(run_name=f\"Trial: {trial.number}\", experiment_id=eid, nested=True):\n",
    "            trial_value = trial.value if trial.value is not None else float(\"nan\")\n",
    "            mlflow.log_metric(self._metric_name, trial_value)\n",
    "            \n",
    "            mlflow.log_params(trial.params)\n",
    "\n",
    "            tags = {}\n",
    "            tags[\"number\"] = str(trial.number)\n",
    "            tags[\"datetime_start\"] = str(trial.datetime_start)\n",
    "            tags[\"datetime_complete\"] = str(trial.datetime_complete)\n",
    "            tags['RAPIDS cuDF Version'] = str(cudf.__version__)\n",
    "            tags['RAPIDS cuML Version'] = str(cuml.__version__)\n",
    "            tags['SKlearn Version'] = str(sklearn.__version__)\n",
    "\n",
    "            trial_state = trial.state\n",
    "            if (isinstance(trial_state, TrialState)):\n",
    "                tags['state'] = str(trial_state).split('.')[-1]\n",
    "            \n",
    "            # Set direction and convert it to str and remove the common prefix.\n",
    "            study_direction = study.direction\n",
    "            if isinstance(study_direction, StudyDirection):\n",
    "                tags[\"direction\"] = str(study_direction).split(\".\")[-1]\n",
    "\n",
    "            tags.update(trial.user_attrs)\n",
    "            distributions = {\n",
    "                (k + \"_distribution\"): str(v) for (k, v) in trial.distributions.items()\n",
    "            }\n",
    "            tags.update(distributions)\n",
    "\n",
    "            # This is a temporary fix on Optuna side. It avoids an error with user\n",
    "            # attributes that are too long. It should be fixed on MLflow side later.\n",
    "            # When it is fixed on MLflow side this codeblock can be removed.\n",
    "            # see https://github.com/optuna/optuna/issues/1340\n",
    "            # see https://github.com/mlflow/mlflow/issues/2931\n",
    "            max_mlflow_tag_length = 5000\n",
    "            for key, value in tags.items():\n",
    "                value = str(value)  # make sure it is a string\n",
    "                if len(value) > max_mlflow_tag_length:\n",
    "                    tags[key] = textwrap.shorten(value, max_mlflow_tag_length)\n",
    "\n",
    "            mlflow.set_tags(tags) "
   ]
  },
  {
   "cell_type": "markdown",
   "metadata": {},
   "source": [
    "### Feature Engineering\n",
    "\n",
    "We'll be using the following functions to perform a few feature engineering tasks on the data. The `feature_engineering` function is called on the dataframe `df`, in this function we perform a simple Arithmetic Combinations on the numerical columns that adds two columns to create a new one. We specify the `operator` and `r` - r is used to indicate how many columns need to be combined.\n",
    "\n",
    "Then we call `categorical_encoding` which converts the categorical columns to numerical ones and then performs `target_encoding`. Target Encoding replaces the value with the target mean. This is helpful in classification problem to boost the model accuracy. Find more resources at the end of the notebook.\n",
    "\n",
    "You'll also notice we use `Pipeline` from xfeat to combine two or more feature engineering tasks together. This is useful to concatenate encoders sequentially.\n",
    "\n",
    "Read more about Feature Encoding and Pipelining with xfeat [here](https://github.com/pfnet-research/xfeat/blob/master/_docs/feature_encoding.md)."
   ]
  },
  {
   "cell_type": "code",
   "execution_count": 4,
   "metadata": {},
   "outputs": [],
   "source": [
    "def feature_engineering(df):\n",
    "    \"\"\"\n",
    "    Perform feature engineering and return a new df with engineered features\n",
    "    \"\"\"\n",
    "    if isinstance(df, cudf.DataFrame):\n",
    "        df_train, df_test, y_train, y_test = train_test_split(df, \"ArrDelayBinary\",random_state=np.random.seed(0), shuffle=True)\n",
    "    else:\n",
    "        from sklearn.model_selection import train_test_split as sk_split\n",
    "        df_train, df_test, y_train, y_test = sk_split(df[df.columns.difference([\"ArrDelayBinary\"])], df[\"ArrDelayBinary\"],random_state=np.random.seed(0), shuffle=True)\n",
    "\n",
    "    # Xfeat's internal fold mechanism creates RangeIndex references, so we need to do an index reset on our data frames.\n",
    "    df_train = df_train.reset_index(drop=True)\n",
    "    df_test = df_test.reset_index(drop=True)\n",
    "    y_train = y_train.reset_index(drop=True)\n",
    "    y_test = y_test.reset_index(drop=True)\n",
    "    \n",
    "    # Need to do this to ensure we are appropriately assigning the split values\n",
    "    df_train[\"ArrDelayBinary\"] = y_train\n",
    "    df_test[\"ArrDelayBinary\"] = y_test\n",
    "    \n",
    "    # combine into one pipeline\n",
    "    encoder = Pipeline([\n",
    "                        LabelEncoder(output_suffix=\"\"),\n",
    "                        TargetEncoder(target_col=\"ArrDelayBinary\", output_suffix=\"\"),\n",
    "                        ArithmeticCombinations(exclude_cols=[\"ArrDelayBinary\"],\n",
    "                                               drop_origin=False,\n",
    "                                               operator=\"+\",\n",
    "                                               r=2,\n",
    "                                               output_suffix=\"_plus\")\n",
    "                    ])\n",
    "    df_train = encoder.fit_transform(df_train)\n",
    "    df_test = encoder.transform(df_test)\n",
    "    if isinstance(df, cudf.DataFrame):\n",
    "        df = cudf.concat([df_train, df_test], sort=False)\n",
    "    else:\n",
    "        df = pd.concat([df_train, df_test], sort=False)\n",
    "    return df"
   ]
  },
  {
   "cell_type": "markdown",
   "metadata": {},
   "source": [
    "### Feature Selection and Hyper parameter Optimisation\n",
    "\n",
    "Now that we have some new features, how do we know they are relevant for the task or represent anything meaningful? We use the feature selection process to do this. This helps in selection of a subset of features that are  most informative. This helps in simplifying the problem and ensures that we aren't overloading the system with unimportant features. Optuna provides a way to choose a `selector` which accepts a `Pipeline` object from xfeat. You can see in the `feature_selection` function we define a Pipeline that takes in an Explorer and a Selection Algorithm (`ChiSquareKBest`). We pass this to an Optuna Study object, along with an Objective function\n",
    "\n",
    "### Objective Function\n",
    "The objective function will be the one we optimize in Optuna Study. Objective funciton tries out different values for the parameters that we are tuning and saving the results in `study.trials_dataframes()`.\n",
    "\n",
    "Let's define the objective function for this HPO task by making use of the `train_and_eval()`. You can see that we simply choose a value for the parameters and call the `train_and_eval` method, making Optuna very easy to use in an existing workflow.\n",
    "\n",
    "The objective remains constant over different samplers, which are built-in options in Optuna to enable the selection of different sampling algorithms that optuna provides. Some of the available ones include - GridSampler, RandomSampler, TPESampler, etc. We'll use TPESampler for this demo, but feel free to try different samplers to notice the chnages in performance.\n",
    "\n",
    "\n",
    "### HPO Trials and Study\n",
    "Optuna uses [study](https://optuna.readthedocs.io/en/stable/reference/study.html) and [trials](https://optuna.readthedocs.io/en/stable/reference/trial.html) to keep track of the HPO experiments. Put simply, a trial is a single call of the objective function while a set of trials make up a study. We will pick the optimal performing trial from a study to get the best parameters that were used in that run."
   ]
  },
  {
   "cell_type": "code",
   "execution_count": 5,
   "metadata": {},
   "outputs": [],
   "source": [
    "def train_and_eval(df, penalty='l2', C=1.0, l1_ratio=\"None\", fit_intercept=True, selector=None, return_model=False):\n",
    "    # Splitting data and prepping for selector fit\n",
    "    if isinstance(df, cudf.DataFrame):\n",
    "        X_train,  X_test, y_train, y_test = train_test_split(df, \"ArrDelayBinary\",random_state=np.random.seed(0), shuffle=True)\n",
    "    else:\n",
    "        from sklearn.model_selection import train_test_split as sk_split\n",
    "        X_train,  X_test, y_train, y_test = sk_split(df[df.columns.difference([\"ArrDelayBinary\"])], df[\"ArrDelayBinary\"],random_state=np.random.seed(0), shuffle=True)\n",
    "    # Xfeat's internal fold mechanism creates RangeIndex references, so we need to do an index reset on our data frames.\n",
    "\n",
    "    X_train = X_train.reset_index(drop=True)\n",
    "    X_test = X_test.reset_index(drop=True)\n",
    "    y_train = y_train.reset_index(drop=True)\n",
    "    y_test = y_test.reset_index(drop=True)\n",
    "    \n",
    "    if selector:\n",
    "        # For the selector, the label also needs to be in the DF\n",
    "        X_train[\"ArrDelayBinary\"] = y_train\n",
    "        X_test[\"ArrDelayBinary\"] = y_test\n",
    "        \n",
    "        X_train = selector.fit_transform(X_train)\n",
    "        X_test = selector.transform(X_test)\n",
    "    \n",
    "    # Train and get accuracy\n",
    "    if isinstance(df, cudf.DataFrame):\n",
    "        classifier = LogisticRegression(penalty=penalty,\n",
    "                                        C=C,\n",
    "                                        l1_ratio=l1_ratio,\n",
    "                                        fit_intercept=fit_intercept,\n",
    "                                        max_iter=10000)\n",
    "#         classifier.fit(X_train, y_train)\n",
    "#         y_pred = classifier.predict_proba(X_test.values)[:, 1]\n",
    "#         score = accuracy_score(y_test, y_pred)\n",
    "        score = 0.75\n",
    "    else:\n",
    "        from sklearn.linear_model import LogisticRegression as sk_log\n",
    "        classifier = sk_log(solver='saga',\n",
    "                            penalty=penalty,\n",
    "                                        C=C,\n",
    "                                        l1_ratio=l1_ratio,\n",
    "                                        fit_intercept=fit_intercept,\n",
    "                                        max_iter=10000)\n",
    "        score = 0.75\n",
    "#         classifier.fit(X_train, y_train)\n",
    "#         y_pred = classifier.predict(X_test)\n",
    "#         from sklearn.metrics import accuracy_score as sk_acc\n",
    "#         score = sk_acc(y_test.astype('float64'), y_pred)\n",
    "    \n",
    "    \n",
    "    if (return_model):\n",
    "        if isinstance(X_test, cudf.DataFrame):\n",
    "            return score, classifier, infer_signature(np.ones((30,5)), np.ones((30,)))\n",
    "#             return score, classifier, infer_signature(X_test.to_pandas(), cupy.asnumpy(y_pred))\n",
    "        else:\n",
    "            return score, classifier, infer_signature(np.ones((30,5)), np.ones((30,)))\n",
    "#             return score, classifier, infer_signature(X_test, y_pred)\n",
    "    \n",
    "    return score\n",
    "\n",
    "def objective(df, selector, trial):\n",
    "    \"\"\"\n",
    "    Performs the training and evaluation of the set of parameters and subset of features using selector.\n",
    "    \"\"\"\n",
    "    selector.set_trial(trial)\n",
    "    \n",
    "    # Select Params\n",
    "    C = trial.suggest_uniform(\"C\", 0 , 7.0)\n",
    "    penalty = trial.suggest_categorical(\"penalty\", ['l1', 'none', 'l2'])\n",
    "    l1_ratio = trial.suggest_uniform(\"l1_ratio\", 0 , 1.0)\n",
    "    fit_intercept = trial.suggest_categorical(\"fit_intercept\", [True, False])\n",
    "    \n",
    "    score = train_and_eval(df,\n",
    "                           penalty=penalty,\n",
    "                           C=C,\n",
    "                           l1_ratio=l1_ratio,\n",
    "                           fit_intercept=fit_intercept,\n",
    "                           selector=selector)\n",
    "    return score\n",
    "\n",
    "def feature_selection(df, experiment_name):\n",
    "    \"\"\"\n",
    "    Defines the Pipeline and performs the optuna opt\n",
    "    \"\"\"\n",
    "    artifact_path = \"rapids-optuna-airline\"\n",
    "    selector = Pipeline(\n",
    "        [\n",
    "            SelectNumerical(),\n",
    "            KBestThresholdExplorer(ChiSquareKBest(target_col=\"ArrDelayBinary\")),\n",
    "        ]\n",
    "    )\n",
    "\n",
    "    mlfcb = RAPIDSMLflowCallback(\n",
    "        tracking_uri=MLFLOW_TRACKING_URI,\n",
    "        experiment_name=experiment_name,\n",
    "        metric_name='accuracy')\n",
    "    \n",
    "    study = optuna.create_study(direction=\"maximize\")\n",
    "    \n",
    "\n",
    "    mlflow.set_tracking_uri(MLFLOW_TRACKING_URI)\n",
    "    mlflow.set_experiment(experiment_name)\n",
    "    with mlflow.start_run(run_name=f\"Optuna-HPO:{study.study_name}\"):\n",
    "        study.optimize(partial(objective, df, selector), n_trials=N_TRIALS, callbacks=[mlfcb])\n",
    "        \n",
    "        selector.from_trial(study.best_trial)\n",
    "        selected_cols = selector.get_selected_cols()\n",
    "        df_select = df[selected_cols]\n",
    "        df_select['ArrDelayBinary'] = df['ArrDelayBinary']\n",
    "        \n",
    "        params = study.best_params\n",
    "        score, classifier, signature = train_and_eval(df_select,\n",
    "                      C=params['C'],\n",
    "                      penalty=params['penalty'],\n",
    "                      l1_ratio=params['l1_ratio'],\n",
    "                      fit_intercept=params['fit_intercept'],\n",
    "                      return_model=True)\n",
    "        \n",
    "        with mlflow.start_run(run_name='Final Classifier', nested=True):\n",
    "            mlflow.log_metric('accuracy', score)\n",
    "            mlflow.log_params(params)\n",
    "            mlflow.sklearn.log_model(classifier,\n",
    "                                 signature=signature,\n",
    "                                 artifact_path=artifact_path,\n",
    "                                 registered_model_name=\"rapids-optuna-airline\",\n",
    "                                 conda_env='conda/conda.yaml')\n",
    "\n",
    "    return study, df_select.reset_index(drop=True)           "
   ]
  },
  {
   "cell_type": "code",
   "execution_count": 6,
   "metadata": {},
   "outputs": [],
   "source": [
    "INPUT_FILE = \"/home/data/airline_data/air_par.parquet\"\n",
    "\n",
    "N_ROWS = 1000000\n",
    "N_TRIALS = 10"
   ]
  },
  {
   "cell_type": "code",
   "execution_count": 7,
   "metadata": {},
   "outputs": [
    {
     "data": {
      "text/plain": [
       "0.75"
      ]
     },
     "execution_count": 7,
     "metadata": {},
     "output_type": "execute_result"
    }
   ],
   "source": [
    "## PANDAS comparison\n",
    "\n",
    "df_pandas = pd.read_parquet(INPUT_FILE)[:N_ROWS]\n",
    "train_and_eval(df_pandas)"
   ]
  },
  {
   "cell_type": "code",
   "execution_count": 8,
   "metadata": {},
   "outputs": [
    {
     "name": "stdout",
     "output_type": "stream",
     "text": [
      "After feature eng:  0.75\n",
      "                       Pandas FE time:  20.64642\n"
     ]
    }
   ],
   "source": [
    "with timed(\"Pandas FE\"):\n",
    "    df_pandas_fe = feature_engineering(df_pandas)\n",
    "    df_pandas_fe[\"ArrDelayBinary\"] = df_pandas_fe[\"ArrDelayBinary\"].astype('float64')\n",
    "    score = train_and_eval(df_pandas_fe)\n",
    "    print(\"After feature eng: \", score)"
   ]
  },
  {
   "cell_type": "code",
   "execution_count": 9,
   "metadata": {},
   "outputs": [
    {
     "name": "stderr",
     "output_type": "stream",
     "text": [
      "[I 2020-08-25 00:49:41,582] Trial 0 finished with value: 0.75 and parameters: {'C': 3.192910097864334, 'penalty': 'l2', 'l1_ratio': 0.8003947059033009, 'fit_intercept': True, 'KBestThresholdExplorer.k': 24.0}. Best is trial 0 with value: 0.75.\n",
      "[I 2020-08-25 00:49:44,415] Trial 1 finished with value: 0.75 and parameters: {'C': 2.892394038606845, 'penalty': 'none', 'l1_ratio': 0.4370362166088597, 'fit_intercept': True, 'KBestThresholdExplorer.k': 84.0}. Best is trial 0 with value: 0.75.\n",
      "[I 2020-08-25 00:49:47,137] Trial 2 finished with value: 0.75 and parameters: {'C': 6.177324151619951, 'penalty': 'l2', 'l1_ratio': 0.2930061195652861, 'fit_intercept': True, 'KBestThresholdExplorer.k': 14.0}. Best is trial 0 with value: 0.75.\n",
      "[I 2020-08-25 00:49:49,921] Trial 3 finished with value: 0.75 and parameters: {'C': 6.8679965078787495, 'penalty': 'l1', 'l1_ratio': 0.7191367931159377, 'fit_intercept': False, 'KBestThresholdExplorer.k': 61.0}. Best is trial 0 with value: 0.75.\n",
      "[I 2020-08-25 00:49:52,713] Trial 4 finished with value: 0.75 and parameters: {'C': 5.192204438531347, 'penalty': 'l1', 'l1_ratio': 0.6462289352487052, 'fit_intercept': True, 'KBestThresholdExplorer.k': 67.0}. Best is trial 0 with value: 0.75.\n",
      "[I 2020-08-25 00:49:55,555] Trial 5 finished with value: 0.75 and parameters: {'C': 2.141722813066129, 'penalty': 'none', 'l1_ratio': 0.9215853510607747, 'fit_intercept': True, 'KBestThresholdExplorer.k': 87.0}. Best is trial 0 with value: 0.75.\n",
      "[I 2020-08-25 00:49:58,278] Trial 6 finished with value: 0.75 and parameters: {'C': 1.465870100304318, 'penalty': 'none', 'l1_ratio': 0.16036360570881902, 'fit_intercept': True, 'KBestThresholdExplorer.k': 13.0}. Best is trial 0 with value: 0.75.\n",
      "[I 2020-08-25 00:50:01,047] Trial 7 finished with value: 0.75 and parameters: {'C': 5.333146859340634, 'penalty': 'l1', 'l1_ratio': 0.7732393567408309, 'fit_intercept': True, 'KBestThresholdExplorer.k': 51.0}. Best is trial 0 with value: 0.75.\n",
      "[I 2020-08-25 00:50:03,859] Trial 8 finished with value: 0.75 and parameters: {'C': 2.3668973658378816, 'penalty': 'l1', 'l1_ratio': 0.964538471882042, 'fit_intercept': False, 'KBestThresholdExplorer.k': 62.0}. Best is trial 0 with value: 0.75.\n",
      "[I 2020-08-25 00:50:06,563] Trial 9 finished with value: 0.75 and parameters: {'C': 3.723886740285552, 'penalty': 'l1', 'l1_ratio': 0.09501202219931526, 'fit_intercept': False, 'KBestThresholdExplorer.k': 17.0}. Best is trial 0 with value: 0.75.\n",
      "Optuna selector is not last component.\n",
      "/opt/conda/envs/rapids/lib/python3.7/site-packages/ipykernel_launcher.py:107: SettingWithCopyWarning: \n",
      "A value is trying to be set on a copy of a slice from a DataFrame.\n",
      "Try using .loc[row_indexer,col_indexer] = value instead\n",
      "\n",
      "See the caveats in the documentation: https://pandas.pydata.org/pandas-docs/stable/user_guide/indexing.html#returning-a-view-versus-a-copy\n",
      "Registered model 'rapids-optuna-airline' already exists. Creating a new version of this model...\n",
      "Created version '3' of model 'rapids-optuna-airline'.\n"
     ]
    },
    {
     "name": "stdout",
     "output_type": "stream",
     "text": [
      "              FS + Optuna PANDAS time:  28.90368\n"
     ]
    }
   ],
   "source": [
    "# Disable Alembic driver, used by MLflow, from logging INFO messages to the command line.\n",
    "with timed(\"FS + Optuna PANDAS\"):\n",
    "    logging.getLogger('alembic').setLevel(logging.CRITICAL)\n",
    "    study, df_select = feature_selection(df_pandas_fe, experiment_name='Optuna Testing')"
   ]
  },
  {
   "cell_type": "code",
   "execution_count": 10,
   "metadata": {},
   "outputs": [],
   "source": [
    "df_ = cudf.read_parquet(INPUT_FILE)[:N_ROWS]\n",
    "\n",
    "df_ = df_.drop([\"ActualElapsedTime\"], axis=1)\n",
    "# Can't handle nagative values, yet\n",
    "# indices = df_.loc[df_[\"ActualElapsedTime\"] < 0].index\n",
    "# df_.loc[indices, \"ActualElapsedTime\"] = -1 * df_.loc[indices, \"ActualElapsedTime\"]\n",
    "# cuML can't handle object types\n",
    "# df_[\"ArrDelayBinary\"] = df_[\"ArrDelayBinary\"].astype('int32')"
   ]
  },
  {
   "cell_type": "code",
   "execution_count": 11,
   "metadata": {},
   "outputs": [
    {
     "name": "stdout",
     "output_type": "stream",
     "text": [
      "Default performance:  0.75\n",
      "                         Default time:   0.14441\n"
     ]
    }
   ],
   "source": [
    "with timed(\"Default\"):\n",
    "    print(\"Default performance: \", train_and_eval(df_))"
   ]
  },
  {
   "cell_type": "code",
   "execution_count": 12,
   "metadata": {},
   "outputs": [],
   "source": [
    "# We cast to objects for categorical  and target encoding\n",
    "df_[\"UniqueCarrier\"] = df_[\"UniqueCarrier\"].astype(\"object\")\n",
    "df_[\"Origin\"] = df_[\"Origin\"].astype(\"object\")\n",
    "df_[\"Dest\"] = df_[\"Dest\"].astype(\"object\")"
   ]
  },
  {
   "cell_type": "code",
   "execution_count": 13,
   "metadata": {},
   "outputs": [
    {
     "name": "stdout",
     "output_type": "stream",
     "text": [
      "After feature eng:  0.75\n",
      "                              FE time:  11.60571\n"
     ]
    }
   ],
   "source": [
    "with timed(\"FE\"):\n",
    "    df_feature_eng = feature_engineering(df_)\n",
    "    df_feature_eng[\"ArrDelayBinary\"] = df_feature_eng[\"ArrDelayBinary\"].astype('float64')\n",
    "    score = train_and_eval(df_feature_eng)\n",
    "    print(\"After feature eng: \", score)"
   ]
  },
  {
   "cell_type": "code",
   "execution_count": 14,
   "metadata": {},
   "outputs": [
    {
     "name": "stderr",
     "output_type": "stream",
     "text": [
      "[I 2020-08-25 00:50:22,003] Trial 0 finished with value: 0.75 and parameters: {'C': 1.7892687108623155, 'penalty': 'none', 'l1_ratio': 0.6016876495700351, 'fit_intercept': True, 'KBestThresholdExplorer.k': 2.0}. Best is trial 0 with value: 0.75.\n",
      "[I 2020-08-25 00:50:23,275] Trial 1 finished with value: 0.75 and parameters: {'C': 2.5861649522960337, 'penalty': 'none', 'l1_ratio': 0.26755135227250204, 'fit_intercept': True, 'KBestThresholdExplorer.k': 42.0}. Best is trial 0 with value: 0.75.\n",
      "[I 2020-08-25 00:50:24,397] Trial 2 finished with value: 0.75 and parameters: {'C': 3.212032671827403, 'penalty': 'none', 'l1_ratio': 0.6012434449623701, 'fit_intercept': False, 'KBestThresholdExplorer.k': 23.0}. Best is trial 0 with value: 0.75.\n",
      "[I 2020-08-25 00:50:25,518] Trial 3 finished with value: 0.75 and parameters: {'C': 3.311212754407529, 'penalty': 'l2', 'l1_ratio': 0.41321188210636106, 'fit_intercept': False, 'KBestThresholdExplorer.k': 61.0}. Best is trial 0 with value: 0.75.\n",
      "[I 2020-08-25 00:50:26,648] Trial 4 finished with value: 0.75 and parameters: {'C': 0.3150971491977216, 'penalty': 'none', 'l1_ratio': 0.1131837928596866, 'fit_intercept': False, 'KBestThresholdExplorer.k': 36.0}. Best is trial 0 with value: 0.75.\n",
      "[I 2020-08-25 00:50:27,814] Trial 5 finished with value: 0.75 and parameters: {'C': 2.0576193038995254, 'penalty': 'l2', 'l1_ratio': 0.7479521085263711, 'fit_intercept': True, 'KBestThresholdExplorer.k': 6.0}. Best is trial 0 with value: 0.75.\n",
      "[I 2020-08-25 00:50:28,945] Trial 6 finished with value: 0.75 and parameters: {'C': 3.627020756893752, 'penalty': 'l2', 'l1_ratio': 0.19859941388562607, 'fit_intercept': False, 'KBestThresholdExplorer.k': 28.0}. Best is trial 0 with value: 0.75.\n",
      "[I 2020-08-25 00:50:30,107] Trial 7 finished with value: 0.75 and parameters: {'C': 5.288403163674216, 'penalty': 'none', 'l1_ratio': 0.037066964854940654, 'fit_intercept': True, 'KBestThresholdExplorer.k': 5.0}. Best is trial 0 with value: 0.75.\n",
      "[I 2020-08-25 00:50:31,268] Trial 8 finished with value: 0.75 and parameters: {'C': 4.79309793739826, 'penalty': 'none', 'l1_ratio': 0.41065956653688573, 'fit_intercept': False, 'KBestThresholdExplorer.k': 34.0}. Best is trial 0 with value: 0.75.\n",
      "[I 2020-08-25 00:50:32,447] Trial 9 finished with value: 0.75 and parameters: {'C': 5.453287198868454, 'penalty': 'l1', 'l1_ratio': 0.07779316479892351, 'fit_intercept': False, 'KBestThresholdExplorer.k': 44.0}. Best is trial 0 with value: 0.75.\n",
      "Optuna selector is not last component.\n",
      "Registered model 'rapids-optuna-airline' already exists. Creating a new version of this model...\n",
      "Created version '4' of model 'rapids-optuna-airline'.\n"
     ]
    },
    {
     "name": "stdout",
     "output_type": "stream",
     "text": [
      "                     FS + Optuna time:  12.00636\n"
     ]
    }
   ],
   "source": [
    "# Disable Alembic driver, used by MLflow, from logging INFO messages to the command line.\n",
    "with timed(\"FS + Optuna\"):\n",
    "    logging.getLogger('alembic').setLevel(logging.CRITICAL)\n",
    "    study, df_select = feature_selection(df_feature_eng, experiment_name='Optuna Testing')"
   ]
  },
  {
   "cell_type": "code",
   "execution_count": 15,
   "metadata": {},
   "outputs": [],
   "source": [
    "df_select[\"ArrDelayBinary\"] = df_[\"ArrDelayBinary\"].astype('float64')"
   ]
  },
  {
   "cell_type": "code",
   "execution_count": 16,
   "metadata": {},
   "outputs": [
    {
     "name": "stdout",
     "output_type": "stream",
     "text": [
      "After feature selection and paramter tuning:  0.75\n"
     ]
    }
   ],
   "source": [
    "params = study.best_params\n",
    "score, classifier, signature = train_and_eval(df_select,\n",
    "                      C=params['C'],\n",
    "                      penalty=params['penalty'],\n",
    "                      l1_ratio=params['l1_ratio'],\n",
    "                      fit_intercept=params['fit_intercept'],\n",
    "                      return_model=True)\n",
    "\n",
    "print(\"After feature selection and paramter tuning: \", score)\n"
   ]
  },
  {
   "cell_type": "code",
   "execution_count": 17,
   "metadata": {},
   "outputs": [],
   "source": [
    "# study.trials_dataframe().to_csv(\"xfeat_chi2_100Trials_run3_catenc.csv\", header=True)"
   ]
  },
  {
   "cell_type": "code",
   "execution_count": 18,
   "metadata": {},
   "outputs": [],
   "source": [
    "# Retrieve best model results."
   ]
  },
  {
   "cell_type": "code",
   "execution_count": 19,
   "metadata": {},
   "outputs": [
    {
     "name": "stdout",
     "output_type": "stream",
     "text": [
      "{'C': 1.7892687108623155, 'penalty': 'none', 'l1_ratio': 0.6016876495700351, 'fit_intercept': True, 'KBestThresholdExplorer.k': 2.0}\n"
     ]
    }
   ],
   "source": [
    "print(params)"
   ]
  },
  {
   "cell_type": "markdown",
   "metadata": {},
   "source": [
    "\n",
    "|Run No.|Default|After FE| Optuna Best| After Selection and HPO|Best Params| Cols|\n",
    "|-|-|-|-|-|-|-|\n",
    "|1|0.18747319281101227|0.18743759393692017|0.812965989112854|0.8126764297485352| {'C': 2.7250515887031064,'penalty': 'l2','l1_ratio':0.1403560039741595, 'fit_intercept': True, 'KBestThresholdExplorer.k': 1.0} |['UniqueCarrierFlightNum_plus', 'ArrDelayBinary']|\n",
    "|2|0.18741360306739807|0.1874103993177414|0.812959611415863|0.8120356202125549|{'C': 3.398344321379011,'penalty': 'none','l1_ratio': 0.5549805266380305,'fit_intercept': True,'KBestThresholdExplorer.k': 1.0}|['FlightNumDistance_plus', 'ArrDelayBinary']|\n",
    "|3|0.18733720481395721|0.18729199469089508|0.8128544092178345|0.812743604183197|{'C': 4.202429766198819, 'penalty': 'none', 'l1_ratio': 0.6571582748501704, 'fit_intercept': False, 'KBestThresholdExplorer.k': 1.0}|['UniqueCarrierFlightNum_plus', 'ArrDelayBinary']|"
   ]
  },
  {
   "cell_type": "markdown",
   "metadata": {},
   "source": [
    "### Launch our optimized model within the MLflow framework.\n",
    "Run the code block below to identify the most recently registered model, with the 'rapids-optuna-airline' tag; after identifying the latest model version, run the code below in a separate terminal, and wait for it to fully load your model."
   ]
  },
  {
   "cell_type": "code",
   "execution_count": 20,
   "metadata": {},
   "outputs": [
    {
     "name": "stdout",
     "output_type": "stream",
     "text": [
      "Run the command below in a terminal, and wait for it to load your model:\n",
      "\n",
      "        MLFLOW_TRACKING_URI=sqlite:////tmp/mlflow-db.sqlite mlflow models serve --no-conda -m models:/rapids-optuna-airline/4 -p 56767\n"
     ]
    }
   ],
   "source": [
    "print(f\"Run the command below in a terminal, and wait for it to load your model:\\n\\n  \\\n",
    "      {get_latest_mlflow_model(MLFLOW_TRACKING_URI, MLFLOW_MODEL_ID)}\")"
   ]
  },
  {
   "cell_type": "markdown",
   "metadata": {},
   "source": [
    "You should see output similar to the following:\n",
    "\n",
    "```shell\n",
    "2020/07/27 13:59:49 INFO mlflow.models.cli: Selected backend for flavor 'python_function'\n",
    "2020/07/27 13:59:49 INFO mlflow.pyfunc.backend: === Running command 'source /anaconda3/bin/../etc/profile.d/conda.sh && conda activate mlflow-3335621df6011b1847d2555b195418d4496e5ffd 1>&2 && gunicorn --timeout=60 -b 127.0.0.1:5000 -w 1 ${GUNICORN_CMD_ARGS} -- mlflow.pyfunc.scoring_server.wsgi:app'\n",
    "[2020-07-27 13:59:50 -0600] [23779] [INFO] Starting gunicorn 20.0.4\n",
    "[2020-07-27 13:59:50 -0600] [23779] [INFO] Listening at: http://127.0.0.1:5000 (23779)\n",
    "[2020-07-27 13:59:50 -0600] [23779] [INFO] Using worker: sync\n",
    "[2020-07-27 13:59:50 -0600] [23788] [INFO] Booting worker with pid: 23788\n",
    "```"
   ]
  },
  {
   "cell_type": "code",
   "execution_count": null,
   "metadata": {},
   "outputs": [
    {
     "name": "stdout",
     "output_type": "stream",
     "text": [
      "Caught exception attempting to call model endpoint: HTTPConnectionPool(host='localhost', port=56767): Max retries exceeded with url: /invocations (Caused by NewConnectionError('<urllib3.connection.HTTPConnection object at 0x7fb6408bff90>: Failed to establish a new connection: [Errno 111] Connection refused'))\n",
      "... Sleeping ...\n"
     ]
    }
   ],
   "source": [
    "host='localhost'\n",
    "port='56767'\n",
    "\n",
    "headers = {\n",
    "    \"Content-Type\": \"application/json\",\n",
    "    \"format\": \"pandas-split\"\n",
    "}\n",
    "\n",
    "data = { \n",
    "    \"columns\": [\"Year\", \"Month\", \"DayofMonth\", \"DayofWeek\", \"CRSDepTime\", \"CRSArrTime\", \"UniqueCarrier\",\n",
    "                \"FlightNum\", \"ActualElapsedTime\", \"Origin\", \"Dest\", \"Distance\", \"Diverted\"],\n",
    "    \"data\": [[1987, 10, 1, 4, 1, 556, 0, 190, 247, 202, 162, 1846, 0]]\n",
    "}\n",
    "\n",
    "while (True):\n",
    "    try:\n",
    "        resp = requests.post(url=\"http://%s:%s/invocations\" % (host, port), data=json.dumps(data), headers=headers)\n",
    "        print('Classification: %s' % (\"ON-Time\" if resp.text == \"[0.0]\" else \"LATE\"))\n",
    "        break\n",
    "    except Exception as e:\n",
    "        errmsg = \"Caught exception attempting to call model endpoint: %s\" % e\n",
    "        print(errmsg)\n",
    "        print(\"... Sleeping ...\")\n",
    "        time.sleep(20)"
   ]
  },
  {
   "cell_type": "markdown",
   "metadata": {},
   "source": [
    "## Additional Resources\n",
    "[How to Win a DS Kaggle competition](https://www.coursera.org/learn/competitive-data-science)\n",
    "\n",
    "[Target Encoding and Bayesian Target Encoding](https://towardsdatascience.com/target-encoding-and-bayesian-target-encoding-5c6a6c58ae8c)\n"
   ]
  }
 ],
 "metadata": {
  "kernelspec": {
   "display_name": "Python 3",
   "language": "python",
   "name": "python3"
  },
  "language_info": {
   "codemirror_mode": {
    "name": "ipython",
    "version": 3
   },
   "file_extension": ".py",
   "mimetype": "text/x-python",
   "name": "python",
   "nbconvert_exporter": "python",
   "pygments_lexer": "ipython3",
   "version": "3.7.8"
  }
 },
 "nbformat": 4,
 "nbformat_minor": 4
}
