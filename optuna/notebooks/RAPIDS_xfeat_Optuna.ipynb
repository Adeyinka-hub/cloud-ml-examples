{
 "cells": [
  {
   "cell_type": "markdown",
   "metadata": {},
   "source": [
    "# Improving model performance with xfeat, RAPIDS and Optuna\n",
    "\n",
    "\n",
    "## Introduction\n",
    "\n",
    "Feature Engineering is the processing of transforming raw data into features that can represent the underlying patterns of the data better. They can help boost the accuracy by a great deal and improve the ability of the model to generalise on unseen data. Every data scientist knows the importance feature engineering. Spending some time thinking about how best to apply and combine the available features can be very meaningful. \n",
    "\n",
    "Hyper parameter Optimisation is another such process which can help complement a good model by tuning it's hyperparameters, which can have a tremendous impact on the accuracy of the model. The time and resources required for these processes are generally the reason they're overlooked. \n",
    "\n",
    "With xfeat, RAPIDS and Optuna - we aim to bridge these gaps and elevate the performance. \n",
    "\n",
    "## What is Optuna?\n",
    "[Optuna](https://github.com/optuna/optuna) s a lightweight framework for automatic hyperparameter optimization. It provides a define-by-run API, which makes it easy to adapt to any already existing code that we have and enables high modularity and the flexibility to construct hyperparameter spaces dynamically. By simply wrapping the objective function with Optuna can help perform a parallel-distributed HPO search over a search space. As we'll see in this notebook.\n",
    "\n",
    "## What is xfeat?\n",
    "[xfeat](https://github.com/pfnet-research/xfeat) is a feature engineering & exploration library using GPUs and Optuna. It provides a scikit-learn-like API for feature engineering with support for pandas and cuDF dataframes and cuPy arrays. \n",
    "\n",
    "## What is MLflow?\n",
    "[MLflow](https://mlflow.org/https://mlflow.org/) MLflow is an, \"open source platform to manage the ML lifecycle, including experimentation, reproducibility, deployment, and a central model registry\".\n",
    "\n",
    "## What is RAPIDS?\n",
    "[RAPIDS](https://rapids.ai/about.html) framework  provides a library suite that can execute end-to-end data science pipelines entirely on GPUs.  The libraries in the framework include [cuDF](https://github.com/rapidsai/cudf) - a GPU Dataframe with pandas-like API, [cuML](https://github.com/rapidsai/cuml) - implement machine learning algorithms that provide a scikit-learn-like API and many more. You can learn more [here](https://github.com/rapidsai).\n",
    "\n",
    "In this notebook, we'll show how one can use these tools together to develop and improve a machine learning model. We'll use Airlines dataset (20M rows) to predict if a flight will be delayed or not. We'll explore how to use Optuna with RAPIDS and the speedups that we can achieve with the integration of these, and to see the improvements with GPU speedups, we have included a pandas version to run on CPU. A table summarizing the results is available at the end of the notebook."
   ]
  },
  {
   "cell_type": "code",
   "execution_count": 1,
   "metadata": {},
   "outputs": [],
   "source": [
    "import time\n",
    "import json\n",
    "import requests\n",
    "import logging\n",
    "\n",
    "import numpy as np\n",
    "\n",
    "import cupy\n",
    "import cudf\n",
    "import cuml\n",
    "from cuml import LogisticRegression\n",
    "from cuml.metrics import accuracy_score\n",
    "from cuml.preprocessing.model_selection import train_test_split\n",
    "\n",
    "import mlflow\n",
    "import mlflow.sklearn\n",
    "from  mlflow.tracking import MlflowClient\n",
    "\n",
    "from mlflow.models.signature import infer_signature\n",
    "\n",
    "import optuna\n",
    "from optuna.integration.mlflow import MLflowCallback\n",
    "from optuna.study import StudyDirection\n",
    "from optuna.trial import TrialState\n",
    "from optuna import type_checking\n",
    "\n",
    "import xfeat\n",
    "from xfeat.pipeline import Pipeline\n",
    "from xfeat.num_encoder import SelectNumerical\n",
    "from xfeat.selector import ChiSquareKBest\n",
    "from xfeat.optuna_selector import KBestThresholdExplorer, GroupCombinationExplorer\n",
    "from functools import partial\n",
    "\n",
    "import sklearn\n",
    "from sklearn.model_selection import KFold\n",
    "import pandas as pd\n",
    "\n",
    "from xfeat import ArithmeticCombinations, Pipeline, SelectNumerical, LabelEncoder, SelectCategorical, TargetEncoder"
   ]
  },
  {
   "cell_type": "code",
   "execution_count": 2,
   "metadata": {},
   "outputs": [],
   "source": [
    "\n",
    "import time\n",
    "from contextlib import contextmanager\n",
    "# Helping time blocks of code\n",
    "@contextmanager\n",
    "def timed(txt):\n",
    "    t0 = time.time()\n",
    "    yield\n",
    "    t1 = time.time()\n",
    "    print(\"%32s time:  %8.5f\" % (txt, t1 - t0))"
   ]
  },
  {
   "cell_type": "markdown",
   "metadata": {},
   "source": [
    "### MLflow Configuration\n",
    "\n",
    "For tracking the hyperparameter optimisation expriments, we will use MLFlow. In the next cell, the required variables are set up along with the callback class `RAPIDSMLflowCallback` that we will pass to Optuna for tracking."
   ]
  },
  {
   "cell_type": "code",
   "execution_count": 3,
   "metadata": {},
   "outputs": [],
   "source": [
    "MLFLOW_TRACKING_URI='sqlite:////tmp/mlflow-db.sqlite'\n",
    "MLFLOW_MODEL_ID = \"rapids-optuna-airline\"\n",
    "\n",
    "def get_latest_mlflow_model(tracking_uri, model_id):\n",
    "    client = MlflowClient(tracking_uri=tracking_uri, registry_uri=tracking_uri)\n",
    "    model = client.get_registered_model(model_id)\n",
    "    latest_model = model.latest_versions[0]\n",
    "\n",
    "    return f\"MLFLOW_TRACKING_URI={tracking_uri} mlflow models serve --no-conda -m models:/{model_id}/{latest_model.version} -p 56767\"\n",
    "\n",
    "## Custom callback, for additional flexibility, based on MLflowCallback\n",
    "class RAPIDSMLflowCallback(object):\n",
    "    def __init__(self, tracking_uri: str = \"sqlite:////tmp/mlflow-db.sqlite\",\n",
    "                 experiment_name: str = \"RAPIDS-Optuna\",\n",
    "                 metric_name=\"value\"):\n",
    "        self._tracking_uri = tracking_uri\n",
    "        self._experiment_name = experiment_name\n",
    "        self._metric_name = metric_name\n",
    "        \n",
    "    def __call__(self, study, trial):\n",
    "        if (self._tracking_uri is not None):\n",
    "            mlflow.set_tracking_uri(self._tracking_uri)\n",
    "        \n",
    "        eid = mlflow.set_experiment(self._experiment_name)\n",
    "        with mlflow.start_run(run_name=f\"Trial: {trial.number}\", experiment_id=eid, nested=True):\n",
    "            trial_value = trial.value if trial.value is not None else float(\"nan\")\n",
    "            mlflow.log_metric(self._metric_name, trial_value)\n",
    "            \n",
    "            mlflow.log_params(trial.params)\n",
    "\n",
    "            tags = {}\n",
    "            tags[\"number\"] = str(trial.number)\n",
    "            tags[\"datetime_start\"] = str(trial.datetime_start)\n",
    "            tags[\"datetime_complete\"] = str(trial.datetime_complete)\n",
    "            tags['RAPIDS cuDF Version'] = str(cudf.__version__)\n",
    "            tags['RAPIDS cuML Version'] = str(cuml.__version__)\n",
    "            tags['SKlearn Version'] = str(sklearn.__version__)\n",
    "\n",
    "            trial_state = trial.state\n",
    "            if (isinstance(trial_state, TrialState)):\n",
    "                tags['state'] = str(trial_state).split('.')[-1]\n",
    "            \n",
    "            # Set direction and convert it to str and remove the common prefix.\n",
    "            study_direction = study.direction\n",
    "            if isinstance(study_direction, StudyDirection):\n",
    "                tags[\"direction\"] = str(study_direction).split(\".\")[-1]\n",
    "\n",
    "            tags.update(trial.user_attrs)\n",
    "            distributions = {\n",
    "                (k + \"_distribution\"): str(v) for (k, v) in trial.distributions.items()\n",
    "            }\n",
    "            tags.update(distributions)\n",
    "\n",
    "            # This is a temporary fix on Optuna side. It avoids an error with user\n",
    "            # attributes that are too long. It should be fixed on MLflow side later.\n",
    "            # When it is fixed on MLflow side this codeblock can be removed.\n",
    "            # see https://github.com/optuna/optuna/issues/1340\n",
    "            # see https://github.com/mlflow/mlflow/issues/2931\n",
    "            max_mlflow_tag_length = 5000\n",
    "            for key, value in tags.items():\n",
    "                value = str(value)  # make sure it is a string\n",
    "                if len(value) > max_mlflow_tag_length:\n",
    "                    tags[key] = textwrap.shorten(value, max_mlflow_tag_length)\n",
    "\n",
    "            mlflow.set_tags(tags) "
   ]
  },
  {
   "cell_type": "markdown",
   "metadata": {},
   "source": [
    "### Feature Engineering\n",
    "\n",
    "We'll be using the following functions to perform a few feature engineering tasks on the data. The `feature_engineering` function is called on the dataframe `df`, in this function we perform a simple Arithmetic Combinations on the numerical columns that adds two columns to create a new one. We specify the `operator` and `r` - r is used to indicate how many columns need to be combined.\n",
    "\n",
    "Then we call `categorical_encoding` which converts the categorical columns to numerical ones and then performs `target_encoding`. Target Encoding replaces the value with the target mean. This is helpful in classification problem to boost the model accuracy. Find more resources at the end of the notebook.\n",
    "\n",
    "You'll also notice we use `Pipeline` from xfeat to combine two or more feature engineering tasks together. This is useful to concatenate encoders sequentially.\n",
    "\n",
    "Read more about Feature Encoding and Pipelining with xfeat [here](https://github.com/pfnet-research/xfeat/blob/master/_docs/feature_encoding.md)."
   ]
  },
  {
   "cell_type": "code",
   "execution_count": 4,
   "metadata": {},
   "outputs": [],
   "source": [
    "def feature_engineering(df):\n",
    "    \"\"\"\n",
    "    Perform feature engineering and return a new df with engineered features\n",
    "    \"\"\"\n",
    "    if isinstance(df, cudf.DataFrame):\n",
    "        df_train, df_test, y_train, y_test = train_test_split(df, \"ArrDelayBinary\",random_state=np.random.seed(0), shuffle=True)\n",
    "    else:\n",
    "        from sklearn.model_selection import train_test_split as sk_split\n",
    "        df_train, df_test, y_train, y_test = sk_split(df[df.columns.difference([\"ArrDelayBinary\"])], df[\"ArrDelayBinary\"],random_state=np.random.seed(0), shuffle=True)\n",
    "\n",
    "    # Xfeat's internal fold mechanism creates RangeIndex references, so we need to do an index reset on our data frames.\n",
    "    df_train = df_train.reset_index(drop=True)\n",
    "    df_test = df_test.reset_index(drop=True)\n",
    "    y_train = y_train.reset_index(drop=True)\n",
    "    y_test = y_test.reset_index(drop=True)\n",
    "    \n",
    "    # Need to do this to ensure we are appropriately assigning the split values\n",
    "    df_train[\"ArrDelayBinary\"] = y_train\n",
    "    df_test[\"ArrDelayBinary\"] = y_test\n",
    "    \n",
    "    # combine into one pipeline\n",
    "    encoder = Pipeline([\n",
    "                        LabelEncoder(output_suffix=\"\"),\n",
    "                        TargetEncoder(target_col=\"ArrDelayBinary\", output_suffix=\"\"),\n",
    "                        ArithmeticCombinations(exclude_cols=[\"ArrDelayBinary\"],\n",
    "                                               drop_origin=False,\n",
    "                                               operator=\"+\",\n",
    "                                               r=2,\n",
    "                                               output_suffix=\"_plus\")\n",
    "                    ])\n",
    "    df_train = encoder.fit_transform(df_train)\n",
    "    df_test = encoder.transform(df_test)\n",
    "    if isinstance(df, cudf.DataFrame):\n",
    "        df = cudf.concat([df_train, df_test], sort=False)\n",
    "    else:\n",
    "        df = pd.concat([df_train, df_test], sort=False)\n",
    "    return df"
   ]
  },
  {
   "cell_type": "markdown",
   "metadata": {},
   "source": [
    "### Feature Selection and Hyper parameter Optimisation\n",
    "\n",
    "Now that we have some new features, how do we know they are relevant for the task or represent anything meaningful? We use the feature selection process to do this. This helps in selection of a subset of features that are  most informative. This helps in simplifying the problem and ensures that we aren't overloading the system with unimportant features. Optuna provides a way to choose a `selector` which accepts a `Pipeline` object from xfeat. You can see in the `feature_selection` function we define a Pipeline that takes in an Explorer and a Selection Algorithm (`ChiSquareKBest`). We pass this to an Optuna Study object, along with an Objective function\n",
    "\n",
    "### Objective Function\n",
    "The objective function will be the one we optimize in Optuna Study. Objective funciton tries out different values for the parameters that we are tuning and saving the results in `study.trials_dataframes()`.\n",
    "\n",
    "Let's define the objective function for this HPO task by making use of the `train_and_eval()`. You can see that we simply choose a value for the parameters and call the `train_and_eval` method, making Optuna very easy to use in an existing workflow.\n",
    "\n",
    "The objective remains constant over different samplers, which are built-in options in Optuna to enable the selection of different sampling algorithms that optuna provides. Some of the available ones include - GridSampler, RandomSampler, TPESampler, etc. We'll use TPESampler for this demo, but feel free to try different samplers to notice the chnages in performance.\n",
    "\n",
    "\n",
    "### HPO Trials and Study\n",
    "Optuna uses [study](https://optuna.readthedocs.io/en/stable/reference/study.html) and [trials](https://optuna.readthedocs.io/en/stable/reference/trial.html) to keep track of the HPO experiments. Put simply, a trial is a single call of the objective function while a set of trials make up a study. We will pick the optimal performing trial from a study to get the best parameters that were used in that run."
   ]
  },
  {
   "cell_type": "code",
   "execution_count": 5,
   "metadata": {},
   "outputs": [],
   "source": [
    "def train_and_eval(df, penalty='l2', C=1.0, l1_ratio=\"None\", fit_intercept=True, selector=None, return_model=False):\n",
    "    # Splitting data and prepping for selector fit\n",
    "    if isinstance(df, cudf.DataFrame):\n",
    "        X_train,  X_test, y_train, y_test = train_test_split(df, \"ArrDelayBinary\",random_state=np.random.seed(0), shuffle=True)\n",
    "    else:\n",
    "        from sklearn.model_selection import train_test_split as sk_split\n",
    "        X_train,  X_test, y_train, y_test = sk_split(df[df.columns.difference([\"ArrDelayBinary\"])], df[\"ArrDelayBinary\"],random_state=np.random.seed(0), shuffle=True)\n",
    "    # Xfeat's internal fold mechanism creates RangeIndex references, so we need to do an index reset on our data frames.\n",
    "\n",
    "    X_train = X_train.reset_index(drop=True)\n",
    "    X_test = X_test.reset_index(drop=True)\n",
    "    y_train = y_train.reset_index(drop=True)\n",
    "    y_test = y_test.reset_index(drop=True)\n",
    "    \n",
    "    if selector:\n",
    "        with timed(\"Feature selector\"):\n",
    "            # For the selector, the label also needs to be in the DF\n",
    "            X_train[\"ArrDelayBinary\"] = y_train\n",
    "            X_test[\"ArrDelayBinary\"] = y_test\n",
    "\n",
    "            X_train = selector.fit_transform(X_train)\n",
    "            X_test = selector.transform(X_test)\n",
    "    \n",
    "    # Train and get accuracy\n",
    "    if isinstance(df, cudf.DataFrame):\n",
    "        classifier = LogisticRegression(penalty=penalty,\n",
    "                                        C=C,\n",
    "                                        l1_ratio=l1_ratio,\n",
    "                                        fit_intercept=fit_intercept,\n",
    "                                        max_iter=10000)\n",
    "        with timed(\"Training and evaluation\"):\n",
    "            classifier.fit(X_train, y_train)\n",
    "            y_pred = classifier.predict_proba(X_test.values)[:, 1]\n",
    "            score = accuracy_score(y_test, y_pred)\n",
    "    else:\n",
    "        from sklearn.linear_model import LogisticRegression as sk_log\n",
    "        classifier = sk_log(solver='saga',\n",
    "                            penalty=penalty,\n",
    "                                        C=C,\n",
    "                                        l1_ratio=l1_ratio,\n",
    "                                        fit_intercept=fit_intercept,\n",
    "                                        max_iter=10000)\n",
    "        with timed(\"Training and evaluation\"):\n",
    "            classifier.fit(X_train, y_train)\n",
    "            y_pred = classifier.predict(X_test)\n",
    "            from sklearn.metrics import accuracy_score as sk_acc\n",
    "            score = sk_acc(y_test.astype('float64'), y_pred)\n",
    "    \n",
    "    \n",
    "    if (return_model):\n",
    "        if isinstance(X_test, cudf.DataFrame):\n",
    "            return score, classifier, infer_signature(X_test.to_pandas(), cupy.asnumpy(y_pred))\n",
    "        else:\n",
    "            return score, classifier, infer_signature(X_test, y_pred)\n",
    "    \n",
    "    return score\n",
    "\n",
    "def objective(df, selector, trial):\n",
    "    \"\"\"\n",
    "    Performs the training and evaluation of the set of parameters and subset of features using selector.\n",
    "    \"\"\"\n",
    "    selector.set_trial(trial)\n",
    "    \n",
    "    # Select Params\n",
    "    C = trial.suggest_uniform(\"C\", 0 , 7.0)\n",
    "    penalty = trial.suggest_categorical(\"penalty\", ['l1', 'none', 'l2'])\n",
    "    l1_ratio = trial.suggest_uniform(\"l1_ratio\", 0 , 1.0)\n",
    "    fit_intercept = trial.suggest_categorical(\"fit_intercept\", [True, False])\n",
    "    \n",
    "    score = train_and_eval(df,\n",
    "                           penalty=penalty,\n",
    "                           C=C,\n",
    "                           l1_ratio=l1_ratio,\n",
    "                           fit_intercept=fit_intercept,\n",
    "                           selector=selector)\n",
    "    return score\n",
    "\n",
    "def feature_selection(df, experiment_name):\n",
    "    \"\"\"\n",
    "    Defines the Pipeline and performs the optuna opt\n",
    "    \"\"\"\n",
    "    artifact_path = \"rapids-optuna-airline\"\n",
    "    selector = Pipeline(\n",
    "        [\n",
    "            SelectNumerical(),\n",
    "            KBestThresholdExplorer(ChiSquareKBest(target_col=\"ArrDelayBinary\")),\n",
    "        ]\n",
    "    )\n",
    "\n",
    "    mlfcb = RAPIDSMLflowCallback(\n",
    "        tracking_uri=MLFLOW_TRACKING_URI,\n",
    "        experiment_name=experiment_name,\n",
    "        metric_name='accuracy')\n",
    "    \n",
    "    study = optuna.create_study(direction=\"maximize\")\n",
    "    \n",
    "\n",
    "    mlflow.set_tracking_uri(MLFLOW_TRACKING_URI)\n",
    "    mlflow.set_experiment(experiment_name)\n",
    "    with mlflow.start_run(run_name=f\"Optuna-HPO:{study.study_name}\"):\n",
    "        study.optimize(partial(objective, df, selector), n_trials=N_TRIALS, callbacks=[mlfcb])\n",
    "        \n",
    "        selector.from_trial(study.best_trial)\n",
    "        selected_cols = selector.get_selected_cols()\n",
    "        df_select = df[selected_cols]\n",
    "        df_select['ArrDelayBinary'] = df['ArrDelayBinary']\n",
    "        \n",
    "        params = study.best_params\n",
    "        score, classifier, signature = train_and_eval(df_select,\n",
    "                      C=params['C'],\n",
    "                      penalty=params['penalty'],\n",
    "                      l1_ratio=params['l1_ratio'],\n",
    "                      fit_intercept=params['fit_intercept'],\n",
    "                      return_model=True)\n",
    "        \n",
    "        with mlflow.start_run(run_name='Final Classifier', nested=True):\n",
    "            mlflow.log_metric('accuracy', score)\n",
    "            mlflow.log_params(params)\n",
    "            mlflow.sklearn.log_model(classifier,\n",
    "                                 signature=signature,\n",
    "                                 artifact_path=artifact_path,\n",
    "                                 registered_model_name=\"rapids-optuna-airline\",\n",
    "                                 conda_env='conda/conda.yaml')\n",
    "\n",
    "    return study, df_select.reset_index(drop=True)           "
   ]
  },
  {
   "cell_type": "markdown",
   "metadata": {},
   "source": [
    "### Set Experiment Variables\n",
    "\n",
    "Change the `INPUT_FILE` to correspond to the path in your local system and select the number of rows and trials to run the experiment for. \n",
    "\n",
    "NOTE: It is not recommended to run the CPU version for more than 100,000 rows. To avoid this, we set a glad `cpu_run` based on `N_ROWS`"
   ]
  },
  {
   "cell_type": "code",
   "execution_count": 6,
   "metadata": {},
   "outputs": [],
   "source": [
    "INPUT_FILE = \"/home/data/airline_data/air_par.parquet\"\n",
    "\n",
    "N_ROWS = 10000000\n",
    "N_TRIALS = 100\n",
    "\n",
    "cpu_run = N_ROWS <= 100000"
   ]
  },
  {
   "cell_type": "code",
   "execution_count": 7,
   "metadata": {},
   "outputs": [],
   "source": [
    "if cpu_run:\n",
    "    with timed(\"Complete Pandas run\"):\n",
    "        df_pandas = pd.read_parquet(INPUT_FILE)[:N_ROWS]\n",
    "        print(\"Default scikit-learn \", train_and_eval(df_pandas))\n",
    "        with timed(\"Pandas FE\"):\n",
    "            df_pandas_fe = feature_engineering(df_pandas)\n",
    "            df_pandas_fe[\"ArrDelayBinary\"] = df_pandas_fe[\"ArrDelayBinary\"].astype('float64')\n",
    "            score = train_and_eval(df_pandas_fe)\n",
    "        print(\"After feature eng: \", score)\n",
    "\n",
    "        # Disable Alembic driver, used by MLflow, from logging INFO messages to the command line.\n",
    "        with timed(\"FS + Optuna PANDAS\"):\n",
    "            logging.getLogger('alembic').setLevel(logging.CRITICAL)\n",
    "            study, df_select = feature_selection(df_pandas_fe, experiment_name='Optuna Testing')"
   ]
  },
  {
   "cell_type": "markdown",
   "metadata": {},
   "source": [
    "## GPU Run\n",
    "\n",
    "Now, let's run the RAPIDS version by first reading in the data as cudf DataFrames."
   ]
  },
  {
   "cell_type": "code",
   "execution_count": 8,
   "metadata": {},
   "outputs": [
    {
     "name": "stdout",
     "output_type": "stream",
     "text": [
      "         Training and evaluation time:   5.66595\n",
      "Default performance:  0.8126136064529419\n",
      "                         Default time:   5.86765\n",
      "         Training and evaluation time:   0.72254\n",
      "After feature eng:  0.7998239994049072\n",
      "                              FE time:  51.24827\n",
      "                Feature selector time:   6.52997\n",
      "         Training and evaluation time:   0.31214\n"
     ]
    },
    {
     "name": "stderr",
     "output_type": "stream",
     "text": [
      "[I 2020-08-26 19:11:17,628] Trial 0 finished with value: 0.8117247819900513 and parameters: {'C': 5.015092132364396, 'penalty': 'none', 'l1_ratio': 0.57935976991689, 'fit_intercept': True, 'KBestThresholdExplorer.k': 6.0}. Best is trial 0 with value: 0.8117247819900513.\n"
     ]
    },
    {
     "name": "stdout",
     "output_type": "stream",
     "text": [
      "                Feature selector time:   6.60180\n",
      "         Training and evaluation time:   1.89756\n"
     ]
    },
    {
     "name": "stderr",
     "output_type": "stream",
     "text": [
      "[I 2020-08-26 19:11:26,915] Trial 1 finished with value: 0.8121140003204346 and parameters: {'C': 3.3602709849833055, 'penalty': 'l2', 'l1_ratio': 0.8786448416474414, 'fit_intercept': True, 'KBestThresholdExplorer.k': 63.0}. Best is trial 1 with value: 0.8121140003204346.\n"
     ]
    },
    {
     "name": "stdout",
     "output_type": "stream",
     "text": [
      "                Feature selector time:   6.56542\n",
      "         Training and evaluation time:  23.41429\n"
     ]
    },
    {
     "name": "stderr",
     "output_type": "stream",
     "text": [
      "[I 2020-08-26 19:11:57,689] Trial 2 finished with value: 0.8115227818489075 and parameters: {'C': 6.3704410899124175, 'penalty': 'l1', 'l1_ratio': 0.4555242173375491, 'fit_intercept': False, 'KBestThresholdExplorer.k': 69.0}. Best is trial 1 with value: 0.8121140003204346.\n"
     ]
    },
    {
     "name": "stdout",
     "output_type": "stream",
     "text": [
      "                Feature selector time:   6.55436\n",
      "         Training and evaluation time:  21.83118\n"
     ]
    },
    {
     "name": "stderr",
     "output_type": "stream",
     "text": [
      "[I 2020-08-26 19:12:26,853] Trial 3 finished with value: 0.8116436004638672 and parameters: {'C': 1.8241674168718227, 'penalty': 'l1', 'l1_ratio': 0.3202974112521675, 'fit_intercept': True, 'KBestThresholdExplorer.k': 29.0}. Best is trial 1 with value: 0.8121140003204346.\n"
     ]
    },
    {
     "name": "stdout",
     "output_type": "stream",
     "text": [
      "                Feature selector time:   6.56290\n",
      "         Training and evaluation time:  16.21040\n"
     ]
    },
    {
     "name": "stderr",
     "output_type": "stream",
     "text": [
      "[I 2020-08-26 19:12:50,416] Trial 4 finished with value: 0.8115984201431274 and parameters: {'C': 4.932713341755423, 'penalty': 'l1', 'l1_ratio': 0.7719416747454513, 'fit_intercept': True, 'KBestThresholdExplorer.k': 72.0}. Best is trial 1 with value: 0.8121140003204346.\n"
     ]
    },
    {
     "name": "stdout",
     "output_type": "stream",
     "text": [
      "                Feature selector time:   6.58602\n",
      "         Training and evaluation time:   0.63381\n"
     ]
    },
    {
     "name": "stderr",
     "output_type": "stream",
     "text": [
      "[I 2020-08-26 19:12:58,397] Trial 5 finished with value: 0.8120211958885193 and parameters: {'C': 3.673619665290154, 'penalty': 'l2', 'l1_ratio': 0.19643445674564075, 'fit_intercept': True, 'KBestThresholdExplorer.k': 19.0}. Best is trial 1 with value: 0.8121140003204346.\n"
     ]
    },
    {
     "name": "stdout",
     "output_type": "stream",
     "text": [
      "                Feature selector time:   6.57793\n",
      "         Training and evaluation time:   0.47110\n"
     ]
    },
    {
     "name": "stderr",
     "output_type": "stream",
     "text": [
      "[I 2020-08-26 19:13:06,195] Trial 6 finished with value: 0.8121656179428101 and parameters: {'C': 6.182347781975192, 'penalty': 'none', 'l1_ratio': 0.19678459236200674, 'fit_intercept': True, 'KBestThresholdExplorer.k': 13.0}. Best is trial 6 with value: 0.8121656179428101.\n"
     ]
    },
    {
     "name": "stdout",
     "output_type": "stream",
     "text": [
      "                Feature selector time:   6.57348\n",
      "         Training and evaluation time:   1.86489\n"
     ]
    },
    {
     "name": "stderr",
     "output_type": "stream",
     "text": [
      "[I 2020-08-26 19:13:15,384] Trial 7 finished with value: 0.8120927810668945 and parameters: {'C': 6.908669094583992, 'penalty': 'l1', 'l1_ratio': 0.28853452764953436, 'fit_intercept': True, 'KBestThresholdExplorer.k': 5.0}. Best is trial 6 with value: 0.8121656179428101.\n"
     ]
    },
    {
     "name": "stdout",
     "output_type": "stream",
     "text": [
      "                Feature selector time:   6.58446\n",
      "         Training and evaluation time:   0.77341\n"
     ]
    },
    {
     "name": "stderr",
     "output_type": "stream",
     "text": [
      "[I 2020-08-26 19:13:23,504] Trial 8 finished with value: 0.811896800994873 and parameters: {'C': 2.4985343731118252, 'penalty': 'l2', 'l1_ratio': 0.35119530386892794, 'fit_intercept': True, 'KBestThresholdExplorer.k': 18.0}. Best is trial 6 with value: 0.8121656179428101.\n"
     ]
    },
    {
     "name": "stdout",
     "output_type": "stream",
     "text": [
      "                Feature selector time:   6.58403\n",
      "         Training and evaluation time:   2.70887\n"
     ]
    },
    {
     "name": "stderr",
     "output_type": "stream",
     "text": [
      "[I 2020-08-26 19:13:33,584] Trial 9 finished with value: 0.8119919896125793 and parameters: {'C': 6.682113384279263, 'penalty': 'l2', 'l1_ratio': 0.6639724481210261, 'fit_intercept': False, 'KBestThresholdExplorer.k': 58.0}. Best is trial 6 with value: 0.8121656179428101.\n"
     ]
    },
    {
     "name": "stdout",
     "output_type": "stream",
     "text": [
      "                Feature selector time:   6.40547\n",
      "         Training and evaluation time:   2.29025\n"
     ]
    },
    {
     "name": "stderr",
     "output_type": "stream",
     "text": [
      "[I 2020-08-26 19:13:43,041] Trial 10 finished with value: 0.8118451833724976 and parameters: {'C': 0.1570150028124715, 'penalty': 'none', 'l1_ratio': 0.010645556989793636, 'fit_intercept': False, 'KBestThresholdExplorer.k': 45.0}. Best is trial 6 with value: 0.8121656179428101.\n"
     ]
    },
    {
     "name": "stdout",
     "output_type": "stream",
     "text": [
      "                Feature selector time:   6.41303\n",
      "         Training and evaluation time:   1.94834\n"
     ]
    },
    {
     "name": "stderr",
     "output_type": "stream",
     "text": [
      "[I 2020-08-26 19:13:52,188] Trial 11 finished with value: 0.811922013759613 and parameters: {'C': 3.864938389891651, 'penalty': 'none', 'l1_ratio': 0.9192489934636124, 'fit_intercept': True, 'KBestThresholdExplorer.k': 50.0}. Best is trial 6 with value: 0.8121656179428101.\n"
     ]
    },
    {
     "name": "stdout",
     "output_type": "stream",
     "text": [
      "                Feature selector time:   6.39755\n",
      "         Training and evaluation time:   1.47830\n"
     ]
    },
    {
     "name": "stderr",
     "output_type": "stream",
     "text": [
      "[I 2020-08-26 19:14:00,845] Trial 12 finished with value: 0.8121488094329834 and parameters: {'C': 2.2338075352831814, 'penalty': 'none', 'l1_ratio': 0.013948430490479502, 'fit_intercept': True, 'KBestThresholdExplorer.k': 33.0}. Best is trial 6 with value: 0.8121656179428101.\n"
     ]
    },
    {
     "name": "stdout",
     "output_type": "stream",
     "text": [
      "                Feature selector time:   6.38118\n",
      "         Training and evaluation time:   1.55230\n"
     ]
    },
    {
     "name": "stderr",
     "output_type": "stream",
     "text": [
      "[I 2020-08-26 19:14:09,596] Trial 13 finished with value: 0.8119636178016663 and parameters: {'C': 0.8437718467257365, 'penalty': 'none', 'l1_ratio': 0.014800904062024112, 'fit_intercept': True, 'KBestThresholdExplorer.k': 35.0}. Best is trial 6 with value: 0.8121656179428101.\n"
     ]
    },
    {
     "name": "stdout",
     "output_type": "stream",
     "text": [
      "                Feature selector time:   6.34799\n",
      "         Training and evaluation time:   0.73421\n"
     ]
    },
    {
     "name": "stderr",
     "output_type": "stream",
     "text": [
      "[I 2020-08-26 19:14:17,610] Trial 14 finished with value: 0.8117871880531311 and parameters: {'C': 1.8329720515507504, 'penalty': 'none', 'l1_ratio': 0.1236723125074815, 'fit_intercept': True, 'KBestThresholdExplorer.k': 21.0}. Best is trial 6 with value: 0.8121656179428101.\n"
     ]
    },
    {
     "name": "stdout",
     "output_type": "stream",
     "text": [
      "                Feature selector time:   6.34170\n",
      "         Training and evaluation time:   1.36057\n"
     ]
    },
    {
     "name": "stderr",
     "output_type": "stream",
     "text": [
      "[I 2020-08-26 19:14:26,092] Trial 15 finished with value: 0.8118007779121399 and parameters: {'C': 5.457141775859964, 'penalty': 'none', 'l1_ratio': 0.12341508289093522, 'fit_intercept': True, 'KBestThresholdExplorer.k': 30.0}. Best is trial 6 with value: 0.8121656179428101.\n"
     ]
    },
    {
     "name": "stdout",
     "output_type": "stream",
     "text": [
      "                Feature selector time:   6.37401\n",
      "         Training and evaluation time:   0.17266\n"
     ]
    },
    {
     "name": "stderr",
     "output_type": "stream",
     "text": [
      "[I 2020-08-26 19:14:33,407] Trial 16 finished with value: 0.8118572235107422 and parameters: {'C': 2.538205251820032, 'penalty': 'none', 'l1_ratio': 0.009735447071242603, 'fit_intercept': True, 'KBestThresholdExplorer.k': 1.0}. Best is trial 6 with value: 0.8121656179428101.\n"
     ]
    },
    {
     "name": "stdout",
     "output_type": "stream",
     "text": [
      "                Feature selector time:   6.17093\n",
      "         Training and evaluation time:   0.30065\n"
     ]
    },
    {
     "name": "stderr",
     "output_type": "stream",
     "text": [
      "[I 2020-08-26 19:14:40,633] Trial 17 finished with value: 0.8118271827697754 and parameters: {'C': 0.9855604051244007, 'penalty': 'none', 'l1_ratio': 0.16340106870086635, 'fit_intercept': False, 'KBestThresholdExplorer.k': 14.0}. Best is trial 6 with value: 0.8121656179428101.\n"
     ]
    },
    {
     "name": "stdout",
     "output_type": "stream",
     "text": [
      "                Feature selector time:   6.18792\n",
      "         Training and evaluation time:   1.85016\n"
     ]
    },
    {
     "name": "stderr",
     "output_type": "stream",
     "text": [
      "[I 2020-08-26 19:14:49,426] Trial 18 finished with value: 0.8115351796150208 and parameters: {'C': 5.801714800099813, 'penalty': 'none', 'l1_ratio': 0.44014439048689974, 'fit_intercept': True, 'KBestThresholdExplorer.k': 41.0}. Best is trial 6 with value: 0.8121656179428101.\n"
     ]
    },
    {
     "name": "stdout",
     "output_type": "stream",
     "text": [
      "                Feature selector time:   6.17959\n",
      "         Training and evaluation time:   1.44635\n"
     ]
    },
    {
     "name": "stderr",
     "output_type": "stream",
     "text": [
      "[I 2020-08-26 19:14:57,832] Trial 19 finished with value: 0.8116092085838318 and parameters: {'C': 2.9652104627578306, 'penalty': 'none', 'l1_ratio': 0.23154572513417077, 'fit_intercept': True, 'KBestThresholdExplorer.k': 26.0}. Best is trial 6 with value: 0.8121656179428101.\n"
     ]
    },
    {
     "name": "stdout",
     "output_type": "stream",
     "text": [
      "                Feature selector time:   6.19196\n",
      "         Training and evaluation time:   0.23279\n"
     ]
    },
    {
     "name": "stderr",
     "output_type": "stream",
     "text": [
      "[I 2020-08-26 19:15:05,004] Trial 20 finished with value: 0.8120880126953125 and parameters: {'C': 4.33445867724, 'penalty': 'none', 'l1_ratio': 0.07516782013656476, 'fit_intercept': False, 'KBestThresholdExplorer.k': 10.0}. Best is trial 6 with value: 0.8121656179428101.\n"
     ]
    },
    {
     "name": "stdout",
     "output_type": "stream",
     "text": [
      "                Feature selector time:   6.15047\n",
      "         Training and evaluation time:   1.46245\n"
     ]
    },
    {
     "name": "stderr",
     "output_type": "stream",
     "text": [
      "[I 2020-08-26 19:15:13,388] Trial 21 finished with value: 0.811595618724823 and parameters: {'C': 3.0888420724854737, 'penalty': 'l2', 'l1_ratio': 0.9077257347445531, 'fit_intercept': True, 'KBestThresholdExplorer.k': 61.0}. Best is trial 6 with value: 0.8121656179428101.\n"
     ]
    },
    {
     "name": "stdout",
     "output_type": "stream",
     "text": [
      "                Feature selector time:   6.15132\n",
      "         Training and evaluation time:   2.43744\n"
     ]
    },
    {
     "name": "stderr",
     "output_type": "stream",
     "text": [
      "[I 2020-08-26 19:15:22,755] Trial 22 finished with value: 0.8119320273399353 and parameters: {'C': 1.8607987578560206, 'penalty': 'l2', 'l1_ratio': 0.7891076539922227, 'fit_intercept': True, 'KBestThresholdExplorer.k': 52.0}. Best is trial 6 with value: 0.8121656179428101.\n"
     ]
    },
    {
     "name": "stdout",
     "output_type": "stream",
     "text": [
      "                Feature selector time:   6.18613\n",
      "         Training and evaluation time:   1.47249\n"
     ]
    },
    {
     "name": "stderr",
     "output_type": "stream",
     "text": [
      "[I 2020-08-26 19:15:31,207] Trial 23 finished with value: 0.8112332224845886 and parameters: {'C': 4.633843734916384, 'penalty': 'l2', 'l1_ratio': 0.6339814699868218, 'fit_intercept': True, 'KBestThresholdExplorer.k': 37.0}. Best is trial 6 with value: 0.8121656179428101.\n"
     ]
    },
    {
     "name": "stdout",
     "output_type": "stream",
     "text": [
      "                Feature selector time:   6.21285\n",
      "         Training and evaluation time:   0.76088\n"
     ]
    },
    {
     "name": "stderr",
     "output_type": "stream",
     "text": [
      "[I 2020-08-26 19:15:38,937] Trial 24 finished with value: 0.7955352067947388 and parameters: {'C': 3.3973109688937506, 'penalty': 'l2', 'l1_ratio': 0.973398209441259, 'fit_intercept': True, 'KBestThresholdExplorer.k': 76.0}. Best is trial 6 with value: 0.8121656179428101.\n"
     ]
    },
    {
     "name": "stdout",
     "output_type": "stream",
     "text": [
      "                Feature selector time:   6.18156\n",
      "         Training and evaluation time:   2.15237\n"
     ]
    },
    {
     "name": "stderr",
     "output_type": "stream",
     "text": [
      "[I 2020-08-26 19:15:48,045] Trial 25 finished with value: 0.8118979930877686 and parameters: {'C': 4.210006549356738, 'penalty': 'none', 'l1_ratio': 0.38898301690168796, 'fit_intercept': True, 'KBestThresholdExplorer.k': 64.0}. Best is trial 6 with value: 0.8121656179428101.\n"
     ]
    },
    {
     "name": "stdout",
     "output_type": "stream",
     "text": [
      "                Feature selector time:   6.17611\n",
      "         Training and evaluation time:   3.22867\n"
     ]
    },
    {
     "name": "stderr",
     "output_type": "stream",
     "text": [
      "[I 2020-08-26 19:15:58,219] Trial 26 finished with value: 0.8117740154266357 and parameters: {'C': 2.4450796206393486, 'penalty': 'l2', 'l1_ratio': 0.5550337295979348, 'fit_intercept': True, 'KBestThresholdExplorer.k': 54.0}. Best is trial 6 with value: 0.8121656179428101.\n"
     ]
    },
    {
     "name": "stdout",
     "output_type": "stream",
     "text": [
      "                Feature selector time:   6.25414\n",
      "         Training and evaluation time:   2.16340\n"
     ]
    },
    {
     "name": "stderr",
     "output_type": "stream",
     "text": [
      "[I 2020-08-26 19:16:07,430] Trial 27 finished with value: 0.8118823766708374 and parameters: {'C': 0.9352622881771828, 'penalty': 'none', 'l1_ratio': 0.24896528651595665, 'fit_intercept': True, 'KBestThresholdExplorer.k': 45.0}. Best is trial 6 with value: 0.8121656179428101.\n"
     ]
    },
    {
     "name": "stdout",
     "output_type": "stream",
     "text": [
      "                Feature selector time:   6.38174\n",
      "         Training and evaluation time:   0.99960\n"
     ]
    },
    {
     "name": "stderr",
     "output_type": "stream",
     "text": [
      "[I 2020-08-26 19:16:15,562] Trial 28 finished with value: 0.811708390712738 and parameters: {'C': 1.405518799358597, 'penalty': 'l2', 'l1_ratio': 0.7674929236795788, 'fit_intercept': True, 'KBestThresholdExplorer.k': 24.0}. Best is trial 6 with value: 0.8121656179428101.\n"
     ]
    },
    {
     "name": "stdout",
     "output_type": "stream",
     "text": [
      "                Feature selector time:   6.34129\n",
      "         Training and evaluation time:   1.65907\n"
     ]
    },
    {
     "name": "stderr",
     "output_type": "stream",
     "text": [
      "[I 2020-08-26 19:16:24,328] Trial 29 finished with value: 0.8117303848266602 and parameters: {'C': 0.006963175941712141, 'penalty': 'none', 'l1_ratio': 0.05661355384615077, 'fit_intercept': True, 'KBestThresholdExplorer.k': 33.0}. Best is trial 6 with value: 0.8121656179428101.\n"
     ]
    },
    {
     "name": "stdout",
     "output_type": "stream",
     "text": [
      "                Feature selector time:   6.38726\n",
      "         Training and evaluation time:   0.32484\n"
     ]
    },
    {
     "name": "stderr",
     "output_type": "stream",
     "text": [
      "[I 2020-08-26 19:16:31,809] Trial 30 finished with value: 0.8116415739059448 and parameters: {'C': 2.9031497947999756, 'penalty': 'none', 'l1_ratio': 0.5576995358005631, 'fit_intercept': True, 'KBestThresholdExplorer.k': 7.0}. Best is trial 6 with value: 0.8121656179428101.\n"
     ]
    },
    {
     "name": "stdout",
     "output_type": "stream",
     "text": [
      "                Feature selector time:   6.42245\n",
      "         Training and evaluation time:   0.88395\n"
     ]
    },
    {
     "name": "stderr",
     "output_type": "stream",
     "text": [
      "[I 2020-08-26 19:16:39,865] Trial 31 finished with value: 0.8116335868835449 and parameters: {'C': 6.0583495569881025, 'penalty': 'l1', 'l1_ratio': 0.29041293398742807, 'fit_intercept': True, 'KBestThresholdExplorer.k': 1.0}. Best is trial 6 with value: 0.8121656179428101.\n"
     ]
    },
    {
     "name": "stdout",
     "output_type": "stream",
     "text": [
      "                Feature selector time:   6.49840\n",
      "         Training and evaluation time:   4.59976\n"
     ]
    },
    {
     "name": "stderr",
     "output_type": "stream",
     "text": [
      "[I 2020-08-26 19:16:51,729] Trial 32 finished with value: 0.811546802520752 and parameters: {'C': 6.686356094703328, 'penalty': 'l1', 'l1_ratio': 0.42212930339094873, 'fit_intercept': True, 'KBestThresholdExplorer.k': 10.0}. Best is trial 6 with value: 0.8121656179428101.\n"
     ]
    },
    {
     "name": "stdout",
     "output_type": "stream",
     "text": [
      "                Feature selector time:   6.47060\n",
      "         Training and evaluation time:   1.11297\n"
     ]
    },
    {
     "name": "stderr",
     "output_type": "stream",
     "text": [
      "[I 2020-08-26 19:17:00,090] Trial 33 finished with value: 0.8118448257446289 and parameters: {'C': 5.275042471380359, 'penalty': 'l1', 'l1_ratio': 0.28053802907251324, 'fit_intercept': True, 'KBestThresholdExplorer.k': 2.0}. Best is trial 6 with value: 0.8121656179428101.\n"
     ]
    },
    {
     "name": "stdout",
     "output_type": "stream",
     "text": [
      "                Feature selector time:   6.37479\n",
      "         Training and evaluation time:   6.35991\n"
     ]
    },
    {
     "name": "stderr",
     "output_type": "stream",
     "text": [
      "[I 2020-08-26 19:17:13,623] Trial 34 finished with value: 0.8116412162780762 and parameters: {'C': 6.831610639515795, 'penalty': 'l1', 'l1_ratio': 0.47919626049888653, 'fit_intercept': True, 'KBestThresholdExplorer.k': 15.0}. Best is trial 6 with value: 0.8121656179428101.\n"
     ]
    },
    {
     "name": "stdout",
     "output_type": "stream",
     "text": [
      "                Feature selector time:   6.36015\n",
      "         Training and evaluation time:  13.33642\n"
     ]
    },
    {
     "name": "stderr",
     "output_type": "stream",
     "text": [
      "[I 2020-08-26 19:17:34,097] Trial 35 finished with value: 0.811572790145874 and parameters: {'C': 6.0397798151106565, 'penalty': 'l1', 'l1_ratio': 0.18043695954540845, 'fit_intercept': True, 'KBestThresholdExplorer.k': 68.0}. Best is trial 6 with value: 0.8121656179428101.\n"
     ]
    },
    {
     "name": "stdout",
     "output_type": "stream",
     "text": [
      "                Feature selector time:   6.37350\n",
      "         Training and evaluation time:   6.04768\n"
     ]
    },
    {
     "name": "stderr",
     "output_type": "stream",
     "text": [
      "[I 2020-08-26 19:17:47,287] Trial 36 finished with value: 0.811733603477478 and parameters: {'C': 2.2194796346599954, 'penalty': 'l1', 'l1_ratio': 0.3321691649192449, 'fit_intercept': True, 'KBestThresholdExplorer.k': 9.0}. Best is trial 6 with value: 0.8121656179428101.\n"
     ]
    },
    {
     "name": "stdout",
     "output_type": "stream",
     "text": [
      "                Feature selector time:   6.37219\n",
      "         Training and evaluation time:   0.14315\n"
     ]
    },
    {
     "name": "stderr",
     "output_type": "stream",
     "text": [
      "[I 2020-08-26 19:17:54,693] Trial 37 finished with value: 0.8116363883018494 and parameters: {'C': 3.5765304228653276, 'penalty': 'l1', 'l1_ratio': 0.09729860080480857, 'fit_intercept': False, 'KBestThresholdExplorer.k': 5.0}. Best is trial 6 with value: 0.8121656179428101.\n"
     ]
    },
    {
     "name": "stdout",
     "output_type": "stream",
     "text": [
      "                Feature selector time:   6.48928\n",
      "         Training and evaluation time:   3.95590\n"
     ]
    },
    {
     "name": "stderr",
     "output_type": "stream",
     "text": [
      "[I 2020-08-26 19:18:05,895] Trial 38 finished with value: 0.8115723729133606 and parameters: {'C': 4.106708438688435, 'penalty': 'l1', 'l1_ratio': 0.37168096627158637, 'fit_intercept': True, 'KBestThresholdExplorer.k': 13.0}. Best is trial 6 with value: 0.8121656179428101.\n"
     ]
    },
    {
     "name": "stdout",
     "output_type": "stream",
     "text": [
      "                Feature selector time:   6.39319\n",
      "         Training and evaluation time:   0.78037\n"
     ]
    },
    {
     "name": "stderr",
     "output_type": "stream",
     "text": [
      "[I 2020-08-26 19:18:13,848] Trial 39 finished with value: 0.8114296197891235 and parameters: {'C': 4.831608044441527, 'penalty': 'l2', 'l1_ratio': 0.21193334031148267, 'fit_intercept': True, 'KBestThresholdExplorer.k': 21.0}. Best is trial 6 with value: 0.8121656179428101.\n"
     ]
    },
    {
     "name": "stdout",
     "output_type": "stream",
     "text": [
      "                Feature selector time:   6.36926\n",
      "         Training and evaluation time:   1.22157\n"
     ]
    },
    {
     "name": "stderr",
     "output_type": "stream",
     "text": [
      "[I 2020-08-26 19:18:22,206] Trial 40 finished with value: 0.8119096159934998 and parameters: {'C': 6.338493426894609, 'penalty': 'l2', 'l1_ratio': 0.15677373018637478, 'fit_intercept': True, 'KBestThresholdExplorer.k': 29.0}. Best is trial 6 with value: 0.8121656179428101.\n"
     ]
    },
    {
     "name": "stdout",
     "output_type": "stream",
     "text": [
      "                Feature selector time:   6.39497\n",
      "         Training and evaluation time:   0.16242\n"
     ]
    },
    {
     "name": "stderr",
     "output_type": "stream",
     "text": [
      "[I 2020-08-26 19:18:29,526] Trial 41 finished with value: 0.8117719888687134 and parameters: {'C': 4.608499007343148, 'penalty': 'none', 'l1_ratio': 0.06601386084621927, 'fit_intercept': False, 'KBestThresholdExplorer.k': 5.0}. Best is trial 6 with value: 0.8121656179428101.\n"
     ]
    },
    {
     "name": "stdout",
     "output_type": "stream",
     "text": [
      "                Feature selector time:   6.39009\n",
      "         Training and evaluation time:   0.30992\n"
     ]
    },
    {
     "name": "stderr",
     "output_type": "stream",
     "text": [
      "[I 2020-08-26 19:18:37,002] Trial 42 finished with value: 0.8115867972373962 and parameters: {'C': 3.265853697498243, 'penalty': 'none', 'l1_ratio': 0.02453826227123338, 'fit_intercept': False, 'KBestThresholdExplorer.k': 16.0}. Best is trial 6 with value: 0.8121656179428101.\n"
     ]
    },
    {
     "name": "stdout",
     "output_type": "stream",
     "text": [
      "                Feature selector time:   6.39244\n",
      "         Training and evaluation time:   0.23101\n"
     ]
    },
    {
     "name": "stderr",
     "output_type": "stream",
     "text": [
      "[I 2020-08-26 19:18:44,403] Trial 43 finished with value: 0.8117663860321045 and parameters: {'C': 6.997687382254052, 'penalty': 'none', 'l1_ratio': 0.09521951282005298, 'fit_intercept': False, 'KBestThresholdExplorer.k': 10.0}. Best is trial 6 with value: 0.8121656179428101.\n"
     ]
    },
    {
     "name": "stdout",
     "output_type": "stream",
     "text": [
      "                Feature selector time:   6.37331\n",
      "         Training and evaluation time:   2.49123\n"
     ]
    },
    {
     "name": "stderr",
     "output_type": "stream",
     "text": [
      "[I 2020-08-26 19:18:54,063] Trial 44 finished with value: 0.8121243715286255 and parameters: {'C': 3.894216318576628, 'penalty': 'none', 'l1_ratio': 0.13687859024759053, 'fit_intercept': False, 'KBestThresholdExplorer.k': 77.0}. Best is trial 6 with value: 0.8121656179428101.\n"
     ]
    },
    {
     "name": "stdout",
     "output_type": "stream",
     "text": [
      "                Feature selector time:   6.16486\n",
      "         Training and evaluation time:   2.50590\n"
     ]
    },
    {
     "name": "stderr",
     "output_type": "stream",
     "text": [
      "[I 2020-08-26 19:19:03,508] Trial 45 finished with value: 0.8117055892944336 and parameters: {'C': 1.3932027211240623, 'penalty': 'none', 'l1_ratio': 0.27465919185469007, 'fit_intercept': False, 'KBestThresholdExplorer.k': 76.0}. Best is trial 6 with value: 0.8121656179428101.\n"
     ]
    },
    {
     "name": "stdout",
     "output_type": "stream",
     "text": [
      "                Feature selector time:   6.15969\n",
      "         Training and evaluation time:   2.68004\n"
     ]
    },
    {
     "name": "stderr",
     "output_type": "stream",
     "text": [
      "[I 2020-08-26 19:19:13,144] Trial 46 finished with value: 0.8116968274116516 and parameters: {'C': 3.9021217595727458, 'penalty': 'none', 'l1_ratio': 0.1304588798403684, 'fit_intercept': False, 'KBestThresholdExplorer.k': 69.0}. Best is trial 6 with value: 0.8121656179428101.\n"
     ]
    },
    {
     "name": "stdout",
     "output_type": "stream",
     "text": [
      "                Feature selector time:   6.19159\n",
      "         Training and evaluation time:   2.19651\n"
     ]
    },
    {
     "name": "stderr",
     "output_type": "stream",
     "text": [
      "[I 2020-08-26 19:19:22,330] Trial 47 finished with value: 0.8116912245750427 and parameters: {'C': 2.6942001611957145, 'penalty': 'none', 'l1_ratio': 0.19056176918642856, 'fit_intercept': False, 'KBestThresholdExplorer.k': 73.0}. Best is trial 6 with value: 0.8121656179428101.\n"
     ]
    },
    {
     "name": "stdout",
     "output_type": "stream",
     "text": [
      "                Feature selector time:   6.35248\n",
      "         Training and evaluation time:   1.93168\n"
     ]
    },
    {
     "name": "stderr",
     "output_type": "stream",
     "text": [
      "[I 2020-08-26 19:19:31,402] Trial 48 finished with value: 0.8119760155677795 and parameters: {'C': 2.1163391793412836, 'penalty': 'none', 'l1_ratio': 0.002394210386916895, 'fit_intercept': True, 'KBestThresholdExplorer.k': 42.0}. Best is trial 6 with value: 0.8121656179428101.\n"
     ]
    },
    {
     "name": "stdout",
     "output_type": "stream",
     "text": [
      "                Feature selector time:   6.36393\n",
      "         Training and evaluation time:   2.67046\n"
     ]
    },
    {
     "name": "stderr",
     "output_type": "stream",
     "text": [
      "[I 2020-08-26 19:19:41,234] Trial 49 finished with value: 0.811790406703949 and parameters: {'C': 0.53514611633353, 'penalty': 'none', 'l1_ratio': 0.3155737905581892, 'fit_intercept': False, 'KBestThresholdExplorer.k': 78.0}. Best is trial 6 with value: 0.8121656179428101.\n"
     ]
    },
    {
     "name": "stdout",
     "output_type": "stream",
     "text": [
      "                Feature selector time:   6.38472\n",
      "         Training and evaluation time:   6.72824\n"
     ]
    },
    {
     "name": "stderr",
     "output_type": "stream",
     "text": [
      "[I 2020-08-26 19:19:55,117] Trial 50 finished with value: 0.8118268251419067 and parameters: {'C': 5.631100105904522, 'penalty': 'l1', 'l1_ratio': 0.21555046182291004, 'fit_intercept': True, 'KBestThresholdExplorer.k': 56.0}. Best is trial 6 with value: 0.8121656179428101.\n"
     ]
    },
    {
     "name": "stdout",
     "output_type": "stream",
     "text": [
      "                Feature selector time:   6.40486\n",
      "         Training and evaluation time:   0.42263\n"
     ]
    },
    {
     "name": "stderr",
     "output_type": "stream",
     "text": [
      "[I 2020-08-26 19:20:02,705] Trial 51 finished with value: 0.8118928074836731 and parameters: {'C': 4.325200540019067, 'penalty': 'none', 'l1_ratio': 0.054719017152568133, 'fit_intercept': False, 'KBestThresholdExplorer.k': 19.0}. Best is trial 6 with value: 0.8121656179428101.\n"
     ]
    },
    {
     "name": "stdout",
     "output_type": "stream",
     "text": [
      "                Feature selector time:   6.38287\n",
      "         Training and evaluation time:   2.20550\n"
     ]
    },
    {
     "name": "stderr",
     "output_type": "stream",
     "text": [
      "[I 2020-08-26 19:20:12,058] Trial 52 finished with value: 0.8118051886558533 and parameters: {'C': 3.6997728466819786, 'penalty': 'none', 'l1_ratio': 0.14173064235564586, 'fit_intercept': False, 'KBestThresholdExplorer.k': 60.0}. Best is trial 6 with value: 0.8121656179428101.\n"
     ]
    },
    {
     "name": "stdout",
     "output_type": "stream",
     "text": [
      "                Feature selector time:   6.39913\n",
      "         Training and evaluation time:   2.19313\n"
     ]
    },
    {
     "name": "stderr",
     "output_type": "stream",
     "text": [
      "[I 2020-08-26 19:20:21,429] Trial 53 finished with value: 0.8117148280143738 and parameters: {'C': 5.106461953017281, 'penalty': 'none', 'l1_ratio': 0.08800420874671619, 'fit_intercept': False, 'KBestThresholdExplorer.k': 47.0}. Best is trial 6 with value: 0.8121656179428101.\n"
     ]
    },
    {
     "name": "stdout",
     "output_type": "stream",
     "text": [
      "                Feature selector time:   6.41033\n",
      "         Training and evaluation time:   0.67475\n"
     ]
    },
    {
     "name": "stderr",
     "output_type": "stream",
     "text": [
      "[I 2020-08-26 19:20:29,299] Trial 54 finished with value: 0.8117728233337402 and parameters: {'C': 3.2228650461631663, 'penalty': 'none', 'l1_ratio': 0.03725139394619369, 'fit_intercept': False, 'KBestThresholdExplorer.k': 25.0}. Best is trial 6 with value: 0.8121656179428101.\n"
     ]
    },
    {
     "name": "stdout",
     "output_type": "stream",
     "text": [
      "                Feature selector time:   6.40280\n",
      "         Training and evaluation time:   2.67296\n"
     ]
    },
    {
     "name": "stderr",
     "output_type": "stream",
     "text": [
      "[I 2020-08-26 19:20:39,156] Trial 55 finished with value: 0.8117079734802246 and parameters: {'C': 6.352379551218365, 'penalty': 'none', 'l1_ratio': 0.0002471978578432177, 'fit_intercept': False, 'KBestThresholdExplorer.k': 65.0}. Best is trial 6 with value: 0.8121656179428101.\n"
     ]
    },
    {
     "name": "stdout",
     "output_type": "stream",
     "text": [
      "                Feature selector time:   6.40055\n",
      "         Training and evaluation time:   0.46875\n"
     ]
    },
    {
     "name": "stderr",
     "output_type": "stream",
     "text": [
      "[I 2020-08-26 19:20:46,790] Trial 56 finished with value: 0.8120871782302856 and parameters: {'C': 4.373274422855615, 'penalty': 'l2', 'l1_ratio': 0.16234539323813915, 'fit_intercept': True, 'KBestThresholdExplorer.k': 13.0}. Best is trial 6 with value: 0.8121656179428101.\n"
     ]
    },
    {
     "name": "stdout",
     "output_type": "stream",
     "text": [
      "                Feature selector time:   6.39577\n",
      "         Training and evaluation time:   0.31143\n"
     ]
    },
    {
     "name": "stderr",
     "output_type": "stream",
     "text": [
      "[I 2020-08-26 19:20:54,268] Trial 57 finished with value: 0.8118551969528198 and parameters: {'C': 2.820949874001595, 'penalty': 'none', 'l1_ratio': 0.23914366714139063, 'fit_intercept': True, 'KBestThresholdExplorer.k': 7.0}. Best is trial 6 with value: 0.8121656179428101.\n"
     ]
    },
    {
     "name": "stdout",
     "output_type": "stream",
     "text": [
      "                Feature selector time:   6.38398\n",
      "         Training and evaluation time:   1.37559\n"
     ]
    },
    {
     "name": "stderr",
     "output_type": "stream",
     "text": [
      "[I 2020-08-26 19:21:02,820] Trial 58 finished with value: 0.8118311762809753 and parameters: {'C': 3.9604009457799276, 'penalty': 'none', 'l1_ratio': 0.7006829213084539, 'fit_intercept': False, 'KBestThresholdExplorer.k': 37.0}. Best is trial 6 with value: 0.8121656179428101.\n"
     ]
    },
    {
     "name": "stdout",
     "output_type": "stream",
     "text": [
      "                Feature selector time:   6.32869\n",
      "         Training and evaluation time:   0.18214\n"
     ]
    },
    {
     "name": "stderr",
     "output_type": "stream",
     "text": [
      "[I 2020-08-26 19:21:10,107] Trial 59 finished with value: 0.8117460012435913 and parameters: {'C': 1.5109233685748504, 'penalty': 'l2', 'l1_ratio': 0.8619191864133572, 'fit_intercept': True, 'KBestThresholdExplorer.k': 2.0}. Best is trial 6 with value: 0.8121656179428101.\n"
     ]
    },
    {
     "name": "stdout",
     "output_type": "stream",
     "text": [
      "                Feature selector time:   6.34483\n",
      "         Training and evaluation time:   1.53210\n"
     ]
    },
    {
     "name": "stderr",
     "output_type": "stream",
     "text": [
      "[I 2020-08-26 19:21:18,734] Trial 60 finished with value: 0.8114023804664612 and parameters: {'C': 3.611817062714551, 'penalty': 'none', 'l1_ratio': 0.11480323233577205, 'fit_intercept': True, 'KBestThresholdExplorer.k': 32.0}. Best is trial 6 with value: 0.8121656179428101.\n"
     ]
    },
    {
     "name": "stdout",
     "output_type": "stream",
     "text": [
      "                Feature selector time:   6.41719\n",
      "         Training and evaluation time:   0.37679\n"
     ]
    },
    {
     "name": "stderr",
     "output_type": "stream",
     "text": [
      "[I 2020-08-26 19:21:26,300] Trial 61 finished with value: 0.8118336200714111 and parameters: {'C': 4.639591174561512, 'penalty': 'l2', 'l1_ratio': 0.1770458316922131, 'fit_intercept': True, 'KBestThresholdExplorer.k': 11.0}. Best is trial 6 with value: 0.8121656179428101.\n"
     ]
    },
    {
     "name": "stdout",
     "output_type": "stream",
     "text": [
      "                Feature selector time:   6.41217\n",
      "         Training and evaluation time:   0.48941\n"
     ]
    },
    {
     "name": "stderr",
     "output_type": "stream",
     "text": [
      "[I 2020-08-26 19:21:34,104] Trial 62 finished with value: 0.8117244243621826 and parameters: {'C': 4.311905476636383, 'penalty': 'l2', 'l1_ratio': 0.14993103551492062, 'fit_intercept': True, 'KBestThresholdExplorer.k': 13.0}. Best is trial 6 with value: 0.8121656179428101.\n"
     ]
    },
    {
     "name": "stdout",
     "output_type": "stream",
     "text": [
      "                Feature selector time:   6.38229\n",
      "         Training and evaluation time:   0.51749\n"
     ]
    },
    {
     "name": "stderr",
     "output_type": "stream",
     "text": [
      "[I 2020-08-26 19:21:41,782] Trial 63 finished with value: 0.8118568062782288 and parameters: {'C': 5.012947698276278, 'penalty': 'l2', 'l1_ratio': 0.07131509612318604, 'fit_intercept': True, 'KBestThresholdExplorer.k': 21.0}. Best is trial 6 with value: 0.8121656179428101.\n"
     ]
    },
    {
     "name": "stdout",
     "output_type": "stream",
     "text": [
      "                Feature selector time:   6.42815\n",
      "         Training and evaluation time:   0.43459\n"
     ]
    },
    {
     "name": "stderr",
     "output_type": "stream",
     "text": [
      "[I 2020-08-26 19:21:49,436] Trial 64 finished with value: 0.8116431832313538 and parameters: {'C': 4.396365421829114, 'penalty': 'l2', 'l1_ratio': 0.26354862280438374, 'fit_intercept': True, 'KBestThresholdExplorer.k': 16.0}. Best is trial 6 with value: 0.8121656179428101.\n"
     ]
    },
    {
     "name": "stdout",
     "output_type": "stream",
     "text": [
      "                Feature selector time:   6.41322\n",
      "         Training and evaluation time:   0.33802\n"
     ]
    },
    {
     "name": "stderr",
     "output_type": "stream",
     "text": [
      "[I 2020-08-26 19:21:56,944] Trial 65 finished with value: 0.811653196811676 and parameters: {'C': 3.118711205214846, 'penalty': 'l2', 'l1_ratio': 0.11810193602069272, 'fit_intercept': True, 'KBestThresholdExplorer.k': 6.0}. Best is trial 6 with value: 0.8121656179428101.\n"
     ]
    },
    {
     "name": "stdout",
     "output_type": "stream",
     "text": [
      "                Feature selector time:   6.40016\n",
      "         Training and evaluation time:   0.20241\n"
     ]
    },
    {
     "name": "stderr",
     "output_type": "stream",
     "text": [
      "[I 2020-08-26 19:22:04,318] Trial 66 finished with value: 0.8115659952163696 and parameters: {'C': 3.74487600335019, 'penalty': 'l2', 'l1_ratio': 0.19928269414914448, 'fit_intercept': True, 'KBestThresholdExplorer.k': 4.0}. Best is trial 6 with value: 0.8121656179428101.\n"
     ]
    },
    {
     "name": "stdout",
     "output_type": "stream",
     "text": [
      "                Feature selector time:   6.41862\n",
      "         Training and evaluation time:   1.96764\n"
     ]
    },
    {
     "name": "stderr",
     "output_type": "stream",
     "text": [
      "[I 2020-08-26 19:22:13,458] Trial 67 finished with value: 0.8118332028388977 and parameters: {'C': 3.422640042604772, 'penalty': 'none', 'l1_ratio': 0.23175464525573775, 'fit_intercept': True, 'KBestThresholdExplorer.k': 49.0}. Best is trial 6 with value: 0.8121656179428101.\n"
     ]
    },
    {
     "name": "stdout",
     "output_type": "stream",
     "text": [
      "                Feature selector time:   6.40477\n",
      "         Training and evaluation time:   9.73128\n"
     ]
    },
    {
     "name": "stderr",
     "output_type": "stream",
     "text": [
      "[I 2020-08-26 19:22:30,377] Trial 68 finished with value: 0.8120936155319214 and parameters: {'C': 5.289219430236034, 'penalty': 'l1', 'l1_ratio': 0.3041952089257239, 'fit_intercept': True, 'KBestThresholdExplorer.k': 17.0}. Best is trial 6 with value: 0.8121656179428101.\n"
     ]
    },
    {
     "name": "stdout",
     "output_type": "stream",
     "text": [
      "                Feature selector time:   6.39974\n",
      "         Training and evaluation time:   8.79379\n"
     ]
    },
    {
     "name": "stderr",
     "output_type": "stream",
     "text": [
      "[I 2020-08-26 19:22:46,358] Trial 69 finished with value: 0.811600387096405 and parameters: {'C': 6.021085279692392, 'penalty': 'l1', 'l1_ratio': 0.3790225651333441, 'fit_intercept': True, 'KBestThresholdExplorer.k': 18.0}. Best is trial 6 with value: 0.8121656179428101.\n"
     ]
    },
    {
     "name": "stdout",
     "output_type": "stream",
     "text": [
      "                Feature selector time:   6.39526\n",
      "         Training and evaluation time:  13.60756\n"
     ]
    },
    {
     "name": "stderr",
     "output_type": "stream",
     "text": [
      "[I 2020-08-26 19:23:07,135] Trial 70 finished with value: 0.8114084005355835 and parameters: {'C': 5.293647917341244, 'penalty': 'l1', 'l1_ratio': 0.4162585895345796, 'fit_intercept': True, 'KBestThresholdExplorer.k': 27.0}. Best is trial 6 with value: 0.8121656179428101.\n"
     ]
    },
    {
     "name": "stdout",
     "output_type": "stream",
     "text": [
      "                Feature selector time:   6.24597\n",
      "         Training and evaluation time:   4.24275\n"
     ]
    },
    {
     "name": "stderr",
     "output_type": "stream",
     "text": [
      "[I 2020-08-26 19:23:18,407] Trial 71 finished with value: 0.8116723895072937 and parameters: {'C': 5.608680788315882, 'penalty': 'l1', 'l1_ratio': 0.30579823907771597, 'fit_intercept': True, 'KBestThresholdExplorer.k': 12.0}. Best is trial 6 with value: 0.8121656179428101.\n"
     ]
    },
    {
     "name": "stdout",
     "output_type": "stream",
     "text": [
      "                Feature selector time:   6.16286\n",
      "         Training and evaluation time:   4.46772\n"
     ]
    },
    {
     "name": "stderr",
     "output_type": "stream",
     "text": [
      "[I 2020-08-26 19:23:29,824] Trial 72 finished with value: 0.8121067881584167 and parameters: {'C': 4.769580080806489, 'penalty': 'l1', 'l1_ratio': 0.165194009042767, 'fit_intercept': True, 'KBestThresholdExplorer.k': 8.0}. Best is trial 6 with value: 0.8121656179428101.\n"
     ]
    },
    {
     "name": "stdout",
     "output_type": "stream",
     "text": [
      "                Feature selector time:   6.16818\n",
      "         Training and evaluation time:   4.21283\n"
     ]
    },
    {
     "name": "stderr",
     "output_type": "stream",
     "text": [
      "[I 2020-08-26 19:23:40,981] Trial 73 finished with value: 0.8120824098587036 and parameters: {'C': 4.772209968516571, 'penalty': 'l1', 'l1_ratio': 0.03959468462162771, 'fit_intercept': True, 'KBestThresholdExplorer.k': 8.0}. Best is trial 6 with value: 0.8121656179428101.\n"
     ]
    },
    {
     "name": "stdout",
     "output_type": "stream",
     "text": [
      "                Feature selector time:   6.14637\n",
      "         Training and evaluation time:   5.65774\n"
     ]
    },
    {
     "name": "stderr",
     "output_type": "stream",
     "text": [
      "[I 2020-08-26 19:23:53,552] Trial 74 finished with value: 0.8117235898971558 and parameters: {'C': 6.555293839823255, 'penalty': 'l1', 'l1_ratio': 0.5095245782747057, 'fit_intercept': True, 'KBestThresholdExplorer.k': 9.0}. Best is trial 6 with value: 0.8121656179428101.\n"
     ]
    },
    {
     "name": "stdout",
     "output_type": "stream",
     "text": [
      "                Feature selector time:   6.18465\n",
      "         Training and evaluation time:   1.28246\n"
     ]
    },
    {
     "name": "stderr",
     "output_type": "stream",
     "text": [
      "[I 2020-08-26 19:24:01,758] Trial 75 finished with value: 0.8117200136184692 and parameters: {'C': 4.1008176686396105, 'penalty': 'l1', 'l1_ratio': 0.24903484894398936, 'fit_intercept': True, 'KBestThresholdExplorer.k': 3.0}. Best is trial 6 with value: 0.8121656179428101.\n"
     ]
    },
    {
     "name": "stdout",
     "output_type": "stream",
     "text": [
      "                Feature selector time:   6.38425\n",
      "         Training and evaluation time:   8.03839\n"
     ]
    },
    {
     "name": "stderr",
     "output_type": "stream",
     "text": [
      "[I 2020-08-26 19:24:16,977] Trial 76 finished with value: 0.8116520047187805 and parameters: {'C': 5.289183946557072, 'penalty': 'l1', 'l1_ratio': 0.09080680577102174, 'fit_intercept': True, 'KBestThresholdExplorer.k': 19.0}. Best is trial 6 with value: 0.8121656179428101.\n"
     ]
    },
    {
     "name": "stdout",
     "output_type": "stream",
     "text": [
      "                Feature selector time:   6.40470\n",
      "         Training and evaluation time:   7.42338\n"
     ]
    },
    {
     "name": "stderr",
     "output_type": "stream",
     "text": [
      "[I 2020-08-26 19:24:31,594] Trial 77 finished with value: 0.8118355870246887 and parameters: {'C': 5.845291637914222, 'penalty': 'l1', 'l1_ratio': 0.34141851126310363, 'fit_intercept': True, 'KBestThresholdExplorer.k': 23.0}. Best is trial 6 with value: 0.8121656179428101.\n"
     ]
    },
    {
     "name": "stdout",
     "output_type": "stream",
     "text": [
      "                Feature selector time:   6.33048\n",
      "         Training and evaluation time:   2.77660\n"
     ]
    },
    {
     "name": "stderr",
     "output_type": "stream",
     "text": [
      "[I 2020-08-26 19:24:41,460] Trial 78 finished with value: 0.8117163777351379 and parameters: {'C': 4.576724852913151, 'penalty': 'l1', 'l1_ratio': 0.2134900402961225, 'fit_intercept': False, 'KBestThresholdExplorer.k': 16.0}. Best is trial 6 with value: 0.8121656179428101.\n"
     ]
    },
    {
     "name": "stdout",
     "output_type": "stream",
     "text": [
      "                Feature selector time:   6.55635\n",
      "         Training and evaluation time:   0.89886\n"
     ]
    },
    {
     "name": "stderr",
     "output_type": "stream",
     "text": [
      "[I 2020-08-26 19:24:49,707] Trial 79 finished with value: 0.8115592002868652 and parameters: {'C': 6.974379485038764, 'penalty': 'l1', 'l1_ratio': 0.2827475928947683, 'fit_intercept': True, 'KBestThresholdExplorer.k': 1.0}. Best is trial 6 with value: 0.8121656179428101.\n"
     ]
    },
    {
     "name": "stdout",
     "output_type": "stream",
     "text": [
      "                Feature selector time:   6.37226\n",
      "         Training and evaluation time:   0.44860\n"
     ]
    },
    {
     "name": "stderr",
     "output_type": "stream",
     "text": [
      "[I 2020-08-26 19:24:57,296] Trial 80 finished with value: 0.8113539814949036 and parameters: {'C': 4.945643571782644, 'penalty': 'none', 'l1_ratio': 0.6282069361482971, 'fit_intercept': True, 'KBestThresholdExplorer.k': 11.0}. Best is trial 6 with value: 0.8121656179428101.\n"
     ]
    },
    {
     "name": "stdout",
     "output_type": "stream",
     "text": [
      "                Feature selector time:   6.42084\n",
      "         Training and evaluation time:   0.49491\n"
     ]
    },
    {
     "name": "stderr",
     "output_type": "stream",
     "text": [
      "[I 2020-08-26 19:25:04,984] Trial 81 finished with value: 0.8111088275909424 and parameters: {'C': 4.4576754561756955, 'penalty': 'l2', 'l1_ratio': 0.17128421873229316, 'fit_intercept': True, 'KBestThresholdExplorer.k': 14.0}. Best is trial 6 with value: 0.8121656179428101.\n"
     ]
    },
    {
     "name": "stdout",
     "output_type": "stream",
     "text": [
      "                Feature selector time:   6.39041\n",
      "         Training and evaluation time:   3.79754\n"
     ]
    },
    {
     "name": "stderr",
     "output_type": "stream",
     "text": [
      "[I 2020-08-26 19:25:15,953] Trial 82 finished with value: 0.8112543821334839 and parameters: {'C': 4.210693474775282, 'penalty': 'l1', 'l1_ratio': 0.13929748767314035, 'fit_intercept': True, 'KBestThresholdExplorer.k': 7.0}. Best is trial 6 with value: 0.8121656179428101.\n"
     ]
    },
    {
     "name": "stdout",
     "output_type": "stream",
     "text": [
      "                Feature selector time:   6.22200\n",
      "         Training and evaluation time:   0.41439\n"
     ]
    },
    {
     "name": "stderr",
     "output_type": "stream",
     "text": [
      "[I 2020-08-26 19:25:23,352] Trial 83 finished with value: 0.8118752241134644 and parameters: {'C': 3.928830049189095, 'penalty': 'none', 'l1_ratio': 0.17974547442634425, 'fit_intercept': True, 'KBestThresholdExplorer.k': 12.0}. Best is trial 6 with value: 0.8121656179428101.\n"
     ]
    },
    {
     "name": "stdout",
     "output_type": "stream",
     "text": [
      "                Feature selector time:   6.20457\n",
      "         Training and evaluation time:   0.78831\n"
     ]
    },
    {
     "name": "stderr",
     "output_type": "stream",
     "text": [
      "[I 2020-08-26 19:25:31,131] Trial 84 finished with value: 0.793971598148346 and parameters: {'C': 5.443303519942834, 'penalty': 'l2', 'l1_ratio': 0.11561430064148195, 'fit_intercept': True, 'KBestThresholdExplorer.k': 71.0}. Best is trial 6 with value: 0.8121656179428101.\n"
     ]
    },
    {
     "name": "stdout",
     "output_type": "stream",
     "text": [
      "                Feature selector time:   6.18740\n",
      "         Training and evaluation time:   0.46656\n"
     ]
    },
    {
     "name": "stderr",
     "output_type": "stream",
     "text": [
      "[I 2020-08-26 19:25:38,560] Trial 85 finished with value: 0.8122171759605408 and parameters: {'C': 4.824964726256241, 'penalty': 'none', 'l1_ratio': 0.1586677530597318, 'fit_intercept': True, 'KBestThresholdExplorer.k': 17.0}. Best is trial 85 with value: 0.8122171759605408.\n"
     ]
    },
    {
     "name": "stdout",
     "output_type": "stream",
     "text": [
      "                Feature selector time:   6.19840\n",
      "         Training and evaluation time:   0.47019\n"
     ]
    },
    {
     "name": "stderr",
     "output_type": "stream",
     "text": [
      "[I 2020-08-26 19:25:46,061] Trial 86 finished with value: 0.8117600083351135 and parameters: {'C': 4.772809738301467, 'penalty': 'none', 'l1_ratio': 0.0821251797832336, 'fit_intercept': False, 'KBestThresholdExplorer.k': 21.0}. Best is trial 85 with value: 0.8122171759605408.\n"
     ]
    },
    {
     "name": "stdout",
     "output_type": "stream",
     "text": [
      "                Feature selector time:   6.19133\n",
      "         Training and evaluation time:   1.08376\n"
     ]
    },
    {
     "name": "stderr",
     "output_type": "stream",
     "text": [
      "[I 2020-08-26 19:25:54,139] Trial 87 finished with value: 0.8118367791175842 and parameters: {'C': 5.2176219427088535, 'penalty': 'none', 'l1_ratio': 0.19898798669160503, 'fit_intercept': True, 'KBestThresholdExplorer.k': 27.0}. Best is trial 85 with value: 0.8122171759605408.\n"
     ]
    },
    {
     "name": "stdout",
     "output_type": "stream",
     "text": [
      "                Feature selector time:   6.21138\n",
      "         Training and evaluation time:   0.46761\n"
     ]
    },
    {
     "name": "stderr",
     "output_type": "stream",
     "text": [
      "[I 2020-08-26 19:26:01,576] Trial 88 finished with value: 0.8116160035133362 and parameters: {'C': 6.532605638448305, 'penalty': 'none', 'l1_ratio': 0.9978529449542637, 'fit_intercept': False, 'KBestThresholdExplorer.k': 17.0}. Best is trial 85 with value: 0.8122171759605408.\n"
     ]
    },
    {
     "name": "stdout",
     "output_type": "stream",
     "text": [
      "                Feature selector time:   6.18436\n",
      "         Training and evaluation time:   1.18197\n"
     ]
    },
    {
     "name": "stderr",
     "output_type": "stream",
     "text": [
      "[I 2020-08-26 19:26:09,716] Trial 89 finished with value: 0.8118764162063599 and parameters: {'C': 4.093255913745285, 'penalty': 'none', 'l1_ratio': 0.35420513245366153, 'fit_intercept': True, 'KBestThresholdExplorer.k': 43.0}. Best is trial 85 with value: 0.8122171759605408.\n"
     ]
    },
    {
     "name": "stdout",
     "output_type": "stream",
     "text": [
      "                Feature selector time:   6.18062\n",
      "         Training and evaluation time:   1.41572\n"
     ]
    },
    {
     "name": "stderr",
     "output_type": "stream",
     "text": [
      "[I 2020-08-26 19:26:18,281] Trial 90 finished with value: 0.8119384050369263 and parameters: {'C': 6.220860415838164, 'penalty': 'none', 'l1_ratio': 0.25834546279190956, 'fit_intercept': True, 'KBestThresholdExplorer.k': 39.0}. Best is trial 85 with value: 0.8122171759605408.\n"
     ]
    },
    {
     "name": "stdout",
     "output_type": "stream",
     "text": [
      "                Feature selector time:   6.17644\n",
      "         Training and evaluation time:   0.47780\n"
     ]
    },
    {
     "name": "stderr",
     "output_type": "stream",
     "text": [
      "[I 2020-08-26 19:26:25,711] Trial 91 finished with value: 0.8116363883018494 and parameters: {'C': 4.566893977942242, 'penalty': 'none', 'l1_ratio': 0.14155626872596638, 'fit_intercept': True, 'KBestThresholdExplorer.k': 14.0}. Best is trial 85 with value: 0.8122171759605408.\n"
     ]
    },
    {
     "name": "stdout",
     "output_type": "stream",
     "text": [
      "                Feature selector time:   6.19811\n",
      "         Training and evaluation time:   1.80412\n"
     ]
    },
    {
     "name": "stderr",
     "output_type": "stream",
     "text": [
      "[I 2020-08-26 19:26:34,471] Trial 92 finished with value: 0.8116008043289185 and parameters: {'C': 4.949261647153518, 'penalty': 'l1', 'l1_ratio': 0.10281938984638034, 'fit_intercept': True, 'KBestThresholdExplorer.k': 5.0}. Best is trial 85 with value: 0.8122171759605408.\n"
     ]
    },
    {
     "name": "stdout",
     "output_type": "stream",
     "text": [
      "                Feature selector time:   6.17216\n",
      "         Training and evaluation time:   0.36210\n"
     ]
    },
    {
     "name": "stderr",
     "output_type": "stream",
     "text": [
      "[I 2020-08-26 19:26:41,767] Trial 93 finished with value: 0.8117583990097046 and parameters: {'C': 5.0918163781348085, 'penalty': 'none', 'l1_ratio': 0.15933895014095834, 'fit_intercept': True, 'KBestThresholdExplorer.k': 9.0}. Best is trial 85 with value: 0.8122171759605408.\n"
     ]
    },
    {
     "name": "stdout",
     "output_type": "stream",
     "text": [
      "                Feature selector time:   6.19541\n",
      "         Training and evaluation time:   0.45792\n"
     ]
    },
    {
     "name": "stderr",
     "output_type": "stream",
     "text": [
      "[I 2020-08-26 19:26:49,181] Trial 94 finished with value: 0.811519205570221 and parameters: {'C': 3.7993279720360453, 'penalty': 'l2', 'l1_ratio': 0.05526795226252021, 'fit_intercept': True, 'KBestThresholdExplorer.k': 15.0}. Best is trial 85 with value: 0.8122171759605408.\n"
     ]
    },
    {
     "name": "stdout",
     "output_type": "stream",
     "text": [
      "                Feature selector time:   6.28822\n",
      "         Training and evaluation time:   0.38472\n"
     ]
    },
    {
     "name": "stderr",
     "output_type": "stream",
     "text": [
      "[I 2020-08-26 19:26:56,613] Trial 95 finished with value: 0.8116328120231628 and parameters: {'C': 4.222408447658136, 'penalty': 'none', 'l1_ratio': 0.22015329174210857, 'fit_intercept': True, 'KBestThresholdExplorer.k': 10.0}. Best is trial 85 with value: 0.8122171759605408.\n"
     ]
    },
    {
     "name": "stdout",
     "output_type": "stream",
     "text": [
      "                Feature selector time:   6.18250\n",
      "         Training and evaluation time:   7.60606\n"
     ]
    },
    {
     "name": "stderr",
     "output_type": "stream",
     "text": [
      "[I 2020-08-26 19:27:11,169] Trial 96 finished with value: 0.8118035793304443 and parameters: {'C': 4.732303958239602, 'penalty': 'l1', 'l1_ratio': 0.30223464604608596, 'fit_intercept': False, 'KBestThresholdExplorer.k': 23.0}. Best is trial 85 with value: 0.8122171759605408.\n"
     ]
    },
    {
     "name": "stdout",
     "output_type": "stream",
     "text": [
      "                Feature selector time:   6.40143\n",
      "         Training and evaluation time:   0.70341\n"
     ]
    },
    {
     "name": "stderr",
     "output_type": "stream",
     "text": [
      "[I 2020-08-26 19:27:19,038] Trial 97 finished with value: 0.8118643760681152 and parameters: {'C': 4.4363302310318495, 'penalty': 'none', 'l1_ratio': 0.0175602411609721, 'fit_intercept': True, 'KBestThresholdExplorer.k': 18.0}. Best is trial 85 with value: 0.8122171759605408.\n"
     ]
    },
    {
     "name": "stdout",
     "output_type": "stream",
     "text": [
      "                Feature selector time:   6.37651\n",
      "         Training and evaluation time:   0.87229\n"
     ]
    },
    {
     "name": "stderr",
     "output_type": "stream",
     "text": [
      "[I 2020-08-26 19:27:27,073] Trial 98 finished with value: 0.8116627931594849 and parameters: {'C': 3.479634879572732, 'penalty': 'l2', 'l1_ratio': 0.12407505947620462, 'fit_intercept': True, 'KBestThresholdExplorer.k': 20.0}. Best is trial 85 with value: 0.8122171759605408.\n"
     ]
    },
    {
     "name": "stdout",
     "output_type": "stream",
     "text": [
      "                Feature selector time:   6.40883\n",
      "         Training and evaluation time:   2.05524\n"
     ]
    },
    {
     "name": "stderr",
     "output_type": "stream",
     "text": [
      "[I 2020-08-26 19:27:36,308] Trial 99 finished with value: 0.8118224143981934 and parameters: {'C': 2.3648534254827274, 'penalty': 'none', 'l1_ratio': 0.15904578440667652, 'fit_intercept': True, 'KBestThresholdExplorer.k': 64.0}. Best is trial 85 with value: 0.8122171759605408.\n",
      "Optuna selector is not last component.\n"
     ]
    },
    {
     "name": "stdout",
     "output_type": "stream",
     "text": [
      "         Training and evaluation time:   0.90711\n"
     ]
    },
    {
     "name": "stderr",
     "output_type": "stream",
     "text": [
      "Registered model 'rapids-optuna-airline' already exists. Creating a new version of this model...\n",
      "Created version '17' of model 'rapids-optuna-airline'.\n"
     ]
    },
    {
     "name": "stdout",
     "output_type": "stream",
     "text": [
      "                     FS + Optuna time:  988.27946\n",
      "        Complete RAPIDS workflow time:  1047.02740\n"
     ]
    }
   ],
   "source": [
    "with timed(\"Complete RAPIDS workflow\"):\n",
    "    df_ = cudf.read_parquet(INPUT_FILE)[:N_ROWS]\n",
    "\n",
    "    df_ = df_.drop([\"ActualElapsedTime\"], axis=1)\n",
    "    # Can't handle nagative values, yet\n",
    "    # indices = df_.loc[df_[\"ActualElapsedTime\"] < 0].index\n",
    "    # df_.loc[indices, \"ActualElapsedTime\"] = -1 * df_.loc[indices, \"ActualElapsedTime\"]\n",
    "    # cuML can't handle object types\n",
    "    # df_[\"ArrDelayBinary\"] = df_[\"ArrDelayBinary\"].astype('int32')\n",
    "    with timed(\"Default\"):\n",
    "        print(\"Default performance: \", train_and_eval(df_))\n",
    "    # We cast to objects for categorical  and target encoding\n",
    "    df_[\"UniqueCarrier\"] = df_[\"UniqueCarrier\"].astype(\"object\")\n",
    "    df_[\"Origin\"] = df_[\"Origin\"].astype(\"object\")\n",
    "    df_[\"Dest\"] = df_[\"Dest\"].astype(\"object\")\n",
    "    with timed(\"FE\"):\n",
    "        df_feature_eng = feature_engineering(df_)\n",
    "        df_feature_eng[\"ArrDelayBinary\"] = df_feature_eng[\"ArrDelayBinary\"].astype('float64')\n",
    "        score = train_and_eval(df_feature_eng)\n",
    "        print(\"After feature eng: \", score)\n",
    "    # Disable Alembic driver, used by MLflow, from logging INFO messages to the command line.\n",
    "    with timed(\"FS + Optuna\"):\n",
    "        logging.getLogger('alembic').setLevel(logging.CRITICAL)\n",
    "        study, df_select = feature_selection(df_feature_eng, experiment_name='Optuna Testing')"
   ]
  },
  {
   "cell_type": "code",
   "execution_count": 9,
   "metadata": {},
   "outputs": [],
   "source": [
    "df_select[\"ArrDelayBinary\"] = df_[\"ArrDelayBinary\"].astype('float64')"
   ]
  },
  {
   "cell_type": "code",
   "execution_count": 10,
   "metadata": {},
   "outputs": [
    {
     "name": "stdout",
     "output_type": "stream",
     "text": [
      "         Training and evaluation time:   0.38069\n",
      "After feature selection and paramter tuning:  0.8126248121261597\n"
     ]
    }
   ],
   "source": [
    "params = study.best_params\n",
    "score, classifier, signature = train_and_eval(df_select,\n",
    "                      C=params['C'],\n",
    "                      penalty=params['penalty'],\n",
    "                      l1_ratio=params['l1_ratio'],\n",
    "                      fit_intercept=params['fit_intercept'],\n",
    "                      return_model=True)\n",
    "\n",
    "print(\"After feature selection and paramter tuning: \", score)\n"
   ]
  },
  {
   "cell_type": "markdown",
   "metadata": {},
   "source": [
    "## Performance Summarization\n",
    "\n",
    "We see that GPU runs are faster for 100,000 rows and we are able to obtain speedups of `TBD`. For more performance improvements, you are encouraged to increased the number of rows and/or number of trials. This will result in a big boost in accuracy. Keep in mind, you do not want to run the experiment on CPU with a larger number of rows, as this will result in the kernel crashing.\n",
    "\n",
    "|Number of rows| Trials| CPU | GPU|\n",
    "|-|-|-|-|\n",
    "|100,000|10|250.09533|14.79310|\n",
    "|1,000,000|10|-|31.44453|\n",
    "|10,000,000|10|-|315.21524|\n",
    "|10,000,000|100|-|1047.02740|"
   ]
  },
  {
   "cell_type": "markdown",
   "metadata": {},
   "source": [
    "Now, that we have seen the performance improvement, let's look at how we can retrieve this model with MLFlow.\n",
    "\n",
    "### Launch our optimized model within the MLflow framework.\n",
    "Run the code block below to identify the most recently registered model, with the 'rapids-optuna-airline' tag; after identifying the latest model version, run the code below in a separate terminal, and wait for it to fully load your model."
   ]
  },
  {
   "cell_type": "code",
   "execution_count": 11,
   "metadata": {},
   "outputs": [
    {
     "name": "stdout",
     "output_type": "stream",
     "text": [
      "Run the command below in a terminal, and wait for it to load your model:\n",
      "\n",
      "        MLFLOW_TRACKING_URI=sqlite:////tmp/mlflow-db.sqlite mlflow models serve --no-conda -m models:/rapids-optuna-airline/17 -p 56767\n"
     ]
    }
   ],
   "source": [
    "print(f\"Run the command below in a terminal, and wait for it to load your model:\\n\\n  \\\n",
    "      {get_latest_mlflow_model(MLFLOW_TRACKING_URI, MLFLOW_MODEL_ID)}\")"
   ]
  },
  {
   "cell_type": "markdown",
   "metadata": {},
   "source": [
    "You should see output similar to the following:\n",
    "\n",
    "```shell\n",
    "2020/07/27 13:59:49 INFO mlflow.models.cli: Selected backend for flavor 'python_function'\n",
    "2020/07/27 13:59:49 INFO mlflow.pyfunc.backend: === Running command 'source /anaconda3/bin/../etc/profile.d/conda.sh && conda activate mlflow-3335621df6011b1847d2555b195418d4496e5ffd 1>&2 && gunicorn --timeout=60 -b 127.0.0.1:5000 -w 1 ${GUNICORN_CMD_ARGS} -- mlflow.pyfunc.scoring_server.wsgi:app'\n",
    "[2020-07-27 13:59:50 -0600] [23779] [INFO] Starting gunicorn 20.0.4\n",
    "[2020-07-27 13:59:50 -0600] [23779] [INFO] Listening at: http://127.0.0.1:5000 (23779)\n",
    "[2020-07-27 13:59:50 -0600] [23779] [INFO] Using worker: sync\n",
    "[2020-07-27 13:59:50 -0600] [23788] [INFO] Booting worker with pid: 23788\n",
    "```"
   ]
  },
  {
   "cell_type": "code",
   "execution_count": 12,
   "metadata": {},
   "outputs": [],
   "source": [
    "host='localhost'\n",
    "port='56767'\n",
    "\n",
    "headers = {\n",
    "    \"Content-Type\": \"application/json\",\n",
    "    \"format\": \"pandas-split\"\n",
    "}\n",
    "\n",
    "data = { \n",
    "    \"columns\": [\"Year\", \"Month\", \"DayofMonth\", \"DayofWeek\", \"CRSDepTime\", \"CRSArrTime\", \"UniqueCarrier\",\n",
    "                \"FlightNum\", \"ActualElapsedTime\", \"Origin\", \"Dest\", \"Distance\", \"Diverted\"],\n",
    "    \"data\": [[1987, 10, 1, 4, 1, 556, 0, 190, 247, 202, 162, 1846, 0]]\n",
    "}\n",
    "\n",
    "while (True):\n",
    "    try:\n",
    "        resp = requests.post(url=\"http://%s:%s/invocations\" % (host, port), data=json.dumps(data), headers=headers)\n",
    "        print('Classification: %s' % (\"ON-Time\" if resp.text == \"[0.0]\" else \"LATE\"))\n",
    "        break\n",
    "    except Exception as e:\n",
    "        errmsg = \"Caught exception attempting to call model endpoint: %s\" % e\n",
    "        print(errmsg)\n",
    "        print(\"... Sleeping ...\")\n",
    "        time.sleep(20)"
   ]
  },
  {
   "cell_type": "markdown",
   "metadata": {},
   "source": [
    "## Additional Resources\n",
    "[How to Win a DS Kaggle competition](https://www.coursera.org/learn/competitive-data-science)\n",
    "\n",
    "[Target Encoding and Bayesian Target Encoding](https://towardsdatascience.com/target-encoding-and-bayesian-target-encoding-5c6a6c58ae8c)\n"
   ]
  }
 ],
 "metadata": {
  "kernelspec": {
   "display_name": "Python 3",
   "language": "python",
   "name": "python3"
  },
  "language_info": {
   "codemirror_mode": {
    "name": "ipython",
    "version": 3
   },
   "file_extension": ".py",
   "mimetype": "text/x-python",
   "name": "python",
   "nbconvert_exporter": "python",
   "pygments_lexer": "ipython3",
   "version": "3.7.8"
  }
 },
 "nbformat": 4,
 "nbformat_minor": 4
}
